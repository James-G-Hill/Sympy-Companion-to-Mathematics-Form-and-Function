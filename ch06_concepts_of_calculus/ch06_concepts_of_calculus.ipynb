{
 "cells": [
  {
   "cell_type": "markdown",
   "metadata": {},
   "source": [
    "# Maths - Form & Function: Chapter 6 (Concepts of Calculus)"
   ]
  },
  {
   "cell_type": "markdown",
   "metadata": {},
   "source": [
    "## 1. Origins"
   ]
  },
  {
   "cell_type": "markdown",
   "metadata": {},
   "source": [
    "There are a number of observations from which calculus arises:\n",
    "\n",
    "- the circumference of a circle through Euclidean geometry\n",
    "- the construction of tangents for ellipses, hyperbolas, and parabolas\n",
    "- the change of velocity of moving bodies\n",
    "- rates of change in Mathematical Economics (widget cost decreasing)"
   ]
  },
  {
   "cell_type": "markdown",
   "metadata": {},
   "source": [
    "## 2. Integration"
   ]
  },
  {
   "cell_type": "markdown",
   "metadata": {},
   "source": [
    "There are 2 readings of the definite integral:\n",
    "\n",
    "1. the width *dx* of each strip is an infinitesimal increment in *x*; the integral represents an infinite sum of infiniteismal quantities.\n",
    "\n",
    "2. the desired area is approximated by a finite sum of the ares of the rectangles of finite width."
   ]
  },
  {
   "cell_type": "markdown",
   "metadata": {},
   "source": [
    "Below we calculate the lower and upper sums and see that as the sigma (number of subdivisions of *f*) gets smaller, then those sums approach the definite integral."
   ]
  },
  {
   "cell_type": "code",
   "execution_count": 1,
   "metadata": {},
   "outputs": [
    {
     "name": "stdout",
     "output_type": "stream",
     "text": [
      "Definite integral must be between:\n",
      "Lower sum: 4600\n",
      "Upper sum: 5490\n",
      "\n",
      "Definite integral must be between:\n",
      "Lower sum: 4850\n",
      "Upper sum: 5245\n",
      "\n",
      "Definite integral must be between:\n",
      "Lower sum: 4950\n",
      "Upper sum: 4950\n",
      "\n"
     ]
    }
   ],
   "source": [
    "def calculate_integrals(f, sigma):\n",
    "    \"\"\" Calculates the integral to sigma divisions. \"\"\"\n",
    "    if sigma > 0:\n",
    "        dx = [f[x:x+sigma] for x in range(0, len(f), sigma)]\n",
    "        lower_sum = sum([min(x) * sigma for x in dx])\n",
    "        upper_sum = sum([max(x) * sigma for x in dx])\n",
    "        print(\"Definite integral must be between:\")\n",
    "        print(\"Lower sum: \" + str(lower_sum))\n",
    "        print(\"Upper sum: \" + str(upper_sum) + \"\\n\")\n",
    "    else:\n",
    "        print(\"Sigma is equal to 0.\")\n",
    "    \n",
    "f = list(range(1, 100))\n",
    "\n",
    "calculate_integrals(f, 10)\n",
    "calculate_integrals(f, 5)\n",
    "calculate_integrals(f, 1)"
   ]
  },
  {
   "cell_type": "markdown",
   "metadata": {},
   "source": [
    "## 3. Derivatives"
   ]
  },
  {
   "cell_type": "markdown",
   "metadata": {},
   "source": [
    "> The derivative of a variable quantity *y* with respect to another such quantity *x* on which it depends is to be the instantaneous rate of change of *y* relative to the change in *x*."
   ]
  },
  {
   "cell_type": "markdown",
   "metadata": {},
   "source": [
    "In the following, we see that a derivative is defined in the same manner as the limit; as the increment *h* reduces, then the derivative is more accurately defined."
   ]
  },
  {
   "cell_type": "code",
   "execution_count": 2,
   "metadata": {},
   "outputs": [
    {
     "name": "stdout",
     "output_type": "stream",
     "text": [
      "h == 5 : derivative = 0.18524193653371795\n",
      "h == 4 : derivative = 0.19098300562505255\n",
      "h == 3 : derivative = 0.19745304908213349\n",
      "h == 2 : derivative = 0.20484166678240046\n",
      "h == 1 : derivative = 0.21342176528338808\n"
     ]
    }
   ],
   "source": [
    "import math\n",
    "\n",
    "def derivative(f, x, h):\n",
    "    \"\"\" Definition of the derivative.\n",
    "    \n",
    "    f - a function.\n",
    "    x - a point on the x axis.\n",
    "    h - a quantity to add to x.\n",
    "    a - another quantity\n",
    "    \"\"\"\n",
    "    a = x\n",
    "    if h > 1:\n",
    "        for y in range(h, 0, -1):\n",
    "            dividend = f(x + y) - f(a)\n",
    "            divisor = y\n",
    "            result = dividend / divisor\n",
    "            print(\"h == \" + str(y) + \" : derivative = \" + str(result))\n",
    "    return\n",
    "\n",
    "derivative(math.sqrt, 5, 5)"
   ]
  },
  {
   "cell_type": "markdown",
   "metadata": {},
   "source": [
    "## 4. The Fundamental Theorem of the Integral Calculus"
   ]
  },
  {
   "cell_type": "markdown",
   "metadata": {},
   "source": [
    "**Theorem**  \n",
    "If the function *F(t)* has a continuous derivative *F(t)* = *F'(t)* on the interval *a* <= *t* <= *b* then:"
   ]
  },
  {
   "cell_type": "markdown",
   "metadata": {},
   "source": [
    "$$\n",
    "\\int_{a}^{b} f(t)dt = F(b) - F(a)\n",
    "$$"
   ]
  },
  {
   "cell_type": "markdown",
   "metadata": {},
   "source": [
    "**Lemma A**  \n",
    "If a continuous function *F(t)*, defined for all *t* with *a* <= *t* <= *b*, has a derivative 0 for every such *t*, then *F(t)* is constant for all *t* with *a* <= *t* <= *b*"
   ]
  },
  {
   "cell_type": "markdown",
   "metadata": {},
   "source": [
    "**Lemma B**  \n",
    "If the function *f(t)* is bounded between two constants *m* and *M*, so that *m* <= *f(t)* <= *M* for all *t* with *a* <= *t* <= *b*, then the definite integral of *f(t)* satisfies the inequalities"
   ]
  },
  {
   "cell_type": "markdown",
   "metadata": {},
   "source": [
    "$$\n",
    "(b - a)m \\leq \\int_{a}^{b} f(t)dt \\leq (b - a)M\n",
    "$$"
   ]
  },
  {
   "cell_type": "markdown",
   "metadata": {},
   "source": [
    "## 5. Kepler's Laws and Newton's Laws"
   ]
  },
  {
   "cell_type": "code",
   "execution_count": 3,
   "metadata": {},
   "outputs": [
    {
     "name": "stdout",
     "output_type": "stream",
     "text": [
      "90.0\n"
     ]
    }
   ],
   "source": [
    "def body_falling_in_gravity(g, t, v0, s0):\n",
    "    \"\"\" Calculate the acceleration of body falling in gravity.\n",
    "    g = constant accelaration of gravity\n",
    "    t = time\n",
    "    v0 = initial velocity\n",
    "    s0 = coordinate of body at time t\n",
    "    \"\"\"\n",
    "    return (1/2) * g * t**2 + v0 * t + s0\n",
    "\n",
    "print(body_falling_in_gravity(1, 10, 2, 20))"
   ]
  },
  {
   "cell_type": "code",
   "execution_count": 4,
   "metadata": {},
   "outputs": [
    {
     "name": "stdout",
     "output_type": "stream",
     "text": [
      "x acceleration is : -0.016645873461885695\n",
      "y acceleration is : 0.036371897073027265\n"
     ]
    }
   ],
   "source": [
    "def acceleration_of_planet_in_solar_plane(A, theta, r):\n",
    "    \"\"\" Calculate the accelaration of planet in solar plane.\n",
    "    A = proportionality constant\n",
    "    theta = angle\n",
    "    r = radius\n",
    "    \"\"\"\n",
    "    x_accl = A * math.cos(theta) / r**2\n",
    "    y_accl = A * math.sin(theta) / r**2\n",
    "    return x_accl, y_accl\n",
    "\n",
    "x, y = acceleration_of_planet_in_solar_plane(1, 2, 5)\n",
    "print(\"x acceleration is : \" + str(x))\n",
    "print(\"y acceleration is : \" + str(y))"
   ]
  },
  {
   "cell_type": "code",
   "execution_count": 5,
   "metadata": {},
   "outputs": [],
   "source": [
    "def path_of_body_in_gravity(vx, vy, y, x, g):\n",
    "    \"\"\" Calculate parabola of body under gravity.\n",
    "    vx = velocity in x\n",
    "    vy = velocity in y\n",
    "    y = y coordinate\n",
    "    x = x coordinate\n",
    "    g = gravity\n",
    "    \"\"\"\n",
    "    return g * x**2 + 2 * vx * vy * x"
   ]
  },
  {
   "cell_type": "markdown",
   "metadata": {},
   "source": [
    "## 6. Differential Equations"
   ]
  },
  {
   "cell_type": "markdown",
   "metadata": {},
   "source": [
    "> A typical differential equation . . . will determine some unknown function *x* of the variable *t* by giving the first derivative of *x*,\n",
    "\n",
    "$$\n",
    "dx/dt = h(x, t)\n",
    "$$\n",
    "\n",
    ">in terms of a known function *h* of the two quantities *x* and *t*."
   ]
  },
  {
   "cell_type": "markdown",
   "metadata": {},
   "source": [
    "Finding the solution to a differential equation is then a search for some function $x = g(t)$ defined for a suitable range of *t* and such that this function with its derivatives satisfies the given differential equation:"
   ]
  },
  {
   "cell_type": "markdown",
   "metadata": {},
   "source": [
    "$$\n",
    "g'(t) = h(g(t), t)\n",
    "$$"
   ]
  },
  {
   "cell_type": "markdown",
   "metadata": {},
   "source": [
    "To find a solution function *g* we can:\n",
    "\n",
    "- use rules & tricks such as change variables to more manageable quantities\n",
    "- attempt numerical methods\n",
    "- try to invent a new function *g* to do the job"
   ]
  },
  {
   "cell_type": "markdown",
   "metadata": {},
   "source": [
    "The Picard theorem is an *existence theorem* that can be used to specify conditions under which a solution to *g* must exist & that also make the solution unique."
   ]
  },
  {
   "cell_type": "markdown",
   "metadata": {},
   "source": [
    "***"
   ]
  },
  {
   "cell_type": "markdown",
   "metadata": {},
   "source": [
    "## 7. Foundations of Calculus"
   ]
  },
  {
   "cell_type": "markdown",
   "metadata": {},
   "source": [
    "Plausible properties of any real valued function *f* continuous on the interval [0,1] where all *x* are between and equal to 0 and 1:"
   ]
  },
  {
   "cell_type": "markdown",
   "metadata": {},
   "source": [
    "1. $f$ is bounded\n",
    "$$\n",
    "m \\le f(x) \\le M\n",
    "$$"
   ]
  },
  {
   "cell_type": "markdown",
   "metadata": {},
   "source": [
    "2. $f$ takes on its maximum; there is a point $x_0$ in [0,1] such that $f(x) \\le f(x_0)$ for all $x \\in [0,1]$"
   ]
  },
  {
   "cell_type": "markdown",
   "metadata": {},
   "source": [
    "3. $f$ takes on its minimum in the interval [0,1]"
   ]
  },
  {
   "cell_type": "markdown",
   "metadata": {},
   "source": [
    "4. $f$ takes on all intermediate values"
   ]
  },
  {
   "cell_type": "markdown",
   "metadata": {},
   "source": [
    "5. $f$ is uniformly continuous in [0,1]:\n",
    "\n",
    "$$\n",
    "|x_1 - x_2| \\lt \\delta \\Rightarrow |f(x_1) - f(x_2)| \\lt \\epsilon\n",
    "$$"
   ]
  },
  {
   "cell_type": "markdown",
   "metadata": {},
   "source": [
    "6. Rolle's Theorem; if $f(0) = f(1)$ and $f$ has a first derivative at every point $x$ with $0 \\lt x \\lt 1$, then there is a point $\\xi$ where $0 \\lt \\xi \\lt 1$ with $f'(\\xi) = 0$.  The graph has a horizontal tangent somewhere"
   ]
  },
  {
   "cell_type": "markdown",
   "metadata": {},
   "source": [
    "7. Law of the Mean; there is a point $\\xi$ in $0, \\lt \\xi \\lt 1$ where $f'(\\xi) = f(1) - f(0)$. The graph has a tangent parallel to the longest secant."
   ]
  },
  {
   "cell_type": "markdown",
   "metadata": {},
   "source": [
    "***"
   ]
  },
  {
   "cell_type": "markdown",
   "metadata": {},
   "source": [
    "**Lemma** (Heine-Borel alias Borel-Lebesgue  \n",
    "If the interval [0,1] is contained in the union of open intervals $U_i$ (for *i* in any index set *I*), then [0,1] is contained in the union of a finite number of these $U_i$."
   ]
  },
  {
   "cell_type": "markdown",
   "metadata": {},
   "source": [
    "***"
   ]
  },
  {
   "cell_type": "markdown",
   "metadata": {},
   "source": [
    "**Therorem 1.**  \n",
    "Any continuous real valued function $f: M \\to R$ on a compact metric space $M$ is uniformly continuous"
   ]
  },
  {
   "cell_type": "markdown",
   "metadata": {},
   "source": [
    "***"
   ]
  },
  {
   "cell_type": "markdown",
   "metadata": {},
   "source": [
    "The development & foundation of the calculus led to many issues arising such as:\n",
    "\n",
    "- concept of compactness\n",
    "- careful conception of a limit\n",
    "- careful use of logical quantifiers\n",
    "- consideration of limits in $R^2$ and $R^3$\n",
    "- topological spaces\n",
    "- uniform continuity\n",
    "- & more ..."
   ]
  },
  {
   "cell_type": "markdown",
   "metadata": {},
   "source": [
    "***"
   ]
  },
  {
   "cell_type": "markdown",
   "metadata": {},
   "source": [
    "## 8. Approximations and Taylor's Series"
   ]
  },
  {
   "cell_type": "code",
   "execution_count": 6,
   "metadata": {},
   "outputs": [
    {
     "name": "stdout",
     "output_type": "stream",
     "text": [
      "a**2 + 2*a - a**1.5 + (-a + x)*(-1.5*a**0.5 + 2*a + 2)\n"
     ]
    },
    {
     "data": {
      "text/plain": [
       "<Figure size 640x480 with 1 Axes>"
      ]
     },
     "metadata": {},
     "output_type": "display_data"
    }
   ],
   "source": [
    "# The 1st derivative of a function allows an approximation of that\n",
    "# function by a linear function:\n",
    "\n",
    "from matplotlib import pyplot as plt\n",
    "from sympy import *\n",
    "\n",
    "a = Symbol('a')\n",
    "x = Symbol('x')\n",
    "\n",
    "f = lambda z: z**2 - z**1.5 + 2 * z\n",
    "linear_approximation = f(a) + (x - a) * f(a).diff(a)\n",
    "print(linear_approximation)\n",
    "\n",
    "linear_approximation = lambdify((x, a), linear_approximation)\n",
    "\n",
    "hold_a = 5\n",
    "x_hat = [f(y) for y in list(range(0, 11))]\n",
    "y_hat = [linear_approximation(y, hold_a) for y in list(range(0, 11))]\n",
    "\n",
    "plt.plot(x_hat, label = \"f(x)\")\n",
    "plt.plot(y_hat, label = \"linear approximation\")\n",
    "plt.legend()\n",
    "plt.show()\n",
    "\n",
    "# In the chart below we see that as 'x' approaches 'a' the value of\n",
    "# f(a) approximates ever more closely the value of f(x)\n",
    "# the linear function is tangent to f(x) where x = a"
   ]
  },
  {
   "cell_type": "code",
   "execution_count": 7,
   "metadata": {},
   "outputs": [
    {
     "name": "stdout",
     "output_type": "stream",
     "text": [
      "a**2 + 2*a - a**1.5 + (2 - 0.75*ex**(-0.5))*(-a + x)**2/2 + (-a + x)*(-1.5*a**0.5 + 2*a + 2)\n"
     ]
    },
    {
     "data": {
      "image/png": "[encoded data removed]",
      "text/plain": [
       "<Figure size 432x288 with 1 Axes>"
      ]
     },
     "metadata": {
      "needs_background": "light"
     },
     "output_type": "display_data"
    }
   ],
   "source": [
    "# If there is a 2nd derivative then a smaller value means the liner approximation is good.\n",
    "ex = Symbol('ex')\n",
    "\n",
    "second_app = f(a) + (x - a) * diff(f(a), a) + diff(f(ex), ex, 2) * (((x - a)**2) / 2)\n",
    "print(second_app)\n",
    "second_app = lambdify((x, a, ex), second_app)\n",
    "\n",
    "ex_hat_1 = [second_app(y, hold_a, 1) for y in list(range(0, 11))]\n",
    "ex_hat_2 = [second_app(y, hold_a, 2.5) for y in list(range(0, 11))]\n",
    "ex_hat_3 = [second_app(y, hold_a, 4) for y in list(range(0, 11))]\n",
    "\n",
    "plt.plot(x_hat, label = \"f(x)\")\n",
    "plt.plot(ex_hat_1, label = \"second approximation 1\")\n",
    "plt.plot(ex_hat_2, label = \"second approximation 2\")\n",
    "plt.plot(ex_hat_3, label = \"second approximation 3\")\n",
    "plt.legend()\n",
    "plt.show()"
   ]
  },
  {
   "cell_type": "code",
   "execution_count": 8,
   "metadata": {},
   "outputs": [
    {
     "name": "stdout",
     "output_type": "stream",
     "text": [
      "23.81966011250105\n",
      "23.81966011250105\n"
     ]
    },
    {
     "data": {
      "image/png": "[encoded data removed]",
      "text/plain": [
       "<Figure size 432x288 with 1 Axes>"
      ]
     },
     "metadata": {
      "needs_background": "light"
     },
     "output_type": "display_data"
    }
   ],
   "source": [
    "# Below we see Taylor's theorem; the first n-1 derivatives of f provide coefficients\n",
    "# for an approximation to f by a polynomial of degree n-1\n",
    "\n",
    "n = Symbol('n')\n",
    "\n",
    "# Had to hardcode 3 as number of derivatives (same as n)\n",
    "taylors_theorem = f(a) + sum(\n",
    "    [\n",
    "        diff(f(a), a, k) * (((x - a)**k) / factorial(k))\n",
    "        for k in [x for x in range(1, 3)]\n",
    "    ]) + diff(f(ex), ex, n) * (((x - a)**n) / factorial(n))\n",
    "\n",
    "taylors_theorem = lambdify((x, a, ex, n), taylors_theorem)\n",
    "x_value = 5\n",
    "ex_value = 2\n",
    "n_derivatives = 3\n",
    "\n",
    "print(f(x_value))\n",
    "print(taylors_theorem(x_value, hold_a, ex_value, n_derivatives))\n",
    "\n",
    "t_series = [\n",
    "    taylors_theorem(y, hold_a, ex_value, n_derivatives) for y in range(0, 11)\n",
    "]\n",
    "\n",
    "plt.plot(x_hat, label = \"f(x)\")\n",
    "plt.plot(t_series, label = \"taylor theorem\")\n",
    "plt.legend()\n",
    "plt.show()"
   ]
  },
  {
   "cell_type": "code",
   "execution_count": 9,
   "metadata": {},
   "outputs": [
    {
     "data": {
      "image/png": "[encoded data removed]",
      "text/plain": [
       "<Figure size 432x288 with 1 Axes>"
      ]
     },
     "metadata": {
      "needs_background": "light"
     },
     "output_type": "display_data"
    }
   ],
   "source": [
    "# Had to hardcode the limit in range (100); could go to infinity\n",
    "# The Taylor's series should be equivalent to the true curve\n",
    "taylors_series = sum(\n",
    "    [\n",
    "        diff(f(a), a, k) * ((x - a)**k / factorial(k))\n",
    "        for k in range(0, 100)\n",
    "    ]\n",
    ")\n",
    "\n",
    "taylors_series = lambdify((x, a), taylors_series)\n",
    "t_series = [taylors_series(y, hold_a) for y in range(0, 11)]\n",
    "\n",
    "plt.plot(x_hat, label = \"f(x)\")\n",
    "plt.plot(t_series, label = \"taylors series\")\n",
    "plt.legend()\n",
    "plt.show()"
   ]
  },
  {
   "cell_type": "markdown",
   "metadata": {},
   "source": [
    "***"
   ]
  },
  {
   "cell_type": "markdown",
   "metadata": {},
   "source": [
    "## 9. Partial Derivatives"
   ]
  },
  {
   "cell_type": "code",
   "execution_count": 10,
   "metadata": {},
   "outputs": [
    {
     "name": "stdout",
     "output_type": "stream",
     "text": [
      "True\n",
      "True\n",
      "True\n"
     ]
    }
   ],
   "source": [
    "def calculus_chain_rule(delta_z, delta_y, delta_x):\n",
    "    \"\"\"\n",
    "    Shows the chain rule for calculus.\n",
    "    delta_z = z increment\n",
    "    delta_y = y increment\n",
    "    delta_x = x increment\n",
    "    \"\"\"\n",
    "    derivative_z_x = delta_z / delta_x\n",
    "    derivative_z_y = delta_z / delta_y\n",
    "    derivative_y_x = delta_y / delta_x\n",
    "    \n",
    "    return derivative_z_x == derivative_z_y * derivative_y_x\n",
    "\n",
    "print(calculus_chain_rule(3, 5, 3))\n",
    "print(calculus_chain_rule(10, 2, 4))\n",
    "print(calculus_chain_rule(.4, .5, 2.1))"
   ]
  },
  {
   "cell_type": "code",
   "execution_count": 11,
   "metadata": {},
   "outputs": [
    {
     "data": {
      "image/png": "[encoded data removed]",
      "text/plain": [
       "<Figure size 432x288 with 1 Axes>"
      ]
     },
     "metadata": {
      "needs_background": "light"
     },
     "output_type": "display_data"
    }
   ],
   "source": [
    "import numpy as np\n",
    "\n",
    "def partial_derivative_x(fn, x, y, h):\n",
    "    \"\"\" Calculates partial derivative as h approaches 0.\n",
    "        There is a similar partial derivative for the y.\n",
    "    \n",
    "    fn = a function of 2 variables\n",
    "    x = the x input\n",
    "    y = the y input\n",
    "    h = the variable approaching the limit\n",
    "    \"\"\"\n",
    "    numerator = fn(x + h, y) - fn(x, y)\n",
    "    denominator = h\n",
    "    return numerator / denominator\n",
    "\n",
    "def partial_derivative_y(fn, x, y, h):\n",
    "    \"\"\" Calculates partial derivative as h approaches 0. \"\"\"\n",
    "    numerator = fn(x, y + h) - fn(x, y)\n",
    "    denominator = h\n",
    "    return numerator / denominator\n",
    "\n",
    "\n",
    "derivs = [partial_derivative_x(pow, 2, 5, h) for h in np.arange(.1, 1, .1)]\n",
    "\n",
    "plt.plot(np.arange(.1, 1, .1), derivs, label = \"derivative z with x\")\n",
    "plt.xlabel('h')\n",
    "plt.show()"
   ]
  },
  {
   "cell_type": "markdown",
   "metadata": {},
   "source": [
    "> For $z = f(x,y)$ these two partial derivatives give the rate of change of $z$ when the point $(x,y)$ in the plane moves horizontally (in the $x$ direction) r vertically (in the $y$ direction)."
   ]
  },
  {
   "cell_type": "code",
   "execution_count": 12,
   "metadata": {},
   "outputs": [
    {
     "name": "stdout",
     "output_type": "stream",
     "text": [
      "(2.8775825618903728, 5.479425538604203)\n"
     ]
    }
   ],
   "source": [
    "def z_change_non_vertical_non_horizontal(x, y, t, theta):\n",
    "    \"\"\" Calculates rate of change of z along 2 axis given t & angle.\n",
    "    x = original x position\n",
    "    y = original y position\n",
    "    t = change in direction of angle\n",
    "    theta = the angle\n",
    "    \"\"\"\n",
    "    x = x + math.cos(theta) * t\n",
    "    y = y + math.sin(theta) * t\n",
    "    return x, y\n",
    "\n",
    "print(z_change_non_vertical_non_horizontal(2, 5, 1, .5))"
   ]
  },
  {
   "cell_type": "code",
   "execution_count": 13,
   "metadata": {},
   "outputs": [
    {
     "name": "stdout",
     "output_type": "stream",
     "text": [
      "127.94697201345433\n"
     ]
    }
   ],
   "source": [
    "def directional_derivative(jdx, jdy, theta):\n",
    "    \"\"\" Equals the result of dz / dt. \"\"\"\n",
    "    zx = jdx * math.cos(theta)\n",
    "    zy = jdy * math.sin(theta)\n",
    "    return zx + zy\n",
    "\n",
    "jdx = partial_derivative_x(pow, 2, 5, .5)\n",
    "jdy = partial_derivative_y(pow, 2, 5, .5)\n",
    "print(directional_derivative(jdx, jdy, .5))"
   ]
  },
  {
   "cell_type": "code",
   "execution_count": 14,
   "metadata": {},
   "outputs": [
    {
     "name": "stdout",
     "output_type": "stream",
     "text": [
      "15.782216799187811\n"
     ]
    }
   ],
   "source": [
    "def total_differential(jdx, dx, jdy, dy):\n",
    "    \"\"\" The total differential of z. Gives total change in z\n",
    "    due to infinitesimal changes dx & dy.\n",
    "    jdx = partial derivative x\n",
    "    dx = infinitisemal change in x\n",
    "    jdy = partial derivative y\n",
    "    dy = infinitisemal change in y\n",
    "    \"\"\"\n",
    "    dz = (jdx * dx) + (jdy * dy)\n",
    "    return dz\n",
    "\n",
    "print(total_differential(jdx, .1, jdy, .1))"
   ]
  },
  {
   "cell_type": "code",
   "execution_count": 15,
   "metadata": {},
   "outputs": [
    {
     "name": "stdout",
     "output_type": "stream",
     "text": [
      "(131.3125, 26.50966799187809)\n"
     ]
    }
   ],
   "source": [
    "def gradient_of_z(fn, x = 0, y = 0, h = .5):\n",
    "    \"\"\" Return the gradient (a vector) of z. \"\"\"\n",
    "    jdx = partial_derivative_x(fn, x, y, h)\n",
    "    jdy = partial_derivative_y(fn, x, y, h)\n",
    "    return (jdx, jdy)\n",
    "\n",
    "print(gradient_of_z(pow, 2, 5, .5))"
   ]
  },
  {
   "cell_type": "markdown",
   "metadata": {},
   "source": [
    "> This vector \"points\" in the direction of the maximum rate of increase of the function $f$, and has that rate as its length. The functio $f$ determines one such vector at each point of the plane. At each point, all such vectors for all $f$ form a two-dimensional vector space, called the *cotangent space* attached to the plane at that point."
   ]
  },
  {
   "cell_type": "code",
   "execution_count": 16,
   "metadata": {},
   "outputs": [
    {
     "name": "stdout",
     "output_type": "stream",
     "text": [
      "(0.1, 0.1)\n"
     ]
    }
   ],
   "source": [
    "def tangent_vector(dx, dy, dt):\n",
    "    \"\"\" Gives the velocity of a moving point.\n",
    "    dx = x value\n",
    "    dy = y value\n",
    "    dt = time value\n",
    "    \"\"\"\n",
    "    a = dx / dt\n",
    "    b = dy / dt\n",
    "    return (a, b)\n",
    "\n",
    "print(tangent_vector(.1, .1, 1))"
   ]
  },
  {
   "cell_type": "code",
   "execution_count": 17,
   "metadata": {},
   "outputs": [
    {
     "name": "stdout",
     "output_type": "stream",
     "text": [
      "15.782216799187811\n"
     ]
    }
   ],
   "source": [
    "def total_differential_matrix(gradient_z, tangent_vector):\n",
    "    \"\"\" Gives the total differential via matrix multplication. \"\"\"\n",
    "    return np.inner(gradient_z, tangent_vector)\n",
    "    \n",
    "print(\n",
    "    total_differential_matrix(\n",
    "        gradient_of_z(pow, 2, 5, .5),\n",
    "        tangent_vector(.1, .1, 1)\n",
    "    )\n",
    ")"
   ]
  },
  {
   "cell_type": "markdown",
   "metadata": {},
   "source": [
    "> ... the chain rule combines ideas from geometry (tangent planes), from mechanics (velocity vectors), from calculus (linear approximation), and from algebra (dual spaces), with the results appropriately added or multiplied. It gives meaning to the \"total differential\"."
   ]
  },
  {
   "cell_type": "markdown",
   "metadata": {},
   "source": [
    "***"
   ]
  },
  {
   "cell_type": "markdown",
   "metadata": {},
   "source": [
    "## 10. Differential Forms"
   ]
  },
  {
   "cell_type": "markdown",
   "metadata": {},
   "source": [
    "A first order exterior *differential form* $w$ is an open set $U$ of the $x,y$ plane is an expression:\n",
    "\n",
    "$$\n",
    "w = P(x,y)dx + Q(x,y)dy\n",
    "$$"
   ]
  },
  {
   "cell_type": "code",
   "execution_count": 18,
   "metadata": {},
   "outputs": [
    {
     "name": "stdout",
     "output_type": "stream",
     "text": [
      "7.613234287422358e+161\n",
      "7.044035295211229e+161\n",
      "6.88652817230038e+161\n",
      "6.886533693546411e+161\n"
     ]
    }
   ],
   "source": [
    "import numpy as np\n",
    "\n",
    "def line_integral(P, Q, n, x, y):\n",
    "    \"\"\" Definition of the line integral. As n approaches infinite the calculation\n",
    "    approaches the limit.\n",
    "    \n",
    "    P = a function on x, y\n",
    "    Q = a function on x, y\n",
    "    n = the number of divisions of the x & y axis\n",
    "    x = the x dimension\n",
    "    y = the y dimension\n",
    "    \"\"\"\n",
    "    x = [sum(z) / len(z) for z in np.array_split(x, n)]\n",
    "    y = [sum(z) / len(z) for z in np.array_split(y, n)]\n",
    "    return sum(\n",
    "        [\n",
    "            P(x[i], y[i]) * (x[i] - x[i-1]) +\n",
    "            Q(x[i], y[i]) * (y[i] - y[i-1])\n",
    "            for i in range(1, n)\n",
    "        ]\n",
    "    )\n",
    "\n",
    "P = pow\n",
    "Q = pow\n",
    "x = [x for x in range(0, 50)] + [x for x in range(51, 1, -1)]\n",
    "y = [y * 2 for y in range(0, 25)] + [y * 1.5 for y in range(26, 101)]\n",
    "\n",
    "# As n increases towards infinity, the result approaches the limit\n",
    "print(line_integral(P, Q, 10, x, y))\n",
    "print(line_integral(P, Q, 25, x, y))\n",
    "print(line_integral(P, Q, 50, x, y))\n",
    "print(line_integral(P, Q, 100, x, y))"
   ]
  },
  {
   "cell_type": "markdown",
   "metadata": {},
   "source": [
    "***"
   ]
  },
  {
   "cell_type": "markdown",
   "metadata": {},
   "source": [
    "## 11. Calculus Becomes Analysis"
   ]
  },
  {
   "cell_type": "markdown",
   "metadata": {},
   "source": [
    "> ... \"real\" analysis deals with functions on the reals $R$ to $R$ and examines their deeper properties as to integration, limits, and derivatives."
   ]
  },
  {
   "cell_type": "markdown",
   "metadata": {},
   "source": [
    "The *Lebesgue integrable* is defined as:\n",
    "\n",
    "$$\n",
    "\\int_L(f(x))dx\n",
    "$$"
   ]
  },
  {
   "cell_type": "markdown",
   "metadata": {},
   "source": [
    "> For differential equations, a central idea is that a smooth function $f(t)$ can be determined completely by its initial value  at $t = 0$ and knowledge of all of its first derivative. The same idea appears for smooth functions $f(x,y)$ of two or more variables: They can be determined by \"boundary conditions\" and knowledge of the partial derivatives. Such P.D.E. (*partial differential equations*) arise not just from the conceptual analogy of these ideas but from many diffeent cases in theoretical physics where exactly this kind of data is at hand for quantities depending on several independent variables."
   ]
  },
  {
   "cell_type": "code",
   "execution_count": 19,
   "metadata": {},
   "outputs": [
    {
     "name": "stdout",
     "output_type": "stream",
     "text": [
      "0.18569533817705186\n",
      "True\n"
     ]
    }
   ],
   "source": [
    "def potential(x, y, z):\n",
    "    \"\"\" Returns potential energy of a unit mass at radius proportional to 1/r. \"\"\"\n",
    "    return (x**2 + y**2 + z**2) ** -.5\n",
    "\n",
    "print(potential(2, 4, 3))\n",
    "print(potential(5, 0, 0) == 1/5)"
   ]
  },
  {
   "cell_type": "code",
   "execution_count": 40,
   "metadata": {},
   "outputs": [
    {
     "data": {
      "image/png": "[encoded data removed]",
      "text/plain": [
       "<Figure size 432x288 with 1 Axes>"
      ]
     },
     "metadata": {
      "needs_background": "light"
     },
     "output_type": "display_data"
    }
   ],
   "source": [
    "def harmonic_motion(A, B, k, t):\n",
    "    \"\"\" Describes the harmonic motion.\n",
    "    A - a constant\n",
    "    B - a constant\n",
    "    k - spring constant\n",
    "    t - time\n",
    "    \"\"\"\n",
    "    kt = k * t\n",
    "    x = A * math.cos(kt) + B * math.sin(kt)\n",
    "    return x\n",
    "\n",
    "A = 1\n",
    "B = 3\n",
    "k = 2\n",
    "harmonic = [harmonic_motion(A, B, k, x) for x in range(1, 50)]\n",
    "\n",
    "plt.plot(harmonic)\n",
    "plt.xlabel('time')\n",
    "plt.show()"
   ]
  },
  {
   "cell_type": "markdown",
   "metadata": {},
   "source": [
    "> In determining the solutions of a P.D.E. it is often convenient to first solve the P.D.E. for specified simple boundary values, then suitably adding up the results. To do this one must express the finally desired oundary value as a sum (or a series) of simpler functions."
   ]
  },
  {
   "cell_type": "markdown",
   "metadata": {},
   "source": [
    "> In the Calculus of Variations one maximizes or minimizes an integral over \"all\" smooth functions $f(x)$; it turns out to be suggestive to think of the collection of all of these functions as a \"space\". The study of such spaces of functions is one of the reasons historically for the introduction of the general idea of a metrix space, as in the case of the space $L^2$,"
   ]
  },
  {
   "cell_type": "markdown",
   "metadata": {},
   "source": [
    "***"
   ]
  },
  {
   "cell_type": "markdown",
   "metadata": {},
   "source": [
    "## 12. The Interconnections of the Concepts"
   ]
  },
  {
   "cell_type": "markdown",
   "metadata": {},
   "source": [
    "> The calculus ... is ... the development, from intuitive methods of calculation, of a variety of formal concepts (limit, derivatives, integrals, differential forms) all found within one overarching axiomatics ... Nevertheless it has the same basic character as do algebra and geometry: It begins with practical problems and intuitive ideas useful for calculations which turn out to be strictly formalizable ..."
   ]
  }
 ],
 "metadata": {
  "kernelspec": {
   "display_name": "Python 3",
   "language": "python",
   "name": "python3"
  },
  "language_info": {
   "codemirror_mode": {
    "name": "ipython",
    "version": 3
   },
   "file_extension": ".py",
   "mimetype": "text/x-python",
   "name": "python",
   "nbconvert_exporter": "python",
   "pygments_lexer": "ipython3",
   "version": "3.7.3"
  }
 },
 "nbformat": 4,
 "nbformat_minor": 4
}

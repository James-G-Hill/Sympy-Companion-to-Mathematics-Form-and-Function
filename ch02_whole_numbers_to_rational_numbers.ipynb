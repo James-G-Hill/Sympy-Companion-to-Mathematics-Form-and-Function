{
 "cells": [
  {
   "cell_type": "markdown",
   "metadata": {},
   "source": [
    "# Maths - Form & Function: Chapter 2 (From Whole Numbers to Rational Numbers)"
   ]
  },
  {
   "cell_type": "code",
   "execution_count": 1,
   "metadata": {},
   "outputs": [],
   "source": [
    "import itertools\n",
    "\n",
    "from sympy import *\n",
    "from sympy.printing.latex import LatexPrinter\n",
    "\n",
    "class CustomLatexPrinter(LatexPrinter):\n",
    "    def _print_Idx(self, expr):\n",
    "        return expr.name\n",
    "\n",
    "    @classmethod\n",
    "    def printer(cls, expr, **kwargs):\n",
    "        return cls(kwargs).doprint(expr)\n",
    "\n",
    "init_printing(use_latex = \"mathjax\", latex_printer = CustomLatexPrinter.printer)"
   ]
  },
  {
   "cell_type": "markdown",
   "metadata": {},
   "source": [
    "## 1. Properties of Natural Numbers"
   ]
  },
  {
   "cell_type": "markdown",
   "metadata": {},
   "source": [
    "The natural numbers arise from:\n",
    "\n",
    "- listing\n",
    "- counting\n",
    "- comparing"
   ]
  },
  {
   "cell_type": "code",
   "execution_count": 2,
   "metadata": {},
   "outputs": [
    {
     "data": {
      "text/latex": [
       "$\\displaystyle \\mathbb{N}$"
      ],
      "text/plain": [
       "ℕ"
      ]
     },
     "execution_count": 2,
     "metadata": {},
     "output_type": "execute_result"
    }
   ],
   "source": [
    "S.Naturals"
   ]
  },
  {
   "cell_type": "code",
   "execution_count": 3,
   "metadata": {},
   "outputs": [
    {
     "data": {
      "text/latex": [
       "$\\displaystyle \\text{True}$"
      ],
      "text/plain": [
       "True"
      ]
     },
     "execution_count": 3,
     "metadata": {},
     "output_type": "execute_result"
    }
   ],
   "source": [
    "k, m, n = symbols(\"k, m, n\", integer = True)\n",
    "\n",
    "# Commutative law part 1: Addition\n",
    "Eq(\n",
    "    m + 0,\n",
    "    m\n",
    ")"
   ]
  },
  {
   "cell_type": "code",
   "execution_count": 4,
   "metadata": {},
   "outputs": [
    {
     "data": {
      "text/latex": [
       "$\\displaystyle \\text{True}$"
      ],
      "text/plain": [
       "True"
      ]
     },
     "execution_count": 4,
     "metadata": {},
     "output_type": "execute_result"
    }
   ],
   "source": [
    "# Commutative law part 2: Addition\n",
    "Eq(\n",
    "    m + n,\n",
    "    n + m\n",
    ")"
   ]
  },
  {
   "cell_type": "code",
   "execution_count": 5,
   "metadata": {},
   "outputs": [
    {
     "data": {
      "text/latex": [
       "$\\displaystyle \\text{True}$"
      ],
      "text/plain": [
       "True"
      ]
     },
     "execution_count": 5,
     "metadata": {},
     "output_type": "execute_result"
    }
   ],
   "source": [
    "# Associative law: Addition\n",
    "Eq(\n",
    "    k + (m + n),\n",
    "    (k + m) + n\n",
    ")"
   ]
  },
  {
   "cell_type": "code",
   "execution_count": 6,
   "metadata": {},
   "outputs": [
    {
     "data": {
      "text/latex": [
       "$\\displaystyle \\text{True}$"
      ],
      "text/plain": [
       "True"
      ]
     },
     "execution_count": 6,
     "metadata": {},
     "output_type": "execute_result"
    }
   ],
   "source": [
    "# Commutative law part 1: Multiplication\n",
    "Eq(\n",
    "    m * 1,\n",
    "    m\n",
    ")"
   ]
  },
  {
   "cell_type": "code",
   "execution_count": 7,
   "metadata": {},
   "outputs": [
    {
     "data": {
      "text/latex": [
       "$\\displaystyle \\text{True}$"
      ],
      "text/plain": [
       "True"
      ]
     },
     "execution_count": 7,
     "metadata": {},
     "output_type": "execute_result"
    }
   ],
   "source": [
    "# Commutative law part 2: Multiplication\n",
    "Eq(\n",
    "    m * n,\n",
    "    n * m\n",
    ")"
   ]
  },
  {
   "cell_type": "code",
   "execution_count": 8,
   "metadata": {},
   "outputs": [
    {
     "data": {
      "text/latex": [
       "$\\displaystyle \\text{True}$"
      ],
      "text/plain": [
       "True"
      ]
     },
     "execution_count": 8,
     "metadata": {},
     "output_type": "execute_result"
    }
   ],
   "source": [
    "# Associative law: Multiplication\n",
    "Eq(\n",
    "    k * (m * n),\n",
    "    (k * m) * n\n",
    ")"
   ]
  },
  {
   "cell_type": "code",
   "execution_count": 9,
   "metadata": {},
   "outputs": [
    {
     "data": {
      "text/latex": [
       "$\\displaystyle \\text{True}$"
      ],
      "text/plain": [
       "True"
      ]
     },
     "execution_count": 9,
     "metadata": {},
     "output_type": "execute_result"
    }
   ],
   "source": [
    "# Distributive law\n",
    "Eq(\n",
    "    k * (m + n),\n",
    "    k * m + k * n\n",
    ").simplify()"
   ]
  },
  {
   "cell_type": "code",
   "execution_count": 10,
   "metadata": {},
   "outputs": [
    {
     "data": {
      "text/latex": [
       "$\\displaystyle k^{2}\\bmod{4} \\in \\left\\{0, 1\\right\\}$"
      ],
      "text/plain": [
       " 2               \n",
       "k  mod 4 ∈ {0, 1}"
      ]
     },
     "execution_count": 10,
     "metadata": {},
     "output_type": "execute_result"
    }
   ],
   "source": [
    "# Remainders of square numbers always 0 or 1\n",
    "FiniteSet(0, 1).contains((k**2) % 4).doit()"
   ]
  },
  {
   "cell_type": "code",
   "execution_count": 11,
   "metadata": {},
   "outputs": [
    {
     "data": {
      "text/latex": [
       "$\\displaystyle n = \\sum_{k=0}^{i} b^{k} {a}_{k}$"
      ],
      "text/plain": [
       "      i          \n",
       "     ___         \n",
       "     ╲           \n",
       "      ╲    k     \n",
       "n =   ╱   b ⋅a[k]\n",
       "     ╱           \n",
       "     ‾‾‾         \n",
       "    k = 0        "
      ]
     },
     "execution_count": 11,
     "metadata": {},
     "output_type": "execute_result"
    }
   ],
   "source": [
    "b, i, n = symbols(\"b, i, n\", domain = S.Naturals)\n",
    "a = IndexedBase(\"a\")\n",
    "k = Idx(\"k\", range = (0, i))\n",
    "\n",
    "expansion = summation(a[k] * b**k, k)\n",
    "Eq(n, expansion)"
   ]
  },
  {
   "cell_type": "code",
   "execution_count": 12,
   "metadata": {},
   "outputs": [
    {
     "data": {
      "text/latex": [
       "$\\displaystyle 123$"
      ],
      "text/plain": [
       "123"
      ]
     },
     "execution_count": 12,
     "metadata": {},
     "output_type": "execute_result"
    }
   ],
   "source": [
    "# Finding decimal expansion of 123\n",
    "a_coefs = [1, 2, 3][::-1]\n",
    "j = len(a_coefs) - 1\n",
    "decimal_expansion = summation(a[k] * b**k, (k, 0, j))\n",
    "\n",
    "# decimal expansion\n",
    "coefs_dic = {a[j]: a_coefs[j] for j in range(3)}\n",
    "decimal_expansion.subs(b, 10).subs(coefs_dic)"
   ]
  },
  {
   "cell_type": "markdown",
   "metadata": {},
   "source": [
    "# 2. The Peano Postulates"
   ]
  },
  {
   "cell_type": "markdown",
   "metadata": {},
   "source": [
    "The Peano postulates emerge from the fact that both addition and multiplication can be described in terms of the number 0 & the single operation \"add 1\"; the postulates are the folowing axioms on that single operation:"
   ]
  },
  {
   "cell_type": "markdown",
   "metadata": {},
   "source": [
    "1. 0 is a number\n",
    "2. if *n* is a number, so is its successor *sn*\n",
    "3. 0 is not a successor (*sn* is never 0)\n",
    "4. 2 numbers *n*, *m* with the same successor are equal\n",
    "5. Let *P* be a property of natural numbers; if 0 has *P* & *sn* has *P* where *n* does, then *P* holds for all natural numbers."
   ]
  },
  {
   "cell_type": "code",
   "execution_count": 13,
   "metadata": {},
   "outputs": [
    {
     "data": {
      "text/latex": [
       "$\\displaystyle 1$"
      ],
      "text/plain": [
       "1"
      ]
     },
     "execution_count": 13,
     "metadata": {},
     "output_type": "execute_result"
    }
   ],
   "source": [
    "from sympy.core.assumptions import assumptions\n",
    "\n",
    "m, n = symbols(\"m, n\", domain = S.Naturals0)\n",
    "\n",
    "class s(Function):\n",
    "    \"\"\" The successor function. \"\"\"\n",
    "    @classmethod\n",
    "    def eval(cls, n):\n",
    "        if n.is_Number:\n",
    "            if S.Naturals0.contains(n):\n",
    "                return n + 1\n",
    "            \n",
    "s(0)"
   ]
  },
  {
   "cell_type": "code",
   "execution_count": 14,
   "metadata": {},
   "outputs": [
    {
     "data": {
      "text/latex": [
       "$\\displaystyle \\text{True}$"
      ],
      "text/plain": [
       "True"
      ]
     },
     "execution_count": 14,
     "metadata": {},
     "output_type": "execute_result"
    }
   ],
   "source": [
    "# postulate i\n",
    "S.Naturals0.contains(0)"
   ]
  },
  {
   "cell_type": "code",
   "execution_count": 15,
   "metadata": {},
   "outputs": [
    {
     "data": {
      "text/latex": [
       "$\\displaystyle \\left(n \\in \\mathbb{N}_0\\right) \\Rightarrow \\left(s{\\left(n \\right)} \\in \\mathbb{N}_0\\right)$"
      ],
      "text/plain": [
       "(n ∈ ℕ₀) → (s(n) ∈ ℕ₀)"
      ]
     },
     "execution_count": 15,
     "metadata": {},
     "output_type": "execute_result"
    }
   ],
   "source": [
    "# postulate ii\n",
    "(S.Naturals0.contains(n)) >> (S.Naturals0.contains(s(n)))"
   ]
  },
  {
   "cell_type": "code",
   "execution_count": 16,
   "metadata": {},
   "outputs": [
    {
     "data": {
      "text/latex": [
       "$\\displaystyle 0 \\neq s{\\left(n \\right)}$"
      ],
      "text/plain": [
       "0 ≠ s(n)"
      ]
     },
     "execution_count": 16,
     "metadata": {},
     "output_type": "execute_result"
    }
   ],
   "source": [
    "# postulate iii\n",
    "Not(Eq(0, s(n)))"
   ]
  },
  {
   "cell_type": "code",
   "execution_count": 17,
   "metadata": {},
   "outputs": [
    {
     "data": {
      "text/latex": [
       "$\\displaystyle s{\\left(n \\right)} = s{\\left(m \\right)} \\Rightarrow n = m$"
      ],
      "text/plain": [
       "s(n) = s(m) → n = m"
      ]
     },
     "execution_count": 17,
     "metadata": {},
     "output_type": "execute_result"
    }
   ],
   "source": [
    "# postulate iv\n",
    "Implies(\n",
    "    Eq(s(n), s(m)),\n",
    "    Eq(n, m)\n",
    ")"
   ]
  },
  {
   "cell_type": "code",
   "execution_count": 18,
   "metadata": {},
   "outputs": [
    {
     "data": {
      "text/latex": [
       "$\\displaystyle \\sum_{i=1}^{n} {a}_{i}^{2}$"
      ],
      "text/plain": [
       "  n        \n",
       " ___       \n",
       " ╲         \n",
       "  ╲       2\n",
       "  ╱   a[i] \n",
       " ╱         \n",
       " ‾‾‾       \n",
       "i = 1      "
      ]
     },
     "execution_count": 18,
     "metadata": {},
     "output_type": "execute_result"
    }
   ],
   "source": [
    "a = IndexedBase(\"a\")\n",
    "i = Idx(\"i\", range = (1, n))\n",
    "\n",
    "first_n_squares = summation(a[i]**2, i)\n",
    "first_n_squares"
   ]
  },
  {
   "cell_type": "code",
   "execution_count": 19,
   "metadata": {},
   "outputs": [
    {
     "data": {
      "text/latex": [
       "$\\displaystyle 14$"
      ],
      "text/plain": [
       "14"
      ]
     },
     "execution_count": 19,
     "metadata": {},
     "output_type": "execute_result"
    }
   ],
   "source": [
    "coefs = list(range(1, 4))\n",
    "coefs_dic = {a[j]: coefs[j-1] for j in range(1, 4)}\n",
    "\n",
    "first_n_squares = summation(a[i]**2, (i, 1, 3))\n",
    "first_n_squares.subs(coefs_dic)"
   ]
  },
  {
   "cell_type": "code",
   "execution_count": 20,
   "metadata": {},
   "outputs": [
    {
     "data": {
      "text/latex": [
       "$\\displaystyle \\text{True}$"
      ],
      "text/plain": [
       "True"
      ]
     },
     "execution_count": 20,
     "metadata": {},
     "output_type": "execute_result"
    }
   ],
   "source": [
    "k = symbols(\"k\")\n",
    "\n",
    "# Recursive addition\n",
    "Eq(k + 0, k)"
   ]
  },
  {
   "cell_type": "code",
   "execution_count": 21,
   "metadata": {},
   "outputs": [
    {
     "data": {
      "text/latex": [
       "$\\displaystyle k + s{\\left(n \\right)} = s{\\left(k + n \\right)}$"
      ],
      "text/plain": [
       "k + s(n) = s(k + n)"
      ]
     },
     "execution_count": 21,
     "metadata": {},
     "output_type": "execute_result"
    }
   ],
   "source": [
    "Eq(k + s(n), s(k + n))"
   ]
  },
  {
   "cell_type": "code",
   "execution_count": 22,
   "metadata": {},
   "outputs": [
    {
     "data": {
      "text/latex": [
       "$\\displaystyle \\text{True}$"
      ],
      "text/plain": [
       "True"
      ]
     },
     "execution_count": 22,
     "metadata": {},
     "output_type": "execute_result"
    }
   ],
   "source": [
    "# Recursive multiplication\n",
    "Eq(k * 0, 0)"
   ]
  },
  {
   "cell_type": "code",
   "execution_count": 23,
   "metadata": {},
   "outputs": [
    {
     "data": {
      "text/latex": [
       "$\\displaystyle k s{\\left(n \\right)} = k n + k$"
      ],
      "text/plain": [
       "k⋅s(n) = k⋅n + k"
      ]
     },
     "execution_count": 23,
     "metadata": {},
     "output_type": "execute_result"
    }
   ],
   "source": [
    "Eq(k * s(n), k + (k * n))"
   ]
  },
  {
   "cell_type": "code",
   "execution_count": 24,
   "metadata": {},
   "outputs": [
    {
     "data": {
      "text/latex": [
       "$\\displaystyle \\text{True}$"
      ],
      "text/plain": [
       "True"
      ]
     },
     "execution_count": 24,
     "metadata": {},
     "output_type": "execute_result"
    }
   ],
   "source": [
    "# Recursive Exponentiation\n",
    "Eq(k**0, 1)"
   ]
  },
  {
   "cell_type": "code",
   "execution_count": 25,
   "metadata": {},
   "outputs": [
    {
     "data": {
      "text/latex": [
       "$\\displaystyle k^{s{\\left(n \\right)}} = k k^{n}$"
      ],
      "text/plain": [
       " s(n)      n\n",
       "k     = k⋅k "
      ]
     },
     "execution_count": 25,
     "metadata": {},
     "output_type": "execute_result"
    }
   ],
   "source": [
    "Eq(k**s(n), k * (k**n))"
   ]
  },
  {
   "cell_type": "code",
   "execution_count": 26,
   "metadata": {},
   "outputs": [
    {
     "data": {
      "text/latex": [
       "$\\displaystyle k$"
      ],
      "text/plain": [
       "k"
      ]
     },
     "execution_count": 26,
     "metadata": {},
     "output_type": "execute_result"
    }
   ],
   "source": [
    "class recursiveAddition(Function):\n",
    "    @classmethod\n",
    "    def eval(cls, n):\n",
    "        if n == 0:\n",
    "            return k\n",
    "        else:\n",
    "            return k + n\n",
    "\n",
    "recursiveAddition(0)"
   ]
  },
  {
   "cell_type": "code",
   "execution_count": 27,
   "metadata": {},
   "outputs": [
    {
     "data": {
      "text/latex": [
       "$\\displaystyle k + 1$"
      ],
      "text/plain": [
       "k + 1"
      ]
     },
     "execution_count": 27,
     "metadata": {},
     "output_type": "execute_result"
    }
   ],
   "source": [
    "recursiveAddition(s(0))"
   ]
  },
  {
   "cell_type": "code",
   "execution_count": 28,
   "metadata": {},
   "outputs": [
    {
     "data": {
      "text/latex": [
       "$\\displaystyle k + 2$"
      ],
      "text/plain": [
       "k + 2"
      ]
     },
     "execution_count": 28,
     "metadata": {},
     "output_type": "execute_result"
    }
   ],
   "source": [
    "recursiveAddition(s(1))"
   ]
  },
  {
   "cell_type": "code",
   "execution_count": 29,
   "metadata": {},
   "outputs": [
    {
     "data": {
      "text/latex": [
       "$\\displaystyle 0$"
      ],
      "text/plain": [
       "0"
      ]
     },
     "execution_count": 29,
     "metadata": {},
     "output_type": "execute_result"
    }
   ],
   "source": [
    "class recursiveMultiplication(Function):\n",
    "    @classmethod\n",
    "    def eval(cls, n):\n",
    "        if n == 0:\n",
    "            return 0\n",
    "        else:\n",
    "            return k * n\n",
    "        \n",
    "recursiveMultiplication(0)"
   ]
  },
  {
   "cell_type": "code",
   "execution_count": 30,
   "metadata": {},
   "outputs": [
    {
     "data": {
      "text/latex": [
       "$\\displaystyle k$"
      ],
      "text/plain": [
       "k"
      ]
     },
     "execution_count": 30,
     "metadata": {},
     "output_type": "execute_result"
    }
   ],
   "source": [
    "recursiveMultiplication(s(0))"
   ]
  },
  {
   "cell_type": "code",
   "execution_count": 31,
   "metadata": {},
   "outputs": [
    {
     "data": {
      "text/latex": [
       "$\\displaystyle 2 k$"
      ],
      "text/plain": [
       "2⋅k"
      ]
     },
     "execution_count": 31,
     "metadata": {},
     "output_type": "execute_result"
    }
   ],
   "source": [
    "recursiveMultiplication(s(1))"
   ]
  },
  {
   "cell_type": "code",
   "execution_count": 32,
   "metadata": {},
   "outputs": [
    {
     "data": {
      "text/latex": [
       "$\\displaystyle 1$"
      ],
      "text/plain": [
       "1"
      ]
     },
     "execution_count": 32,
     "metadata": {},
     "output_type": "execute_result"
    }
   ],
   "source": [
    "class recursiveExponentiation(Function):\n",
    "    @classmethod\n",
    "    def eval(cls, n):\n",
    "        if n == 0:\n",
    "            return 1\n",
    "        else:\n",
    "            return k**n\n",
    "\n",
    "recursiveExponentiation(0)"
   ]
  },
  {
   "cell_type": "code",
   "execution_count": 33,
   "metadata": {},
   "outputs": [
    {
     "data": {
      "text/latex": [
       "$\\displaystyle k$"
      ],
      "text/plain": [
       "k"
      ]
     },
     "execution_count": 33,
     "metadata": {},
     "output_type": "execute_result"
    }
   ],
   "source": [
    "recursiveExponentiation(s(0))"
   ]
  },
  {
   "cell_type": "code",
   "execution_count": 34,
   "metadata": {},
   "outputs": [
    {
     "data": {
      "text/latex": [
       "$\\displaystyle k^{2}$"
      ],
      "text/plain": [
       " 2\n",
       "k "
      ]
     },
     "execution_count": 34,
     "metadata": {},
     "output_type": "execute_result"
    }
   ],
   "source": [
    "recursiveExponentiation(s(1))"
   ]
  },
  {
   "cell_type": "code",
   "execution_count": 35,
   "metadata": {},
   "outputs": [
    {
     "data": {
      "text/latex": [
       "$\\displaystyle \\left( f{\\left(0 \\right)} = a, \\  f{\\left(s{\\left(m \\right)} \\right)} = g{\\left(f{\\left(m \\right)} \\right)}\\right)$"
      ],
      "text/plain": [
       "(f(0) = a, f(s(m)) = g(f(m)))"
      ]
     },
     "execution_count": 35,
     "metadata": {},
     "output_type": "execute_result"
    }
   ],
   "source": [
    "f = Function(\"f\")\n",
    "g = Function(\"g\")\n",
    "\n",
    "Eq(f(0), a), Eq(f(s(m)), g(f(m)))"
   ]
  },
  {
   "cell_type": "markdown",
   "metadata": {},
   "source": [
    "**Uniqueness Theorem**\n",
    "\n",
    "*The set-theoretic Peano postulates determine the collection **N** of natural numbers uniquely, up to an isomorphism of the structure given by 0 and successor.*"
   ]
  },
  {
   "cell_type": "markdown",
   "metadata": {},
   "source": [
    "## 3. Natural Numbers Described by Recursion"
   ]
  },
  {
   "cell_type": "markdown",
   "metadata": {},
   "source": [
    "General Point: the axioms needed to describe a Mathematical structure are themselves by no means unique. The recursion theorum for example is a convenient form of axiom."
   ]
  },
  {
   "cell_type": "code",
   "execution_count": 36,
   "metadata": {},
   "outputs": [
    {
     "name": "stdout",
     "output_type": "stream",
     "text": [
      "\\xymatrix{\n",
      "S \\ar[r]^{i} \\ar@(u,l)[]^{sDash} & \\mathbb{N} \\ar@/^3mm/[l]^{h} \\ar@(r,u)[]^{s} \n",
      "}\n",
      "\n"
     ]
    }
   ],
   "source": [
    "from sympy import pprint\n",
    "from sympy.categories import *\n",
    "\n",
    "N = S.Naturals\n",
    "S_ob = Object(\"S\")\n",
    "\n",
    "s = NamedMorphism(N, N, \"s\")\n",
    "sDash = NamedMorphism(S_ob, S_ob, \"sDash\")\n",
    "h = NamedMorphism(N, S_ob, \"h\")\n",
    "i = NamedMorphism(S_ob, N, \"i\")\n",
    "\n",
    "d = Diagram([s, sDash, h, i])\n",
    "\n",
    "drawer = XypicDiagramDrawer()\n",
    "print(drawer.draw(d, DiagramGrid(d)))\n",
    "# https://quicklatex.com/\n",
    "# Add `\\usepackage[all]{xy}` to the preamble"
   ]
  },
  {
   "cell_type": "code",
   "execution_count": 37,
   "metadata": {},
   "outputs": [
    {
     "data": {
      "text/latex": [
       "$\\displaystyle \\left\\{x \\mid x \\in \\mathbb{N}_0 \\right\\}$"
      ],
      "text/plain": [
       "{x | (x ∈ ℕ₀)}"
      ]
     },
     "execution_count": 37,
     "metadata": {},
     "output_type": "execute_result"
    }
   ],
   "source": [
    "x = symbols(\"x\")\n",
    "\n",
    "N = S.Naturals0\n",
    "S_ob = ConditionSet(x, N.contains(x))\n",
    "S_ob"
   ]
  },
  {
   "cell_type": "code",
   "execution_count": 38,
   "metadata": {},
   "outputs": [
    {
     "data": {
      "text/plain": [
       "False"
      ]
     },
     "execution_count": 38,
     "metadata": {},
     "output_type": "execute_result"
    }
   ],
   "source": [
    "-1 in S_ob"
   ]
  },
  {
   "cell_type": "code",
   "execution_count": 39,
   "metadata": {},
   "outputs": [
    {
     "data": {
      "text/plain": [
       "True"
      ]
     },
     "execution_count": 39,
     "metadata": {},
     "output_type": "execute_result"
    }
   ],
   "source": [
    "0 in S_ob"
   ]
  },
  {
   "cell_type": "code",
   "execution_count": 40,
   "metadata": {},
   "outputs": [
    {
     "data": {
      "text/latex": [
       "$\\displaystyle \\mathbb{N}_0$"
      ],
      "text/plain": [
       "ℕ₀"
      ]
     },
     "execution_count": 40,
     "metadata": {},
     "output_type": "execute_result"
    }
   ],
   "source": [
    "class i(Function):\n",
    "    @classmethod\n",
    "    def eval(cls, arg1):\n",
    "        if arg1 == S_ob:\n",
    "            return N\n",
    "        \n",
    "i(S_ob)"
   ]
  },
  {
   "cell_type": "code",
   "execution_count": 41,
   "metadata": {},
   "outputs": [
    {
     "data": {
      "text/latex": [
       "$\\displaystyle \\left\\{x \\mid x \\in \\mathbb{N}_0 \\right\\}$"
      ],
      "text/plain": [
       "{x | (x ∈ ℕ₀)}"
      ]
     },
     "execution_count": 41,
     "metadata": {},
     "output_type": "execute_result"
    }
   ],
   "source": [
    "class zero(Function):\n",
    "    @classmethod\n",
    "    def eval(cls):\n",
    "        return S_ob\n",
    "    \n",
    "zero()"
   ]
  },
  {
   "cell_type": "code",
   "execution_count": 42,
   "metadata": {},
   "outputs": [
    {
     "data": {
      "text/latex": [
       "$\\displaystyle \\left\\{x \\mid x \\in \\mathbb{N}_0 \\right\\}$"
      ],
      "text/plain": [
       "{x | (x ∈ ℕ₀)}"
      ]
     },
     "execution_count": 42,
     "metadata": {},
     "output_type": "execute_result"
    }
   ],
   "source": [
    "class sDash(Function):\n",
    "    @classmethod\n",
    "    def eval(cls, arg1):\n",
    "        if arg1 == S_ob:\n",
    "            return S_ob\n",
    "    \n",
    "sDash(S_ob)"
   ]
  },
  {
   "cell_type": "code",
   "execution_count": 43,
   "metadata": {},
   "outputs": [
    {
     "data": {
      "text/latex": [
       "$\\displaystyle \\left\\{x \\mid x \\in \\mathbb{N}_0 \\right\\}$"
      ],
      "text/plain": [
       "{x | (x ∈ ℕ₀)}"
      ]
     },
     "execution_count": 43,
     "metadata": {},
     "output_type": "execute_result"
    }
   ],
   "source": [
    "class h(Function):\n",
    "    @classmethod\n",
    "    def eval(cls, arg1):\n",
    "        if arg1 == N:\n",
    "            return S_ob\n",
    "        \n",
    "h(N)"
   ]
  },
  {
   "cell_type": "code",
   "execution_count": 44,
   "metadata": {},
   "outputs": [
    {
     "data": {
      "text/latex": [
       "$\\displaystyle \\mathbb{N}_0$"
      ],
      "text/plain": [
       "ℕ₀"
      ]
     },
     "execution_count": 44,
     "metadata": {},
     "output_type": "execute_result"
    }
   ],
   "source": [
    "class f(Function):\n",
    "    @classmethod\n",
    "    def eval(cls, arg1):\n",
    "        if arg1 == N:\n",
    "            return i(h(arg1))\n",
    "        \n",
    "f(N)"
   ]
  },
  {
   "cell_type": "code",
   "execution_count": 45,
   "metadata": {},
   "outputs": [
    {
     "data": {
      "text/latex": [
       "$\\displaystyle \\mathbb{N}_0$"
      ],
      "text/plain": [
       "ℕ₀"
      ]
     },
     "execution_count": 45,
     "metadata": {},
     "output_type": "execute_result"
    }
   ],
   "source": [
    "class s(Function):\n",
    "    @classmethod\n",
    "    def eval(cls, arg1):\n",
    "        if arg1 == N:\n",
    "            return N\n",
    "        \n",
    "s(N)"
   ]
  },
  {
   "cell_type": "code",
   "execution_count": 46,
   "metadata": {},
   "outputs": [
    {
     "data": {
      "text/plain": [
       "True"
      ]
     },
     "execution_count": 46,
     "metadata": {},
     "output_type": "execute_result"
    }
   ],
   "source": [
    "sDash(h(N)) == h(s(N))"
   ]
  },
  {
   "cell_type": "code",
   "execution_count": 47,
   "metadata": {},
   "outputs": [
    {
     "data": {
      "text/plain": [
       "True"
      ]
     },
     "execution_count": 47,
     "metadata": {},
     "output_type": "execute_result"
    }
   ],
   "source": [
    "s(f(N)) == f(s(N)) # identity function"
   ]
  },
  {
   "cell_type": "code",
   "execution_count": 48,
   "metadata": {},
   "outputs": [
    {
     "data": {
      "text/plain": [
       "True"
      ]
     },
     "execution_count": 48,
     "metadata": {},
     "output_type": "execute_result"
    }
   ],
   "source": [
    "f(N) == i(h(N))"
   ]
  },
  {
   "cell_type": "markdown",
   "metadata": {},
   "source": [
    "## 4. Number Theory"
   ]
  },
  {
   "cell_type": "code",
   "execution_count": 49,
   "metadata": {},
   "outputs": [
    {
     "data": {
      "text/latex": [
       "$\\displaystyle m = n q + r$"
      ],
      "text/plain": [
       "m = n⋅q + r"
      ]
     },
     "execution_count": 49,
     "metadata": {},
     "output_type": "execute_result"
    }
   ],
   "source": [
    "m, n, q, r = symbols(\"m, n, q, r\", integer = True)\n",
    "\n",
    "division_algorithm = Eq(m, n*q + r)\n",
    "division_algorithm"
   ]
  },
  {
   "cell_type": "code",
   "execution_count": 50,
   "metadata": {},
   "outputs": [
    {
     "data": {
      "text/latex": [
       "$\\displaystyle \\text{True}$"
      ],
      "text/plain": [
       "True"
      ]
     },
     "execution_count": 50,
     "metadata": {},
     "output_type": "execute_result"
    }
   ],
   "source": [
    "division_algorithm.subs([(m, 10), (n, 3), (q, 3), (r, 1)])"
   ]
  },
  {
   "cell_type": "code",
   "execution_count": 51,
   "metadata": {},
   "outputs": [
    {
     "data": {
      "text/plain": [
       "array('l', [2, 3, 5, 7, 11, 13, 17])"
      ]
     },
     "execution_count": 51,
     "metadata": {},
     "output_type": "execute_result"
    }
   ],
   "source": [
    "# Show list of primes\n",
    "sieve._reset()\n",
    "sieve.extend(17)\n",
    "sieve._list"
   ]
  },
  {
   "cell_type": "code",
   "execution_count": 52,
   "metadata": {},
   "outputs": [
    {
     "data": {
      "text/latex": [
       "$\\displaystyle 17^{1}$"
      ],
      "text/plain": [
       "  1\n",
       "17 "
      ]
     },
     "execution_count": 52,
     "metadata": {},
     "output_type": "execute_result"
    }
   ],
   "source": [
    "# The last prime on the above list\n",
    "factors17 = factorint(17, visual = True)\n",
    "factors17"
   ]
  },
  {
   "cell_type": "code",
   "execution_count": 53,
   "metadata": {},
   "outputs": [
    {
     "data": {
      "text/latex": [
       "$\\displaystyle 17$"
      ],
      "text/plain": [
       "17"
      ]
     },
     "execution_count": 53,
     "metadata": {},
     "output_type": "execute_result"
    }
   ],
   "source": [
    "factors17.doit()"
   ]
  },
  {
   "cell_type": "code",
   "execution_count": 54,
   "metadata": {},
   "outputs": [
    {
     "data": {
      "text/latex": [
       "$\\displaystyle 2^{1} \\cdot 3^{2}$"
      ],
      "text/plain": [
       " 1  2\n",
       "2 ⋅3 "
      ]
     },
     "execution_count": 54,
     "metadata": {},
     "output_type": "execute_result"
    }
   ],
   "source": [
    "# Even numbers other than 2 cannot be prime\n",
    "factors18 = factorint(18, visual = True)\n",
    "factors18"
   ]
  },
  {
   "cell_type": "code",
   "execution_count": 55,
   "metadata": {},
   "outputs": [
    {
     "data": {
      "text/latex": [
       "$\\displaystyle 18$"
      ],
      "text/plain": [
       "18"
      ]
     },
     "execution_count": 55,
     "metadata": {},
     "output_type": "execute_result"
    }
   ],
   "source": [
    "factors18.doit()"
   ]
  },
  {
   "cell_type": "markdown",
   "metadata": {},
   "source": [
    "Unique Factorization Theorum:\n",
    "\n",
    "Every number *n* can be factored into a product of primes (though some may be repeated).\n",
    "\n",
    "- Primes: numbers divided only by themselves & 1\n",
    "- Factored: repeatedly divided down to numbers whose product is the original\n",
    "- Prime Factorization: factorization down to prime numbers only"
   ]
  },
  {
   "cell_type": "code",
   "execution_count": 56,
   "metadata": {},
   "outputs": [
    {
     "data": {
      "text/latex": [
       "$\\displaystyle \\left[ 2^{1}, \\  3^{1}, \\  5^{1}, \\  7^{1}, \\  11^{1}, \\  13^{1}, \\  17^{1}\\right]$"
      ],
      "text/plain": [
       "⎡ 1   1   1   1    1    1    1⎤\n",
       "⎣2 , 3 , 5 , 7 , 11 , 13 , 17 ⎦"
      ]
     },
     "execution_count": 56,
     "metadata": {},
     "output_type": "execute_result"
    }
   ],
   "source": [
    "[factorint(x, visual = True) for x in sieve._list]"
   ]
  },
  {
   "cell_type": "code",
   "execution_count": 57,
   "metadata": {},
   "outputs": [
    {
     "data": {
      "text/latex": [
       "$\\displaystyle \\left[ 1, \\  2^{2}, \\  2^{1} \\cdot 3^{1}, \\  2^{3}, \\  3^{2}, \\  2^{1} \\cdot 5^{1}, \\  2^{2} \\cdot 3^{1}, \\  2^{1} \\cdot 7^{1}, \\  3^{1} \\cdot 5^{1}, \\  2^{4}\\right]$"
      ],
      "text/plain": [
       "⎡    2   1  1   3   2   1  1   2  1   1  1   1  1   4⎤\n",
       "⎣1, 2 , 2 ⋅3 , 2 , 3 , 2 ⋅5 , 2 ⋅3 , 2 ⋅7 , 3 ⋅5 , 2 ⎦"
      ]
     },
     "execution_count": 57,
     "metadata": {},
     "output_type": "execute_result"
    }
   ],
   "source": [
    "[factorint(x, visual = True) for x in range(1, 18) if not(isprime(x))]"
   ]
  },
  {
   "cell_type": "code",
   "execution_count": 58,
   "metadata": {},
   "outputs": [
    {
     "data": {
      "text/latex": [
       "$\\displaystyle 2^{2} \\cdot 3^{1}$"
      ],
      "text/plain": [
       " 2  1\n",
       "2 ⋅3 "
      ]
     },
     "execution_count": 58,
     "metadata": {},
     "output_type": "execute_result"
    }
   ],
   "source": [
    "factorint(12, visual = True)"
   ]
  },
  {
   "cell_type": "code",
   "execution_count": 59,
   "metadata": {},
   "outputs": [
    {
     "data": {
      "text/latex": [
       "$\\displaystyle 2^{4}$"
      ],
      "text/plain": [
       " 4\n",
       "2 "
      ]
     },
     "execution_count": 59,
     "metadata": {},
     "output_type": "execute_result"
    }
   ],
   "source": [
    "factorint(16, visual = True)"
   ]
  },
  {
   "cell_type": "code",
   "execution_count": 60,
   "metadata": {},
   "outputs": [
    {
     "data": {
      "text/latex": [
       "$\\displaystyle \\left[ 2\\right]$"
      ],
      "text/plain": [
       "[2]"
      ]
     },
     "execution_count": 60,
     "metadata": {},
     "output_type": "execute_result"
    }
   ],
   "source": [
    "common_factor = list(set(factorint(12).keys()) & set(factorint(16).keys()))\n",
    "common_factor"
   ]
  },
  {
   "cell_type": "code",
   "execution_count": 61,
   "metadata": {},
   "outputs": [
    {
     "data": {
      "text/latex": [
       "$\\displaystyle 4$"
      ],
      "text/plain": [
       "4"
      ]
     },
     "execution_count": 61,
     "metadata": {},
     "output_type": "execute_result"
    }
   ],
   "source": [
    "greatest_common_divisor = igcd(12, 16)\n",
    "greatest_common_divisor"
   ]
  },
  {
   "cell_type": "code",
   "execution_count": 62,
   "metadata": {},
   "outputs": [
    {
     "data": {
      "text/plain": [
       "True"
      ]
     },
     "execution_count": 62,
     "metadata": {},
     "output_type": "execute_result"
    }
   ],
   "source": [
    "factorized_numbers = 2\n",
    "common_factor[0] * factorized_numbers == greatest_common_divisor"
   ]
  },
  {
   "cell_type": "code",
   "execution_count": 63,
   "metadata": {},
   "outputs": [
    {
     "data": {
      "image/png": "[encoded data removed]",
      "text/plain": [
       "<Figure size 432x288 with 1 Axes>"
      ]
     },
     "metadata": {
      "needs_background": "light"
     },
     "output_type": "display_data"
    }
   ],
   "source": [
    "import matplotlib.pyplot as plt\n",
    "\n",
    "prime_range = range(0, 100)\n",
    "prime_count = [primepi(n) for n in prime_range]\n",
    "\n",
    "plt.bar(prime_range, prime_count, width = 1)\n",
    "plt.title(\"Accumulating Count of Primes\")\n",
    "plt.xlabel(\"n\")\n",
    "plt.ylabel(\"Count of Primes\")\n",
    "plt.show()"
   ]
  },
  {
   "cell_type": "code",
   "execution_count": 64,
   "metadata": {},
   "outputs": [
    {
     "data": {
      "text/latex": [
       "$\\displaystyle x^{2} + y^{2} = z^{2}$"
      ],
      "text/plain": [
       " 2    2    2\n",
       "x  + y  = z "
      ]
     },
     "execution_count": 64,
     "metadata": {},
     "output_type": "execute_result"
    }
   ],
   "source": [
    "x, y, z = symbols(\"x, y, z\", integers = True)\n",
    "\n",
    "fermats = Eq(x**2 + y**2, z**2)\n",
    "fermats"
   ]
  },
  {
   "cell_type": "code",
   "execution_count": 65,
   "metadata": {},
   "outputs": [
    {
     "data": {
      "text/latex": [
       "$\\displaystyle \\text{True}$"
      ],
      "text/plain": [
       "True"
      ]
     },
     "execution_count": 65,
     "metadata": {},
     "output_type": "execute_result"
    }
   ],
   "source": [
    "fermats.subs([(x, 3), (y, 4), (z, 5)])"
   ]
  },
  {
   "cell_type": "code",
   "execution_count": 66,
   "metadata": {},
   "outputs": [
    {
     "data": {
      "image/png": "[encoded data removed]",
      "text/plain": [
       "<Figure size 432x288 with 1 Axes>"
      ]
     },
     "metadata": {
      "needs_background": "light"
     },
     "output_type": "display_data"
    },
    {
     "data": {
      "text/plain": [
       "<sympy.plotting.plot.Plot at 0x7f74e5b26410>"
      ]
     },
     "execution_count": 66,
     "metadata": {},
     "output_type": "execute_result"
    }
   ],
   "source": [
    "plot_implicit(Eq(x**2 + y**2, z**2).subs(z, 5))"
   ]
  },
  {
   "cell_type": "code",
   "execution_count": 67,
   "metadata": {},
   "outputs": [
    {
     "data": {
      "text/latex": [
       "$\\displaystyle \\left[ \\left( 3, \\  4\\right)\\right]$"
      ],
      "text/plain": [
       "[(3, 4)]"
      ]
     },
     "execution_count": 67,
     "metadata": {},
     "output_type": "execute_result"
    }
   ],
   "source": [
    "from sympy.solvers.diophantine.diophantine import sum_of_squares\n",
    "\n",
    "list(sum_of_squares(25, 2))"
   ]
  },
  {
   "cell_type": "code",
   "execution_count": 68,
   "metadata": {},
   "outputs": [
    {
     "data": {
      "text/latex": [
       "$\\displaystyle \\left[ \\left( 3, \\  2\\right)\\right]$"
      ],
      "text/plain": [
       "[(3, 2)]"
      ]
     },
     "execution_count": 68,
     "metadata": {},
     "output_type": "execute_result"
    }
   ],
   "source": [
    "from sympy.solvers.diophantine.diophantine import diop_DN\n",
    "\n",
    "D = 2\n",
    "N = 1\n",
    "diop_DN(D, N)"
   ]
  },
  {
   "cell_type": "code",
   "execution_count": 69,
   "metadata": {},
   "outputs": [
    {
     "data": {
      "image/png": "[encoded data removed]",
      "text/plain": [
       "<Figure size 432x288 with 1 Axes>"
      ]
     },
     "metadata": {
      "needs_background": "light"
     },
     "output_type": "display_data"
    },
    {
     "data": {
      "text/plain": [
       "<sympy.plotting.plot.Plot at 0x7f74c86dfb10>"
      ]
     },
     "execution_count": 69,
     "metadata": {},
     "output_type": "execute_result"
    }
   ],
   "source": [
    "# n (sometimes D) here must be positive non-square integer\n",
    "plot_implicit(Eq(x**2 - (n * y**2), 1).subs(n, 1), title = \"Pell's Equation\")"
   ]
  },
  {
   "cell_type": "markdown",
   "metadata": {},
   "source": [
    "## 5. Integers"
   ]
  },
  {
   "cell_type": "code",
   "execution_count": 70,
   "metadata": {},
   "outputs": [
    {
     "data": {
      "text/plain": [
       "True"
      ]
     },
     "execution_count": 70,
     "metadata": {},
     "output_type": "execute_result"
    }
   ],
   "source": [
    "S.Integers.issuperset(S.Naturals0)"
   ]
  },
  {
   "cell_type": "code",
   "execution_count": 71,
   "metadata": {},
   "outputs": [
    {
     "data": {
      "text/latex": [
       "$\\displaystyle \\begin{cases} - m + n = - m + n & \\text{for}\\: n \\geq m \\\\- m + n = - m + n & \\text{for}\\: n < m \\\\- m - n = - m - n & \\text{otherwise} \\end{cases}$"
      ],
      "text/plain": [
       "⎧-m + n = -m + n  for n ≥ m\n",
       "⎪                          \n",
       "⎨-m + n = -m + n  for n < m\n",
       "⎪                          \n",
       "⎩-m - n = -m - n  otherwise"
      ]
     },
     "execution_count": 71,
     "metadata": {},
     "output_type": "execute_result"
    }
   ],
   "source": [
    "from sympy.functions.elementary.piecewise import *\n",
    "\n",
    "n, np, m, mp, x = symbols(\"n, np, m, mp, x\", Naturals0 = True)\n",
    "\n",
    "Piecewise(\n",
    "    (Eq(n + (-m), n - m, evaluate = False), n >= m),\n",
    "    (Eq(n + (-m), -(m - n), evaluate = False), n < m),\n",
    "    (Eq((-n) + (-m), -(n + m), evaluate = False), True),\n",
    "    evaluate = False\n",
    ")"
   ]
  },
  {
   "cell_type": "code",
   "execution_count": 72,
   "metadata": {},
   "outputs": [
    {
     "data": {
      "text/latex": [
       "$\\displaystyle n + x = m$"
      ],
      "text/plain": [
       "n + x = m"
      ]
     },
     "execution_count": 72,
     "metadata": {},
     "output_type": "execute_result"
    }
   ],
   "source": [
    "Z_subtraction = Eq(n + x, m)\n",
    "Z_subtraction"
   ]
  },
  {
   "cell_type": "code",
   "execution_count": 73,
   "metadata": {},
   "outputs": [
    {
     "data": {
      "text/latex": [
       "$\\displaystyle x + 10 = 5$"
      ],
      "text/plain": [
       "x + 10 = 5"
      ]
     },
     "execution_count": 73,
     "metadata": {},
     "output_type": "execute_result"
    }
   ],
   "source": [
    "ordered_pair1 = [(n, 10), (m, 5)]\n",
    "subs_Z_subtraction = Z_subtraction.subs(ordered_pair1)\n",
    "subs_Z_subtraction"
   ]
  },
  {
   "cell_type": "code",
   "execution_count": 74,
   "metadata": {},
   "outputs": [
    {
     "data": {
      "text/latex": [
       "$\\displaystyle \\left[ -5\\right]$"
      ],
      "text/plain": [
       "[-5]"
      ]
     },
     "execution_count": 74,
     "metadata": {},
     "output_type": "execute_result"
    }
   ],
   "source": [
    "solve(subs_Z_subtraction, x)"
   ]
  },
  {
   "cell_type": "code",
   "execution_count": 75,
   "metadata": {},
   "outputs": [
    {
     "data": {
      "text/latex": [
       "$\\displaystyle \\left( 2, \\  3\\right)$"
      ],
      "text/plain": [
       "(2, 3)"
      ]
     },
     "execution_count": 75,
     "metadata": {},
     "output_type": "execute_result"
    }
   ],
   "source": [
    "class ordered_pair_addition(Function):\n",
    "    @classmethod\n",
    "    def eval(cls, pair1, pair2):\n",
    "        m, n = pair1\n",
    "        mp, np = pair2\n",
    "        return (m + mp, n + np)\n",
    "\n",
    "ordered_pair_addition((2, 0), (0, 3))"
   ]
  },
  {
   "cell_type": "code",
   "execution_count": 76,
   "metadata": {},
   "outputs": [
    {
     "data": {
      "text/latex": [
       "$\\displaystyle \\left( -2, \\  -3\\right)$"
      ],
      "text/plain": [
       "(-2, -3)"
      ]
     },
     "execution_count": 76,
     "metadata": {},
     "output_type": "execute_result"
    }
   ],
   "source": [
    "ordered_pair_addition((-2, 0), (0, -3))"
   ]
  },
  {
   "cell_type": "code",
   "execution_count": 77,
   "metadata": {},
   "outputs": [
    {
     "data": {
      "text/latex": [
       "$\\displaystyle \\left( -2, \\  -3\\right)$"
      ],
      "text/plain": [
       "(-2, -3)"
      ]
     },
     "execution_count": 77,
     "metadata": {},
     "output_type": "execute_result"
    }
   ],
   "source": [
    "ordered_pair_addition((-2, 0), (0, -3))"
   ]
  },
  {
   "cell_type": "code",
   "execution_count": 78,
   "metadata": {},
   "outputs": [
    {
     "data": {
      "text/latex": [
       "$\\displaystyle \\left( 0, \\  6\\right)$"
      ],
      "text/plain": [
       "(0, 6)"
      ]
     },
     "execution_count": 78,
     "metadata": {},
     "output_type": "execute_result"
    }
   ],
   "source": [
    "class ordered_pair_product(Function):\n",
    "    @classmethod\n",
    "    def eval(cls, pair1, pair2):\n",
    "        m, n = pair1\n",
    "        mp, np = pair2\n",
    "        return ((m * mp) + (n * np), (m * np) + (n * mp))\n",
    "    \n",
    "ordered_pair_product((2, 0), (0, 3))"
   ]
  },
  {
   "cell_type": "code",
   "execution_count": 79,
   "metadata": {},
   "outputs": [
    {
     "data": {
      "text/latex": [
       "$\\displaystyle \\left( 0, \\  -6\\right)$"
      ],
      "text/plain": [
       "(0, -6)"
      ]
     },
     "execution_count": 79,
     "metadata": {},
     "output_type": "execute_result"
    }
   ],
   "source": [
    "ordered_pair_product((-2, 0), (0, 3))"
   ]
  },
  {
   "cell_type": "code",
   "execution_count": 80,
   "metadata": {},
   "outputs": [
    {
     "data": {
      "text/latex": [
       "$\\displaystyle \\left( 0, \\  6\\right)$"
      ],
      "text/plain": [
       "(0, 6)"
      ]
     },
     "execution_count": 80,
     "metadata": {},
     "output_type": "execute_result"
    }
   ],
   "source": [
    "ordered_pair_product((-2, 0), (0, -3))"
   ]
  },
  {
   "cell_type": "code",
   "execution_count": 81,
   "metadata": {},
   "outputs": [
    {
     "data": {
      "text/latex": [
       "$\\displaystyle \\left( 0, \\  6\\right)$"
      ],
      "text/plain": [
       "(0, 6)"
      ]
     },
     "execution_count": 81,
     "metadata": {},
     "output_type": "execute_result"
    }
   ],
   "source": [
    "ordered_pair_product((2, 0), (0, 3))"
   ]
  },
  {
   "cell_type": "code",
   "execution_count": 82,
   "metadata": {},
   "outputs": [
    {
     "data": {
      "text/latex": [
       "$\\displaystyle \\left( -4, \\  -6\\right)$"
      ],
      "text/plain": [
       "(-4, -6)"
      ]
     },
     "execution_count": 82,
     "metadata": {},
     "output_type": "execute_result"
    }
   ],
   "source": [
    "ordered_pair_product((-2, 0), (2, 3))"
   ]
  },
  {
   "cell_type": "code",
   "execution_count": 83,
   "metadata": {},
   "outputs": [
    {
     "data": {
      "text/latex": [
       "$\\displaystyle \\text{True}$"
      ],
      "text/plain": [
       "True"
      ]
     },
     "execution_count": 83,
     "metadata": {},
     "output_type": "execute_result"
    }
   ],
   "source": [
    "h = symbols(\"h\")\n",
    "\n",
    "a1, a2 = ordered_pair_product((-2, 0), (2, 3))\n",
    "b1, b2 = ordered_pair_product((-2 + h, 0 + h), (2 + h, 3 + h))\n",
    "\n",
    "Eq(Add(a1, -a2), Add(b1, -b2)).subs(h, 1)"
   ]
  },
  {
   "cell_type": "code",
   "execution_count": 84,
   "metadata": {},
   "outputs": [
    {
     "data": {
      "text/latex": [
       "$\\displaystyle \\text{True}$"
      ],
      "text/plain": [
       "True"
      ]
     },
     "execution_count": 84,
     "metadata": {},
     "output_type": "execute_result"
    }
   ],
   "source": [
    "Eq(Add(a1, -a2), Add(b1, -b2)).subs(h, 2)"
   ]
  },
  {
   "cell_type": "code",
   "execution_count": 85,
   "metadata": {},
   "outputs": [
    {
     "data": {
      "text/latex": [
       "$\\displaystyle \\left( \\left( m, \\  n\\right) = \\left( r, \\  s\\right), \\  m + s = n + r\\right)$"
      ],
      "text/plain": [
       "((m, n) = (r, s), m + s = n + r)"
      ]
     },
     "execution_count": 85,
     "metadata": {},
     "output_type": "execute_result"
    }
   ],
   "source": [
    "r, s = symbols(\"r, s\")\n",
    "\n",
    "ExprCondPair(\n",
    "    Eq((m, n), (r, s)),\n",
    "    Eq(m + s, n + r)\n",
    ")"
   ]
  },
  {
   "cell_type": "markdown",
   "metadata": {},
   "source": [
    "## 6. Rational Numbers"
   ]
  },
  {
   "cell_type": "markdown",
   "metadata": {},
   "source": [
    "Fractions are the response to the inability of numbers to always be divided evenly into whole numbers:"
   ]
  },
  {
   "cell_type": "code",
   "execution_count": 86,
   "metadata": {},
   "outputs": [
    {
     "data": {
      "text/latex": [
       "$\\displaystyle \\frac{m}{n} + \\frac{m`}{n`} = \\frac{m n` + m` n}{n n`}$"
      ],
      "text/plain": [
       "m   m`   m⋅n` + m`⋅n\n",
       "─ + ── = ───────────\n",
       "n   n`       n⋅n`   "
      ]
     },
     "execution_count": 86,
     "metadata": {},
     "output_type": "execute_result"
    }
   ],
   "source": [
    "m, mp, n, np = symbols(\"m, m`, n, n`\", interger = True, positive = True)\n",
    "\n",
    "rational_sum_1 = (m / n) + (mp / np)\n",
    "rational_sum_2 = (m * np + mp * n) / (n * np)\n",
    "\n",
    "Eq(rational_sum_1, rational_sum_2)"
   ]
  },
  {
   "cell_type": "code",
   "execution_count": 87,
   "metadata": {},
   "outputs": [
    {
     "data": {
      "text/latex": [
       "$\\displaystyle \\frac{3}{4}$"
      ],
      "text/plain": [
       "3/4"
      ]
     },
     "execution_count": 87,
     "metadata": {},
     "output_type": "execute_result"
    }
   ],
   "source": [
    "rational_sum_1.subs([(m, 2), (n, 4), (mp, 1), (np, 4)])"
   ]
  },
  {
   "cell_type": "code",
   "execution_count": 88,
   "metadata": {},
   "outputs": [
    {
     "data": {
      "text/latex": [
       "$\\displaystyle \\frac{3}{4}$"
      ],
      "text/plain": [
       "3/4"
      ]
     },
     "execution_count": 88,
     "metadata": {},
     "output_type": "execute_result"
    }
   ],
   "source": [
    "rational_sum_2.subs([(m, 2), (n, 4), (mp, 1), (np, 4)])"
   ]
  },
  {
   "cell_type": "code",
   "execution_count": 89,
   "metadata": {},
   "outputs": [
    {
     "data": {
      "text/latex": [
       "$\\displaystyle \\frac{1}{8}$"
      ],
      "text/plain": [
       "1/8"
      ]
     },
     "execution_count": 89,
     "metadata": {},
     "output_type": "execute_result"
    }
   ],
   "source": [
    "rational_mul_1 = (m / n) * (mp / np)\n",
    "rational_mul_2 = (m * mp) / (n * np)\n",
    "\n",
    "rational_mul_1.subs([(m, 2), (n, 4), (mp, 1), (np, 4)])"
   ]
  },
  {
   "cell_type": "code",
   "execution_count": 90,
   "metadata": {},
   "outputs": [
    {
     "data": {
      "text/latex": [
       "$\\displaystyle \\frac{1}{8}$"
      ],
      "text/plain": [
       "1/8"
      ]
     },
     "execution_count": 90,
     "metadata": {},
     "output_type": "execute_result"
    }
   ],
   "source": [
    "rational_mul_2.subs([(m, 2), (n, 4), (mp, 1), (np, 4)])"
   ]
  },
  {
   "cell_type": "code",
   "execution_count": 91,
   "metadata": {},
   "outputs": [
    {
     "data": {
      "text/plain": [
       "True"
      ]
     },
     "execution_count": 91,
     "metadata": {},
     "output_type": "execute_result"
    }
   ],
   "source": [
    "S.Rationals.is_superset(S.Naturals)"
   ]
  },
  {
   "cell_type": "code",
   "execution_count": 92,
   "metadata": {},
   "outputs": [
    {
     "data": {
      "text/latex": [
       "$\\displaystyle \\left( 12, \\  16\\right)$"
      ],
      "text/plain": [
       "(12, 16)"
      ]
     },
     "execution_count": 92,
     "metadata": {},
     "output_type": "execute_result"
    }
   ],
   "source": [
    "class Q_sum(Function):\n",
    "    @classmethod\n",
    "    def eval(cls, pair1, pair2):\n",
    "        m, n = pair1\n",
    "        mp, np = pair2\n",
    "        return ((m * np) + (n * mp), n * np)\n",
    "    \n",
    "Q_sum((2, 4), (1, 4))"
   ]
  },
  {
   "cell_type": "code",
   "execution_count": 93,
   "metadata": {},
   "outputs": [
    {
     "data": {
      "text/latex": [
       "$\\displaystyle \\left( 2, \\  16\\right)$"
      ],
      "text/plain": [
       "(2, 16)"
      ]
     },
     "execution_count": 93,
     "metadata": {},
     "output_type": "execute_result"
    }
   ],
   "source": [
    "class Q_mul(Function):\n",
    "    @classmethod\n",
    "    def eval(cls, pair1, pair2):\n",
    "        m, n = pair1\n",
    "        mp, np = pair2\n",
    "        return (m * mp, n * np)\n",
    "    \n",
    "Q_mul((2, 4), (1, 4))"
   ]
  },
  {
   "cell_type": "markdown",
   "metadata": {},
   "source": [
    "# 7. Congruence"
   ]
  },
  {
   "cell_type": "code",
   "execution_count": 94,
   "metadata": {},
   "outputs": [
    {
     "data": {
      "text/latex": [
       "$\\displaystyle 3$"
      ],
      "text/plain": [
       "3"
      ]
     },
     "execution_count": 94,
     "metadata": {},
     "output_type": "execute_result"
    }
   ],
   "source": [
    "(6 + 7) % 10"
   ]
  },
  {
   "cell_type": "code",
   "execution_count": 95,
   "metadata": {},
   "outputs": [
    {
     "data": {
      "text/latex": [
       "$\\displaystyle 5$"
      ],
      "text/plain": [
       "5"
      ]
     },
     "execution_count": 95,
     "metadata": {},
     "output_type": "execute_result"
    }
   ],
   "source": [
    "(8 + 7) % 10"
   ]
  },
  {
   "cell_type": "code",
   "execution_count": 96,
   "metadata": {},
   "outputs": [
    {
     "data": {
      "text/latex": [
       "$\\displaystyle 4$"
      ],
      "text/plain": [
       "4"
      ]
     },
     "execution_count": 96,
     "metadata": {},
     "output_type": "execute_result"
    }
   ],
   "source": [
    "(8 * 3) % 10"
   ]
  },
  {
   "cell_type": "code",
   "execution_count": 97,
   "metadata": {},
   "outputs": [
    {
     "data": {
      "text/latex": [
       "$\\displaystyle 7$"
      ],
      "text/plain": [
       "7"
      ]
     },
     "execution_count": 97,
     "metadata": {},
     "output_type": "execute_result"
    }
   ],
   "source": [
    "(3 * 9) % 10"
   ]
  },
  {
   "cell_type": "code",
   "execution_count": 98,
   "metadata": {},
   "outputs": [
    {
     "data": {
      "text/latex": [
       "$\\displaystyle \\text{True}$"
      ],
      "text/plain": [
       "True"
      ]
     },
     "execution_count": 98,
     "metadata": {},
     "output_type": "execute_result"
    }
   ],
   "source": [
    "from sympy.ntheory.factor_ import digits\n",
    "\n",
    "class casting_out_9s(Function):\n",
    "    @classmethod\n",
    "    def eval(cls, arg1, arg2):\n",
    "        total = arg1 * arg2\n",
    "        total_sum = sum(digits(total, 10)[1:])\n",
    "        total_sum = sum(digits(total_sum, 10)[1:])\n",
    "        arg1_sum = sum(digits(arg1, 10)[1:])\n",
    "        arg2_sum = sum(digits(arg2, 10)[1:])\n",
    "        args_sum = sum(digits(arg1_sum * arg2_sum, 10)[1:])\n",
    "        return Eq(args_sum, total_sum)\n",
    "        \n",
    "casting_out_9s(32, 27)"
   ]
  },
  {
   "cell_type": "code",
   "execution_count": 99,
   "metadata": {},
   "outputs": [
    {
     "data": {
      "text/latex": [
       "$\\displaystyle a = b\\bmod{m} \\Leftrightarrow \\left(a - b\\right)\\bmod{m} = 0$"
      ],
      "text/plain": [
       "a = b mod m ⇔ (a - b) mod m = 0"
      ]
     },
     "execution_count": 99,
     "metadata": {},
     "output_type": "execute_result"
    }
   ],
   "source": [
    "a, b, m = symbols(\"a, b, m\")\n",
    "\n",
    "congruence = Equivalent(\n",
    "    Eq(a, b % m),\n",
    "    Eq((a - b) % m, 0)\n",
    ")\n",
    "congruence"
   ]
  },
  {
   "cell_type": "code",
   "execution_count": 100,
   "metadata": {},
   "outputs": [
    {
     "data": {
      "text/latex": [
       "$\\displaystyle \\text{True}$"
      ],
      "text/plain": [
       "True"
      ]
     },
     "execution_count": 100,
     "metadata": {},
     "output_type": "execute_result"
    }
   ],
   "source": [
    "congruence.subs([(a, 20), (b, 9), (m, 2)])"
   ]
  },
  {
   "cell_type": "code",
   "execution_count": 101,
   "metadata": {},
   "outputs": [
    {
     "data": {
      "text/latex": [
       "$\\displaystyle \\left( \\left(a + c\\right)\\bmod{m} = \\left(b + d\\right)\\bmod{m}, \\  a\\bmod{m} = b\\bmod{m} \\wedge c\\bmod{m} = d\\bmod{m}\\right)$"
      ],
      "text/plain": [
       "((a + c) mod m = (b + d) mod m, a mod m = b mod m ∧ c mod m = d mod m)"
      ]
     },
     "execution_count": 101,
     "metadata": {},
     "output_type": "execute_result"
    }
   ],
   "source": [
    "a, b, c, d, m = symbols(\"a, b, c, d, m\")\n",
    "\n",
    "congruent_sum = ExprCondPair(\n",
    "    Eq((a + c) % m, (b + d) % m),\n",
    "    And(Eq(a % m, b % m), Eq(c % m, d % m))\n",
    ")\n",
    "congruent_sum"
   ]
  },
  {
   "cell_type": "code",
   "execution_count": 102,
   "metadata": {},
   "outputs": [
    {
     "data": {
      "text/latex": [
       "$\\displaystyle \\left( \\text{False}, \\  \\text{False}\\right)$"
      ],
      "text/plain": [
       "(False, False)"
      ]
     },
     "execution_count": 102,
     "metadata": {},
     "output_type": "execute_result"
    }
   ],
   "source": [
    "congruent_sum.subs([(a, 20), (b, 3), (c, 18), (d, 8), (m, 8)])"
   ]
  },
  {
   "cell_type": "code",
   "execution_count": 103,
   "metadata": {},
   "outputs": [
    {
     "data": {
      "text/latex": [
       "$\\displaystyle \\left( \\text{True}, \\  \\text{True}\\right)$"
      ],
      "text/plain": [
       "(True, True)"
      ]
     },
     "execution_count": 103,
     "metadata": {},
     "output_type": "execute_result"
    }
   ],
   "source": [
    "congruent_sum.subs([(a, 20), (b, 4), (c, 25), (d, 1), (m, 8)])"
   ]
  },
  {
   "cell_type": "code",
   "execution_count": 104,
   "metadata": {},
   "outputs": [
    {
     "data": {
      "text/latex": [
       "$\\displaystyle \\left( a c\\bmod{m} = b d\\bmod{m}, \\  a\\bmod{m} = b\\bmod{m} \\wedge c\\bmod{m} = d\\bmod{m}\\right)$"
      ],
      "text/plain": [
       "(a⋅c mod m = b⋅d mod m, a mod m = b mod m ∧ c mod m = d mod m)"
      ]
     },
     "execution_count": 104,
     "metadata": {},
     "output_type": "execute_result"
    }
   ],
   "source": [
    "congruent_product = ExprCondPair(\n",
    "    Eq((a * c) % m, (b * d) % m),\n",
    "    And(Eq(a % m, b % m), Eq(c % m, d % m))\n",
    ")\n",
    "congruent_product"
   ]
  },
  {
   "cell_type": "code",
   "execution_count": 105,
   "metadata": {},
   "outputs": [
    {
     "data": {
      "text/latex": [
       "$\\displaystyle \\left( \\text{False}, \\  \\text{False}\\right)$"
      ],
      "text/plain": [
       "(False, False)"
      ]
     },
     "execution_count": 105,
     "metadata": {},
     "output_type": "execute_result"
    }
   ],
   "source": [
    "congruent_product.subs([(a, 21), (b, 3), (c, 18), (d, 8), (m, 8)])"
   ]
  },
  {
   "cell_type": "code",
   "execution_count": 106,
   "metadata": {},
   "outputs": [
    {
     "data": {
      "text/latex": [
       "$\\displaystyle \\left( \\text{True}, \\  \\text{True}\\right)$"
      ],
      "text/plain": [
       "(True, True)"
      ]
     },
     "execution_count": 106,
     "metadata": {},
     "output_type": "execute_result"
    }
   ],
   "source": [
    "congruent_product.subs([(a, 20), (b, 4), (c, 25), (d, 1), (m, 8)])"
   ]
  },
  {
   "cell_type": "code",
   "execution_count": 107,
   "metadata": {},
   "outputs": [
    {
     "data": {
      "text/latex": [
       "$\\displaystyle \\phi\\left(p\\right) = p - 1$"
      ],
      "text/plain": [
       "totient(p) = p - 1"
      ]
     },
     "execution_count": 107,
     "metadata": {},
     "output_type": "execute_result"
    }
   ],
   "source": [
    "p = symbols(\"p\", is_prime = True)\n",
    "\n",
    "euler_phi1 = Eq(totient(p), p - 1)\n",
    "euler_phi1"
   ]
  },
  {
   "cell_type": "code",
   "execution_count": 108,
   "metadata": {},
   "outputs": [
    {
     "data": {
      "text/latex": [
       "$\\displaystyle \\text{True}$"
      ],
      "text/plain": [
       "True"
      ]
     },
     "execution_count": 108,
     "metadata": {},
     "output_type": "execute_result"
    }
   ],
   "source": [
    "euler_phi1.subs(p, 7)"
   ]
  },
  {
   "cell_type": "code",
   "execution_count": 109,
   "metadata": {},
   "outputs": [
    {
     "data": {
      "text/latex": [
       "$\\displaystyle \\text{False}$"
      ],
      "text/plain": [
       "False"
      ]
     },
     "execution_count": 109,
     "metadata": {},
     "output_type": "execute_result"
    }
   ],
   "source": [
    "euler_phi1.subs(p, 6)"
   ]
  },
  {
   "cell_type": "code",
   "execution_count": 110,
   "metadata": {},
   "outputs": [
    {
     "data": {
      "text/latex": [
       "$\\displaystyle \\phi\\left(p^{k}\\right) = p^{k - 1} \\left(p - 1\\right)$"
      ],
      "text/plain": [
       "       ⎛ k⎞    k - 1        \n",
       "totient⎝p ⎠ = p     ⋅(p - 1)"
      ]
     },
     "execution_count": 110,
     "metadata": {},
     "output_type": "execute_result"
    }
   ],
   "source": [
    "k = symbols(\"k\")\n",
    "\n",
    "lft = totient(p**k)\n",
    "rgt = (p - 1) * (p**(k - 1))\n",
    "euler_phi2 = Eq(lft, rgt)\n",
    "euler_phi2"
   ]
  },
  {
   "cell_type": "code",
   "execution_count": 111,
   "metadata": {},
   "outputs": [
    {
     "data": {
      "text/latex": [
       "$\\displaystyle \\text{True}$"
      ],
      "text/plain": [
       "True"
      ]
     },
     "execution_count": 111,
     "metadata": {},
     "output_type": "execute_result"
    }
   ],
   "source": [
    "euler_phi2.subs([(p, 7), (k, 2)])"
   ]
  },
  {
   "cell_type": "code",
   "execution_count": 112,
   "metadata": {},
   "outputs": [
    {
     "data": {
      "text/latex": [
       "$\\displaystyle 42$"
      ],
      "text/plain": [
       "42"
      ]
     },
     "execution_count": 112,
     "metadata": {},
     "output_type": "execute_result"
    }
   ],
   "source": [
    "lft.subs([(p, 7), (k, 2)])"
   ]
  },
  {
   "cell_type": "code",
   "execution_count": 113,
   "metadata": {},
   "outputs": [
    {
     "data": {
      "text/latex": [
       "$\\displaystyle 42$"
      ],
      "text/plain": [
       "42"
      ]
     },
     "execution_count": 113,
     "metadata": {},
     "output_type": "execute_result"
    }
   ],
   "source": [
    "rgt.subs([(p, 7), (k, 2)])"
   ]
  },
  {
   "cell_type": "code",
   "execution_count": 114,
   "metadata": {},
   "outputs": [
    {
     "data": {
      "text/latex": [
       "$\\displaystyle \\phi\\left(m n\\right) = \\phi\\left(m\\right) \\phi\\left(n\\right)$"
      ],
      "text/plain": [
       "totient(m⋅n) = totient(m)⋅totient(n)"
      ]
     },
     "execution_count": 114,
     "metadata": {},
     "output_type": "execute_result"
    }
   ],
   "source": [
    "euler_phi3 = Eq(totient(m * n), totient(m) * totient(n))\n",
    "euler_phi3"
   ]
  },
  {
   "cell_type": "code",
   "execution_count": 115,
   "metadata": {},
   "outputs": [
    {
     "data": {
      "text/latex": [
       "$\\displaystyle \\text{True}$"
      ],
      "text/plain": [
       "True"
      ]
     },
     "execution_count": 115,
     "metadata": {},
     "output_type": "execute_result"
    }
   ],
   "source": [
    "# m & n have to have a GCD of 1\n",
    "euler_phi3.subs([(m, 5), (n, 3)])"
   ]
  },
  {
   "cell_type": "code",
   "execution_count": 116,
   "metadata": {},
   "outputs": [
    {
     "data": {
      "text/latex": [
       "$\\displaystyle \\text{False}$"
      ],
      "text/plain": [
       "False"
      ]
     },
     "execution_count": 116,
     "metadata": {},
     "output_type": "execute_result"
    }
   ],
   "source": [
    "# Here without a GCD of 1\n",
    "euler_phi3.subs([(m, 6), (n, 3)])"
   ]
  },
  {
   "cell_type": "code",
   "execution_count": 117,
   "metadata": {},
   "outputs": [
    {
     "data": {
      "text/latex": [
       "$\\displaystyle \\left\\{a \\mid a \\in \\mathbb{Z} \\wedge a\\bmod{5} = 1 \\right\\}$"
      ],
      "text/plain": [
       "{a | a ∊ ℤ ∧ (a mod 5 = 1)}"
      ]
     },
     "execution_count": 117,
     "metadata": {},
     "output_type": "execute_result"
    }
   ],
   "source": [
    "a, r, m = symbols(\"a, r, m\")\n",
    "\n",
    "class congruenceClass():\n",
    "\n",
    "    def __new__(cls, *args):\n",
    "        if len(args) < 1:\n",
    "            return EmptySet\n",
    "        else:\n",
    "            subs = [(r, args[0]), (m, args[1])]\n",
    "            return ConditionSet(a, Eq(a % m, r % m).subs(subs), S.Integers)\n",
    "        \n",
    "    \n",
    "Cmr = congruenceClass(1, 5)\n",
    "Cmr"
   ]
  },
  {
   "cell_type": "code",
   "execution_count": 118,
   "metadata": {},
   "outputs": [
    {
     "data": {
      "text/latex": [
       "$\\displaystyle \\left\\{a \\mid a \\in \\mathbb{Z} \\wedge a\\bmod{5} = 3 \\right\\}$"
      ],
      "text/plain": [
       "{a | a ∊ ℤ ∧ (a mod 5 = 3)}"
      ]
     },
     "execution_count": 118,
     "metadata": {},
     "output_type": "execute_result"
    }
   ],
   "source": [
    "Cms = congruenceClass(3, 5)\n",
    "Cms"
   ]
  },
  {
   "cell_type": "code",
   "execution_count": 119,
   "metadata": {},
   "outputs": [
    {
     "data": {
      "text/latex": [
       "$\\displaystyle \\left[ -9, \\  -4, \\  1, \\  6\\right]$"
      ],
      "text/plain": [
       "[-9, -4, 1, 6]"
      ]
     },
     "execution_count": 119,
     "metadata": {},
     "output_type": "execute_result"
    }
   ],
   "source": [
    "Cmr_as = [x for x in range(-10, 10) if x in Cmr]\n",
    "Cmr_as"
   ]
  },
  {
   "cell_type": "code",
   "execution_count": 120,
   "metadata": {},
   "outputs": [
    {
     "data": {
      "text/latex": [
       "$\\displaystyle \\left[ -7, \\  -2, \\  3, \\  8\\right]$"
      ],
      "text/plain": [
       "[-7, -2, 3, 8]"
      ]
     },
     "execution_count": 120,
     "metadata": {},
     "output_type": "execute_result"
    }
   ],
   "source": [
    "Cms_bs = [x for x in range(-10, 10) if x in Cms]\n",
    "Cms_bs"
   ]
  },
  {
   "cell_type": "code",
   "execution_count": 121,
   "metadata": {},
   "outputs": [
    {
     "data": {
      "text/latex": [
       "$\\displaystyle \\left\\{a \\mid a \\in \\mathbb{Z} \\wedge a\\bmod{5} = 4 \\right\\}$"
      ],
      "text/plain": [
       "{a | a ∊ ℤ ∧ (a mod 5 = 4)}"
      ]
     },
     "execution_count": 121,
     "metadata": {},
     "output_type": "execute_result"
    }
   ],
   "source": [
    "Cmr_plus_Cms_0 = congruenceClass(Cmr_as[0] + Cms_bs[0], 5)\n",
    "Cmr_plus_Cms_0"
   ]
  },
  {
   "cell_type": "code",
   "execution_count": 122,
   "metadata": {},
   "outputs": [
    {
     "data": {
      "text/latex": [
       "$\\displaystyle \\left[ -6, \\  -1, \\  4, \\  9\\right]$"
      ],
      "text/plain": [
       "[-6, -1, 4, 9]"
      ]
     },
     "execution_count": 122,
     "metadata": {},
     "output_type": "execute_result"
    }
   ],
   "source": [
    "Cmr_plus_Cms_0_as = [x for x in range(-10, 10) if x in Cmr_plus_Cms_0]\n",
    "Cmr_plus_Cms_0_as"
   ]
  },
  {
   "cell_type": "code",
   "execution_count": 123,
   "metadata": {},
   "outputs": [
    {
     "data": {
      "text/latex": [
       "$\\displaystyle \\left\\{a \\mid a \\in \\mathbb{Z} \\wedge a\\bmod{5} = 4 \\right\\}$"
      ],
      "text/plain": [
       "{a | a ∊ ℤ ∧ (a mod 5 = 4)}"
      ]
     },
     "execution_count": 123,
     "metadata": {},
     "output_type": "execute_result"
    }
   ],
   "source": [
    "Cmr_plus_Cms_2 = congruenceClass(Cmr_as[2] + Cms_bs[2], 5)\n",
    "Cmr_plus_Cms_2"
   ]
  },
  {
   "cell_type": "code",
   "execution_count": 124,
   "metadata": {},
   "outputs": [
    {
     "data": {
      "text/latex": [
       "$\\displaystyle \\left[ -6, \\  -1, \\  4, \\  9\\right]$"
      ],
      "text/plain": [
       "[-6, -1, 4, 9]"
      ]
     },
     "execution_count": 124,
     "metadata": {},
     "output_type": "execute_result"
    }
   ],
   "source": [
    "Cmr_plus_Cms_2_as = [x for x in range(-10, 10) if x in Cmr_plus_Cms_2]\n",
    "Cmr_plus_Cms_2_as"
   ]
  },
  {
   "cell_type": "code",
   "execution_count": 125,
   "metadata": {},
   "outputs": [
    {
     "data": {
      "text/plain": [
       "True"
      ]
     },
     "execution_count": 125,
     "metadata": {},
     "output_type": "execute_result"
    }
   ],
   "source": [
    "Cmr_plus_Cms_0_as == Cmr_plus_Cms_2_as"
   ]
  },
  {
   "cell_type": "markdown",
   "metadata": {},
   "source": [
    "3 descriptions of algebra of integers module *m*:\n",
    "\n",
    "- ordinary integers with new equality; congurence modulo *m*\n",
    "- algebra of remainders modulo *m*\n",
    "- algebra of congruence classes, modulo *m*"
   ]
  },
  {
   "cell_type": "code",
   "execution_count": 126,
   "metadata": {},
   "outputs": [
    {
     "data": {
      "text/latex": [
       "$\\displaystyle x^{2}\\bmod{4} \\in \\left\\{1, 2\\right\\}$"
      ],
      "text/plain": [
       " 2               \n",
       "x  mod 4 ∈ {1, 2}"
      ]
     },
     "execution_count": 126,
     "metadata": {},
     "output_type": "execute_result"
    }
   ],
   "source": [
    "x = symbols(\"x\", Integer = True)\n",
    "\n",
    "x_sqr_mod_4 = FiniteSet(1, 2).contains(x**2 % 4)\n",
    "x_sqr_mod_4"
   ]
  },
  {
   "cell_type": "code",
   "execution_count": 127,
   "metadata": {},
   "outputs": [
    {
     "data": {
      "text/latex": [
       "$\\displaystyle \\text{True}$"
      ],
      "text/plain": [
       "True"
      ]
     },
     "execution_count": 127,
     "metadata": {},
     "output_type": "execute_result"
    }
   ],
   "source": [
    "x_sqr_mod_4.subs(x, 19)"
   ]
  },
  {
   "cell_type": "code",
   "execution_count": 128,
   "metadata": {},
   "outputs": [
    {
     "data": {
      "text/latex": [
       "$\\displaystyle x^{2}\\bmod{8} \\in \\left\\{0, 1, 4\\right\\}$"
      ],
      "text/plain": [
       " 2                  \n",
       "x  mod 8 ∈ {0, 1, 4}"
      ]
     },
     "execution_count": 128,
     "metadata": {},
     "output_type": "execute_result"
    }
   ],
   "source": [
    "x_sqr_mod_8 = FiniteSet(0, 1, 4).contains(x**2 % 8)\n",
    "x_sqr_mod_8"
   ]
  },
  {
   "cell_type": "code",
   "execution_count": 129,
   "metadata": {},
   "outputs": [
    {
     "data": {
      "text/latex": [
       "$\\displaystyle \\text{True}$"
      ],
      "text/plain": [
       "True"
      ]
     },
     "execution_count": 129,
     "metadata": {},
     "output_type": "execute_result"
    }
   ],
   "source": [
    "x_sqr_mod_8.subs(x, 9)"
   ]
  },
  {
   "cell_type": "code",
   "execution_count": 130,
   "metadata": {},
   "outputs": [
    {
     "data": {
      "text/latex": [
       "$\\displaystyle \\left( 23, \\  105\\right)$"
      ],
      "text/plain": [
       "(23, 105)"
      ]
     },
     "execution_count": 130,
     "metadata": {},
     "output_type": "execute_result"
    }
   ],
   "source": [
    "from sympy.ntheory.modular import crt\n",
    "\n",
    "modulos = [3, 5, 7]\n",
    "remainders = [2, 3, 2]\n",
    "\n",
    "result = crt(modulos, remainders)\n",
    "result"
   ]
  },
  {
   "cell_type": "code",
   "execution_count": 131,
   "metadata": {},
   "outputs": [
    {
     "data": {
      "text/latex": [
       "$\\displaystyle 23$"
      ],
      "text/plain": [
       "23"
      ]
     },
     "execution_count": 131,
     "metadata": {},
     "output_type": "execute_result"
    }
   ],
   "source": [
    "x = result[0]\n",
    "x"
   ]
  },
  {
   "cell_type": "code",
   "execution_count": 132,
   "metadata": {},
   "outputs": [
    {
     "data": {
      "text/latex": [
       "$\\displaystyle 105$"
      ],
      "text/plain": [
       "105"
      ]
     },
     "execution_count": 132,
     "metadata": {},
     "output_type": "execute_result"
    }
   ],
   "source": [
    "N = prod(modulos)\n",
    "N"
   ]
  },
  {
   "cell_type": "code",
   "execution_count": 133,
   "metadata": {},
   "outputs": [
    {
     "data": {
      "text/plain": [
       "[True, True, True]"
      ]
     },
     "execution_count": 133,
     "metadata": {},
     "output_type": "execute_result"
    }
   ],
   "source": [
    "[x % y == z for y, z in zip(modulos, remainders)]"
   ]
  },
  {
   "cell_type": "markdown",
   "metadata": {},
   "source": [
    "# 8. Cardinal Numbers"
   ]
  },
  {
   "cell_type": "code",
   "execution_count": 134,
   "metadata": {},
   "outputs": [
    {
     "data": {
      "text/latex": [
       "$\\displaystyle \\left\\{0, 1\\right\\}$"
      ],
      "text/plain": [
       "{0, 1}"
      ]
     },
     "execution_count": 134,
     "metadata": {},
     "output_type": "execute_result"
    }
   ],
   "source": [
    "Ss, Ts, Sp, Tp = symbols(\"S, T, S`, T`\")\n",
    "\n",
    "Ss = FiniteSet(0, 1)\n",
    "Sp = FiniteSet(0, 1)\n",
    "Ts = FiniteSet(2, 3, 4)\n",
    "Tp = FiniteSet(2, 3, 4)\n",
    "Ss"
   ]
  },
  {
   "cell_type": "code",
   "execution_count": 135,
   "metadata": {},
   "outputs": [
    {
     "data": {
      "text/latex": [
       "$\\displaystyle \\text{True}$"
      ],
      "text/plain": [
       "True"
      ]
     },
     "execution_count": 135,
     "metadata": {},
     "output_type": "execute_result"
    }
   ],
   "source": [
    "Equivalent(Ss, Sp)"
   ]
  },
  {
   "cell_type": "code",
   "execution_count": 136,
   "metadata": {},
   "outputs": [
    {
     "data": {
      "text/latex": [
       "$\\displaystyle \\text{True}$"
      ],
      "text/plain": [
       "True"
      ]
     },
     "execution_count": 136,
     "metadata": {},
     "output_type": "execute_result"
    }
   ],
   "source": [
    "Equivalent(Ts, Tp)"
   ]
  },
  {
   "cell_type": "code",
   "execution_count": 137,
   "metadata": {},
   "outputs": [
    {
     "data": {
      "text/latex": [
       "$\\displaystyle \\emptyset$"
      ],
      "text/plain": [
       "∅"
      ]
     },
     "execution_count": 137,
     "metadata": {},
     "output_type": "execute_result"
    }
   ],
   "source": [
    "Ss.intersect(Ts)"
   ]
  },
  {
   "cell_type": "code",
   "execution_count": 138,
   "metadata": {},
   "outputs": [
    {
     "data": {
      "text/plain": [
       "True"
      ]
     },
     "execution_count": 138,
     "metadata": {},
     "output_type": "execute_result"
    }
   ],
   "source": [
    "Ss.is_disjoint(Ts)"
   ]
  },
  {
   "cell_type": "code",
   "execution_count": 139,
   "metadata": {},
   "outputs": [
    {
     "data": {
      "text/latex": [
       "$\\displaystyle \\left\\{0, 1, 2, 3, 4\\right\\}$"
      ],
      "text/plain": [
       "{0, 1, 2, 3, 4}"
      ]
     },
     "execution_count": 139,
     "metadata": {},
     "output_type": "execute_result"
    }
   ],
   "source": [
    "Ss + Ts"
   ]
  },
  {
   "cell_type": "code",
   "execution_count": 140,
   "metadata": {},
   "outputs": [
    {
     "data": {
      "text/latex": [
       "$\\displaystyle b:\\left\\{0, 1\\right\\}\\rightarrow \\left\\{0, 1\\right\\}$"
      ],
      "text/plain": [
       "b:{0, 1}——▶{0, 1}"
      ]
     },
     "execution_count": 140,
     "metadata": {},
     "output_type": "execute_result"
    }
   ],
   "source": [
    "b = NamedMorphism(Ss, Sp, \"b\")\n",
    "b"
   ]
  },
  {
   "cell_type": "code",
   "execution_count": 141,
   "metadata": {},
   "outputs": [
    {
     "data": {
      "text/latex": [
       "$\\displaystyle c:\\left\\{2, 3, 4\\right\\}\\rightarrow \\left\\{2, 3, 4\\right\\}$"
      ],
      "text/plain": [
       "c:{2, 3, 4}——▶{2, 3, 4}"
      ]
     },
     "execution_count": 141,
     "metadata": {},
     "output_type": "execute_result"
    }
   ],
   "source": [
    "c = NamedMorphism(Ts, Tp, \"c\")\n",
    "c"
   ]
  },
  {
   "cell_type": "code",
   "execution_count": 142,
   "metadata": {},
   "outputs": [
    {
     "data": {
      "text/latex": [
       "$\\displaystyle \\text{True}$"
      ],
      "text/plain": [
       "True"
      ]
     },
     "execution_count": 142,
     "metadata": {},
     "output_type": "execute_result"
    }
   ],
   "source": [
    "Equivalent(Ss + Ts, Sp + Tp)"
   ]
  },
  {
   "cell_type": "code",
   "execution_count": 143,
   "metadata": {},
   "outputs": [
    {
     "data": {
      "text/latex": [
       "$\\displaystyle \\text{True}$"
      ],
      "text/plain": [
       "True"
      ]
     },
     "execution_count": 143,
     "metadata": {},
     "output_type": "execute_result"
    }
   ],
   "source": [
    "Implies(\n",
    "    And(Equivalent(Ss, Sp), Equivalent(Ts, Tp)),\n",
    "    Equivalent(Ss + Ts, Sp + Tp)\n",
    ")"
   ]
  },
  {
   "cell_type": "code",
   "execution_count": 144,
   "metadata": {},
   "outputs": [
    {
     "data": {
      "text/latex": [
       "$\\displaystyle \\left\\{0, 1\\right\\} \\times \\left\\{2, 3, 4\\right\\}$"
      ],
      "text/plain": [
       "{0, 1} × {2, 3, 4}"
      ]
     },
     "execution_count": 144,
     "metadata": {},
     "output_type": "execute_result"
    }
   ],
   "source": [
    "ProductSet(Ss, Ts)"
   ]
  },
  {
   "cell_type": "code",
   "execution_count": 145,
   "metadata": {},
   "outputs": [
    {
     "data": {
      "text/latex": [
       "$\\displaystyle \\text{True}$"
      ],
      "text/plain": [
       "True"
      ]
     },
     "execution_count": 145,
     "metadata": {},
     "output_type": "execute_result"
    }
   ],
   "source": [
    "Implies(\n",
    "    And(Equivalent(Ss, Sp), Equivalent(Ts, Tp)),\n",
    "    Equivalent(\n",
    "        ProductSet(Ss, Ts),\n",
    "        ProductSet(Sp, Tp)\n",
    "    )\n",
    ")"
   ]
  },
  {
   "cell_type": "code",
   "execution_count": 146,
   "metadata": {},
   "outputs": [
    {
     "data": {
      "text/latex": [
       "$\\displaystyle \\left\\{0, 1\\right\\}^{3}$"
      ],
      "text/plain": [
       "      3\n",
       "{0, 1} "
      ]
     },
     "execution_count": 146,
     "metadata": {},
     "output_type": "execute_result"
    }
   ],
   "source": [
    "ProductSet(Ss, Ss, Ss)"
   ]
  },
  {
   "cell_type": "code",
   "execution_count": 147,
   "metadata": {},
   "outputs": [
    {
     "data": {
      "text/latex": [
       "$\\displaystyle \\left[ 0, \\  1\\right]$"
      ],
      "text/plain": [
       "[0, 1]"
      ]
     },
     "execution_count": 147,
     "metadata": {},
     "output_type": "execute_result"
    }
   ],
   "source": [
    "list(Ss)"
   ]
  },
  {
   "cell_type": "code",
   "execution_count": 148,
   "metadata": {},
   "outputs": [
    {
     "data": {
      "text/latex": [
       "$\\displaystyle \\left[ \\left\\{\\left\\{0, 2\\right\\}, \\left\\{0, 3\\right\\}, \\left\\{0, 4\\right\\}\\right\\}, \\  \\left\\{\\left\\{0, 2\\right\\}, \\left\\{0, 3\\right\\}, \\left\\{1, 4\\right\\}\\right\\}, \\  \\left\\{\\left\\{0, 2\\right\\}, \\left\\{0, 4\\right\\}, \\left\\{1, 3\\right\\}\\right\\}, \\  \\left\\{\\left\\{0, 2\\right\\}, \\left\\{1, 3\\right\\}, \\left\\{1, 4\\right\\}\\right\\}, \\  \\left\\{\\left\\{0, 3\\right\\}, \\left\\{0, 4\\right\\}, \\left\\{1, 2\\right\\}\\right\\}, \\  \\left\\{\\left\\{0, 3\\right\\}, \\left\\{1, 2\\right\\}, \\left\\{1, 4\\right\\}\\right\\}, \\  \\left\\{\\left\\{0, 4\\right\\}, \\left\\{1, 2\\right\\}, \\left\\{1, 3\\right\\}\\right\\}, \\  \\left\\{\\left\\{1, 2\\right\\}, \\left\\{1, 3\\right\\}, \\left\\{1, 4\\right\\}\\right\\}\\right]$"
      ],
      "text/plain": [
       "[{{0, 2}, {0, 3}, {0, 4}}, {{0, 2}, {0, 3}, {1, 4}}, {{0, 2}, {0, 4}, {1, 3}},\n",
       " {{0, 2}, {1, 3}, {1, 4}}, {{0, 3}, {0, 4}, {1, 2}}, {{0, 3}, {1, 2}, {1, 4}},\n",
       " {{0, 4}, {1, 2}, {1, 3}}, {{1, 2}, {1, 3}, {1, 4}}]"
      ]
     },
     "execution_count": 148,
     "metadata": {},
     "output_type": "execute_result"
    }
   ],
   "source": [
    "class f(Function):\n",
    "    @classmethod\n",
    "    def eval(cls, base, power):\n",
    "        if isinstance(base, type(Set())) and isinstance(power, type(Set())):\n",
    "            combos = list(itertools.product(base, repeat = len(power)))\n",
    "            new_combos = []\n",
    "            for c in combos:\n",
    "                temp = []\n",
    "                for t, p in zip(c, power):\n",
    "                    temp.append(FiniteSet(t, p))\n",
    "                new_combos.append(set(temp))\n",
    "            return new_combos\n",
    "\n",
    "f(Ss, Ts)"
   ]
  },
  {
   "cell_type": "code",
   "execution_count": 149,
   "metadata": {},
   "outputs": [
    {
     "data": {
      "text/plain": [
       "True"
      ]
     },
     "execution_count": 149,
     "metadata": {},
     "output_type": "execute_result"
    }
   ],
   "source": [
    "f(Ss, Ts) == f(Sp, Tp)"
   ]
  },
  {
   "cell_type": "code",
   "execution_count": 150,
   "metadata": {},
   "outputs": [
    {
     "data": {
      "text/latex": [
       "$\\displaystyle \\text{True}$"
      ],
      "text/plain": [
       "True"
      ]
     },
     "execution_count": 150,
     "metadata": {},
     "output_type": "execute_result"
    }
   ],
   "source": [
    "Implies(\n",
    "    And(Equivalent(Ss, Sp), Equivalent(Ts, Tp)),\n",
    "    f(Ss, Ts) == f(Sp, Tp)\n",
    ")"
   ]
  },
  {
   "cell_type": "code",
   "execution_count": 151,
   "metadata": {},
   "outputs": [
    {
     "data": {
      "text/plain": [
       "True"
      ]
     },
     "execution_count": 151,
     "metadata": {},
     "output_type": "execute_result"
    }
   ],
   "source": [
    "f(b.domain, Ts) == f(b.codomain, Ts)"
   ]
  },
  {
   "cell_type": "code",
   "execution_count": 152,
   "metadata": {},
   "outputs": [
    {
     "data": {
      "text/plain": [
       "True"
      ]
     },
     "execution_count": 152,
     "metadata": {},
     "output_type": "execute_result"
    }
   ],
   "source": [
    "f(Ss, c.domain) == f(Ss, c.codomain)"
   ]
  },
  {
   "cell_type": "code",
   "execution_count": 153,
   "metadata": {},
   "outputs": [
    {
     "data": {
      "text/plain": [
       "True"
      ]
     },
     "execution_count": 153,
     "metadata": {},
     "output_type": "execute_result"
    }
   ],
   "source": [
    "class equinumerous(Function):\n",
    "    @classmethod\n",
    "    def eval(cls, a, b):\n",
    "        return len(a) == len(b)\n",
    "        \n",
    "equinumerous(Ss, Sp)"
   ]
  },
  {
   "cell_type": "code",
   "execution_count": 154,
   "metadata": {},
   "outputs": [
    {
     "data": {
      "text/plain": [
       "False"
      ]
     },
     "execution_count": 154,
     "metadata": {},
     "output_type": "execute_result"
    }
   ],
   "source": [
    "equinumerous(Ss, [Sp, Tp, Sp])"
   ]
  },
  {
   "cell_type": "code",
   "execution_count": 155,
   "metadata": {},
   "outputs": [
    {
     "data": {
      "text/latex": [
       "$\\displaystyle \\left[ \\left\\{0, 1\\right\\}, \\  \\left\\{0, 2\\right\\}, \\  \\left\\{3, 4\\right\\}\\right]$"
      ],
      "text/plain": [
       "[{0, 1}, {0, 2}, {3, 4}]"
      ]
     },
     "execution_count": 155,
     "metadata": {},
     "output_type": "execute_result"
    }
   ],
   "source": [
    "class cardinal_set(Function):\n",
    "    @classmethod\n",
    "    def eval(cls, s, s_primes):\n",
    "        return [prime for prime in s_primes if equinumerous(s, prime)]\n",
    "\n",
    "S_prime = symbols(\"S_prime\")\n",
    "S_prime = [Sp, FiniteSet(0, 2), FiniteSet(3, 4)]\n",
    "    \n",
    "card_S = cardinal_set(Ss, S_prime)\n",
    "card_S"
   ]
  },
  {
   "cell_type": "code",
   "execution_count": 156,
   "metadata": {},
   "outputs": [
    {
     "data": {
      "text/latex": [
       "$\\displaystyle \\left[ \\left\\{2, 3, 4\\right\\}, \\  \\left\\{0, 3, 5\\right\\}, \\  \\left\\{1, 4, 6\\right\\}\\right]$"
      ],
      "text/plain": [
       "[{2, 3, 4}, {0, 3, 5}, {1, 4, 6}]"
      ]
     },
     "execution_count": 156,
     "metadata": {},
     "output_type": "execute_result"
    }
   ],
   "source": [
    "T_prime = symbols(\"T_prime\")\n",
    "T_prime = [Tp, FiniteSet(0, 3, 5), FiniteSet(1, 4, 6)]\n",
    "\n",
    "card_T = cardinal_set(Ts, T_prime)\n",
    "card_T"
   ]
  },
  {
   "cell_type": "code",
   "execution_count": 157,
   "metadata": {},
   "outputs": [
    {
     "data": {
      "text/latex": [
       "$\\displaystyle \\left[ \\left\\{0, 1\\right\\}, \\  \\left\\{0, 2\\right\\}, \\  \\left\\{3, 4\\right\\}, \\  \\left\\{2, 3, 4\\right\\}, \\  \\left\\{0, 3, 5\\right\\}, \\  \\left\\{1, 4, 6\\right\\}\\right]$"
      ],
      "text/plain": [
       "[{0, 1}, {0, 2}, {3, 4}, {2, 3, 4}, {0, 3, 5}, {1, 4, 6}]"
      ]
     },
     "execution_count": 157,
     "metadata": {},
     "output_type": "execute_result"
    }
   ],
   "source": [
    "card_S + card_T"
   ]
  },
  {
   "cell_type": "code",
   "execution_count": 158,
   "metadata": {},
   "outputs": [
    {
     "data": {
      "text/latex": [
       "$\\displaystyle \\left[ \\left\\{0, 1\\right\\}, \\  \\left\\{0, 2\\right\\}, \\  \\left\\{3, 4\\right\\}, \\  \\left\\{2, 3, 4\\right\\}, \\  \\left\\{0, 3, 5\\right\\}, \\  \\left\\{1, 4, 6\\right\\}\\right]$"
      ],
      "text/plain": [
       "[{0, 1}, {0, 2}, {3, 4}, {2, 3, 4}, {0, 3, 5}, {1, 4, 6}]"
      ]
     },
     "execution_count": 158,
     "metadata": {},
     "output_type": "execute_result"
    }
   ],
   "source": [
    "S_prime + T_prime"
   ]
  },
  {
   "cell_type": "code",
   "execution_count": 159,
   "metadata": {},
   "outputs": [
    {
     "data": {
      "text/latex": [
       "$\\displaystyle \\left[ \\left\\{0, 1, 2, 3, 4\\right\\}, \\  \\left\\{1, 2, 3, 4, 5\\right\\}\\right]$"
      ],
      "text/plain": [
       "[{0, 1, 2, 3, 4}, {1, 2, 3, 4, 5}]"
      ]
     },
     "execution_count": 159,
     "metadata": {},
     "output_type": "execute_result"
    }
   ],
   "source": [
    "ST_prime = symbols(\"ST_prime\")\n",
    "ST_prime = [FiniteSet(0, 1, 2, 3, 4), FiniteSet(1, 2, 3, 4, 5), FiniteSet(1, 2)]\n",
    "\n",
    "cardinal_set(Ss + Ts, ST_prime)"
   ]
  },
  {
   "cell_type": "code",
   "execution_count": 160,
   "metadata": {},
   "outputs": [
    {
     "data": {
      "text/latex": [
       "$\\displaystyle \\left[ \\left( \\left\\{0, 1\\right\\}, \\  \\left\\{2, 3, 4\\right\\}\\right), \\  \\left( \\left\\{0, 1\\right\\}, \\  \\left\\{0, 3, 5\\right\\}\\right), \\  \\left( \\left\\{0, 1\\right\\}, \\  \\left\\{1, 4, 6\\right\\}\\right), \\  \\left( \\left\\{0, 2\\right\\}, \\  \\left\\{2, 3, 4\\right\\}\\right), \\  \\left( \\left\\{0, 2\\right\\}, \\  \\left\\{0, 3, 5\\right\\}\\right), \\  \\left( \\left\\{0, 2\\right\\}, \\  \\left\\{1, 4, 6\\right\\}\\right), \\  \\left( \\left\\{3, 4\\right\\}, \\  \\left\\{2, 3, 4\\right\\}\\right), \\  \\left( \\left\\{3, 4\\right\\}, \\  \\left\\{0, 3, 5\\right\\}\\right), \\  \\left( \\left\\{3, 4\\right\\}, \\  \\left\\{1, 4, 6\\right\\}\\right)\\right]$"
      ],
      "text/plain": [
       "[({0, 1}, {2, 3, 4}), ({0, 1}, {0, 3, 5}), ({0, 1}, {1, 4, 6}), ({0, 2}, {2, 3\n",
       ", 4}), ({0, 2}, {0, 3, 5}), ({0, 2}, {1, 4, 6}), ({3, 4}, {2, 3, 4}), ({3, 4},\n",
       " {0, 3, 5}), ({3, 4}, {1, 4, 6})]"
      ]
     },
     "execution_count": 160,
     "metadata": {},
     "output_type": "execute_result"
    }
   ],
   "source": [
    "list(itertools.product(card_S, card_T))"
   ]
  },
  {
   "cell_type": "code",
   "execution_count": 161,
   "metadata": {},
   "outputs": [
    {
     "data": {
      "text/latex": [
       "$\\displaystyle \\left[ \\right]$"
      ],
      "text/plain": [
       "[]"
      ]
     },
     "execution_count": 161,
     "metadata": {},
     "output_type": "execute_result"
    }
   ],
   "source": [
    "# This needs reworking\n",
    "cardinal_set(list(itertools.product(Ss, Ts)), ST_prime)"
   ]
  },
  {
   "cell_type": "code",
   "execution_count": 162,
   "metadata": {},
   "outputs": [
    {
     "data": {
      "text/latex": [
       "$\\displaystyle \\mathbb{U}$"
      ],
      "text/plain": [
       "𝕌"
      ]
     },
     "execution_count": 162,
     "metadata": {},
     "output_type": "execute_result"
    }
   ],
   "source": [
    "R = ConditionSet(Ss, not Ss in Ss)\n",
    "R"
   ]
  },
  {
   "cell_type": "code",
   "execution_count": 163,
   "metadata": {},
   "outputs": [
    {
     "data": {
      "text/latex": [
       "$\\displaystyle \\text{True}$"
      ],
      "text/plain": [
       "True"
      ]
     },
     "execution_count": 163,
     "metadata": {},
     "output_type": "execute_result"
    }
   ],
   "source": [
    "Equivalent(\n",
    "    Ss in R,\n",
    "    Not(Ss in Ss)\n",
    ")"
   ]
  },
  {
   "cell_type": "code",
   "execution_count": 164,
   "metadata": {},
   "outputs": [
    {
     "data": {
      "text/plain": [
       "True"
      ]
     },
     "execution_count": 164,
     "metadata": {},
     "output_type": "execute_result"
    }
   ],
   "source": [
    "R in R # can't handle the required sets unfortunately"
   ]
  },
  {
   "cell_type": "code",
   "execution_count": 165,
   "metadata": {},
   "outputs": [
    {
     "data": {
      "text/latex": [
       "$\\displaystyle \\text{False}$"
      ],
      "text/plain": [
       "False"
      ]
     },
     "execution_count": 165,
     "metadata": {},
     "output_type": "execute_result"
    }
   ],
   "source": [
    "Not(R in R) # can't handle the required sets unfortunately"
   ]
  },
  {
   "cell_type": "code",
   "execution_count": 166,
   "metadata": {},
   "outputs": [
    {
     "data": {
      "text/latex": [
       "$\\displaystyle \\emptyset$"
      ],
      "text/plain": [
       "∅"
      ]
     },
     "execution_count": 166,
     "metadata": {},
     "output_type": "execute_result"
    }
   ],
   "source": [
    "X = S.Integers.powerset()\n",
    "P = lambda x: Eq(Mod(x, 2), 0) # has the property P\n",
    "T = ConditionSet(x, P(x), X); T"
   ]
  },
  {
   "cell_type": "code",
   "execution_count": 167,
   "metadata": {},
   "outputs": [
    {
     "data": {
      "text/latex": [
       "$\\displaystyle PowerSet\\left(\\mathbb{Z}\\right)$"
      ],
      "text/plain": [
       "PowerSet(Integers)"
      ]
     },
     "execution_count": 167,
     "metadata": {},
     "output_type": "execute_result"
    }
   ],
   "source": [
    "U = S.Integers\n",
    "U.powerset()"
   ]
  },
  {
   "cell_type": "code",
   "execution_count": 168,
   "metadata": {},
   "outputs": [
    {
     "data": {
      "text/latex": [
       "$\\displaystyle \\mathbb{Z}$"
      ],
      "text/plain": [
       "ℤ"
      ]
     },
     "execution_count": 168,
     "metadata": {},
     "output_type": "execute_result"
    }
   ],
   "source": [
    "V0 = S.Integers; V0"
   ]
  },
  {
   "cell_type": "code",
   "execution_count": 169,
   "metadata": {},
   "outputs": [
    {
     "data": {
      "text/latex": [
       "$\\displaystyle PowerSet\\left(\\mathbb{Z}\\right)$"
      ],
      "text/plain": [
       "PowerSet(Integers)"
      ]
     },
     "execution_count": 169,
     "metadata": {},
     "output_type": "execute_result"
    }
   ],
   "source": [
    "V1 = V0.powerset(); V1"
   ]
  },
  {
   "cell_type": "code",
   "execution_count": 170,
   "metadata": {},
   "outputs": [
    {
     "data": {
      "text/latex": [
       "$\\displaystyle PowerSet\\left(PowerSet\\left(\\mathbb{Z}\\right)\\right)$"
      ],
      "text/plain": [
       "PowerSet(PowerSet(Integers))"
      ]
     },
     "execution_count": 170,
     "metadata": {},
     "output_type": "execute_result"
    }
   ],
   "source": [
    "V2 = V1.powerset(); V2"
   ]
  },
  {
   "cell_type": "markdown",
   "metadata": {},
   "source": [
    "# 9. Ordinal Numbers"
   ]
  },
  {
   "cell_type": "code",
   "execution_count": 171,
   "metadata": {},
   "outputs": [
    {
     "data": {
      "text/plain": [
       "'1st'"
      ]
     },
     "execution_count": 171,
     "metadata": {},
     "output_type": "execute_result"
    }
   ],
   "source": [
    "from sympy.utilities.misc import ordinal\n",
    "\n",
    "ordinal(1)"
   ]
  },
  {
   "cell_type": "code",
   "execution_count": 172,
   "metadata": {},
   "outputs": [
    {
     "data": {
      "text/plain": [
       "['0th', '1st', '2nd', '3rd', '4th', '5th', '6th', '7th', '8th', '9th']"
      ]
     },
     "execution_count": 172,
     "metadata": {},
     "output_type": "execute_result"
    }
   ],
   "source": [
    "[ordinal(x) for x in range(0, 10)]"
   ]
  },
  {
   "cell_type": "code",
   "execution_count": 173,
   "metadata": {},
   "outputs": [
    {
     "data": {
      "text/plain": [
       "True"
      ]
     },
     "execution_count": 173,
     "metadata": {},
     "output_type": "execute_result"
    }
   ],
   "source": [
    "P = Range(1, 5)\n",
    "Pp = Range(6, 10)\n",
    "\n",
    "class ordinally_equivalent(Function):\n",
    "    @classmethod\n",
    "    def eval(cls, P, Pp):\n",
    "        if len(P) == len(Pp):\n",
    "            \n",
    "            p_truths = []\n",
    "            for p in P:\n",
    "                for not_p in Complement(P, FiniteSet(p)):\n",
    "                    p_truths.append(p < not_p or p > not_p)\n",
    "                    \n",
    "            pp_truths = []\n",
    "            for pp in Pp:\n",
    "                for not_pp in Complement(Pp, FiniteSet(pp)):\n",
    "                    pp_truths.append(pp < not_pp or pp > not_pp)\n",
    "                    \n",
    "            return all(p_truths) and all(pp_truths)\n",
    "        else:\n",
    "            return False\n",
    "\n",
    "ordinally_equivalent(P, Pp)"
   ]
  },
  {
   "cell_type": "code",
   "execution_count": 174,
   "metadata": {},
   "outputs": [
    {
     "data": {
      "text/latex": [
       "$\\displaystyle \\left\\{1, 2, 3, 4\\right\\}$"
      ],
      "text/plain": [
       "{1, 2, 3, 4}"
      ]
     },
     "execution_count": 174,
     "metadata": {},
     "output_type": "execute_result"
    }
   ],
   "source": [
    "V0 = S.Integers\n",
    "V1 = V0.powerset()\n",
    "\n",
    "ord_P = ConditionSet(Pp, Pp in V1 and ordinally_equivalent(P, Pp), P)\n",
    "ord_P"
   ]
  },
  {
   "cell_type": "code",
   "execution_count": 175,
   "metadata": {},
   "outputs": [
    {
     "data": {
      "text/plain": [
       "True"
      ]
     },
     "execution_count": 175,
     "metadata": {},
     "output_type": "execute_result"
    }
   ],
   "source": [
    "Q = Pp\n",
    "\n",
    "P.is_disjoint(Q)"
   ]
  },
  {
   "cell_type": "code",
   "execution_count": 176,
   "metadata": {},
   "outputs": [
    {
     "data": {
      "text/latex": [
       "$\\displaystyle \\left\\{1, 2, 3, 4\\right\\} \\cup \\left\\{6, 7, 8, 9\\right\\}$"
      ],
      "text/plain": [
       "{1, 2, 3, 4} ∪ {6, 7, 8, 9}"
      ]
     },
     "execution_count": 176,
     "metadata": {},
     "output_type": "execute_result"
    }
   ],
   "source": [
    "P + Q"
   ]
  },
  {
   "cell_type": "code",
   "execution_count": 177,
   "metadata": {},
   "outputs": [
    {
     "data": {
      "text/latex": [
       "$\\displaystyle \\left\\{\\left( 1, \\  6\\right), \\left( 1, \\  7\\right), \\left( 1, \\  8\\right), \\left( 1, \\  9\\right), \\left( 2, \\  6\\right), \\left( 2, \\  7\\right), \\left( 2, \\  8\\right), \\left( 2, \\  9\\right), \\left( 3, \\  6\\right), \\left( 3, \\  7\\right), \\left( 3, \\  8\\right), \\left( 3, \\  9\\right), \\left( 4, \\  6\\right), \\left( 4, \\  7\\right), \\left( 4, \\  8\\right), \\left( 4, \\  9\\right)\\right\\}$"
      ],
      "text/plain": [
       "{(1, 6), (1, 7), (1, 8), (1, 9), (2, 6), (2, 7), (2, 8), (2, 9), (3, 6), (3, 7\n",
       "), (3, 8), (3, 9), (4, 6), (4, 7), (4, 8), (4, 9)}"
      ]
     },
     "execution_count": 177,
     "metadata": {},
     "output_type": "execute_result"
    }
   ],
   "source": [
    "product_set = set(ProductSet(P, Q))\n",
    "product_set"
   ]
  },
  {
   "cell_type": "code",
   "execution_count": 178,
   "metadata": {},
   "outputs": [
    {
     "data": {
      "text/latex": [
       "$\\displaystyle \\left( 2, \\  7\\right)$"
      ],
      "text/plain": [
       "(2, 7)"
      ]
     },
     "execution_count": 178,
     "metadata": {},
     "output_type": "execute_result"
    }
   ],
   "source": [
    "list(product_set)[0]"
   ]
  },
  {
   "cell_type": "code",
   "execution_count": 179,
   "metadata": {},
   "outputs": [
    {
     "data": {
      "text/plain": [
       "True"
      ]
     },
     "execution_count": 179,
     "metadata": {},
     "output_type": "execute_result"
    }
   ],
   "source": [
    "def lexicographic_order_LT(prod1, prod2):\n",
    "    \"\"\" Determine if prod1 < prod2. \"\"\"\n",
    "    p1, q1 = prod1\n",
    "    p2, q2 = prod2\n",
    "    if p1 < p2 or (p1 == p2 and q1 < q2):\n",
    "        return True\n",
    "    else:\n",
    "        return False\n",
    "    \n",
    "lexicographic_order_LT((1, 6), (3, 8))"
   ]
  },
  {
   "cell_type": "code",
   "execution_count": 180,
   "metadata": {},
   "outputs": [
    {
     "data": {
      "text/plain": [
       "False"
      ]
     },
     "execution_count": 180,
     "metadata": {},
     "output_type": "execute_result"
    }
   ],
   "source": [
    "lexicographic_order_LT((1, 6), (1, 6))"
   ]
  },
  {
   "cell_type": "code",
   "execution_count": 181,
   "metadata": {},
   "outputs": [
    {
     "data": {
      "text/plain": [
       "True"
      ]
     },
     "execution_count": 181,
     "metadata": {},
     "output_type": "execute_result"
    }
   ],
   "source": [
    "lexicographic_order_LT((1, 6), (3, 6))"
   ]
  },
  {
   "cell_type": "code",
   "execution_count": 182,
   "metadata": {},
   "outputs": [
    {
     "data": {
      "text/plain": [
       "False"
      ]
     },
     "execution_count": 182,
     "metadata": {},
     "output_type": "execute_result"
    }
   ],
   "source": [
    "lexicographic_order_LT((3, 6), (1, 6))"
   ]
  },
  {
   "cell_type": "code",
   "execution_count": 183,
   "metadata": {},
   "outputs": [
    {
     "data": {
      "text/plain": [
       "False"
      ]
     },
     "execution_count": 183,
     "metadata": {},
     "output_type": "execute_result"
    }
   ],
   "source": [
    "lexicographic_order_LT((3, 6), (3, 4))"
   ]
  },
  {
   "cell_type": "code",
   "execution_count": 184,
   "metadata": {},
   "outputs": [
    {
     "data": {
      "text/latex": [
       "$\\displaystyle \\left\\{\\left( 1, \\  5\\right), \\left( 1, \\  6\\right), \\left( 1, \\  7\\right), \\left( 2, \\  5\\right), \\left( 2, \\  6\\right), \\left( 2, \\  7\\right)\\right\\}$"
      ],
      "text/plain": [
       "{(1, 5), (1, 6), (1, 7), (2, 5), (2, 6), (2, 7)}"
      ]
     },
     "execution_count": 184,
     "metadata": {},
     "output_type": "execute_result"
    }
   ],
   "source": [
    "P, Pp, Q, Qp = symbols(\"P, P`, Q, Q`\")\n",
    "\n",
    "P = Range(1, 3)\n",
    "Pp = Range(3, 5)\n",
    "Q = Range(5, 8)\n",
    "Qp = Range(8, 11)\n",
    "\n",
    "set(ProductSet(P, Q))"
   ]
  },
  {
   "cell_type": "code",
   "execution_count": 185,
   "metadata": {},
   "outputs": [
    {
     "data": {
      "text/latex": [
       "$\\displaystyle \\left[ \\left\\{\\left\\{1, 5\\right\\}, \\left\\{1, 6\\right\\}, \\left\\{1, 7\\right\\}\\right\\}, \\  \\left\\{\\left\\{1, 5\\right\\}, \\left\\{1, 6\\right\\}, \\left\\{2, 7\\right\\}\\right\\}, \\  \\left\\{\\left\\{1, 5\\right\\}, \\left\\{1, 7\\right\\}, \\left\\{2, 6\\right\\}\\right\\}, \\  \\left\\{\\left\\{1, 5\\right\\}, \\left\\{2, 6\\right\\}, \\left\\{2, 7\\right\\}\\right\\}, \\  \\left\\{\\left\\{1, 6\\right\\}, \\left\\{1, 7\\right\\}, \\left\\{2, 5\\right\\}\\right\\}, \\  \\left\\{\\left\\{1, 6\\right\\}, \\left\\{2, 5\\right\\}, \\left\\{2, 7\\right\\}\\right\\}, \\  \\left\\{\\left\\{1, 7\\right\\}, \\left\\{2, 5\\right\\}, \\left\\{2, 6\\right\\}\\right\\}, \\  \\left\\{\\left\\{2, 5\\right\\}, \\left\\{2, 6\\right\\}, \\left\\{2, 7\\right\\}\\right\\}\\right]$"
      ],
      "text/plain": [
       "[{{1, 5}, {1, 6}, {1, 7}}, {{1, 5}, {1, 6}, {2, 7}}, {{1, 5}, {1, 7}, {2, 6}},\n",
       " {{1, 5}, {2, 6}, {2, 7}}, {{1, 6}, {1, 7}, {2, 5}}, {{1, 6}, {2, 5}, {2, 7}},\n",
       " {{1, 7}, {2, 5}, {2, 6}}, {{2, 5}, {2, 6}, {2, 7}}]"
      ]
     },
     "execution_count": 185,
     "metadata": {},
     "output_type": "execute_result"
    }
   ],
   "source": [
    "f(P, Q)"
   ]
  },
  {
   "cell_type": "code",
   "execution_count": 186,
   "metadata": {},
   "outputs": [
    {
     "data": {
      "text/plain": [
       "'f < g'"
      ]
     },
     "execution_count": 186,
     "metadata": {},
     "output_type": "execute_result"
    }
   ],
   "source": [
    "def exponential_ordering(f, g, Q):\n",
    "    for q in Q:\n",
    "        if (f(q) != g(q)):\n",
    "            if (f(q) < g(q)):\n",
    "                return \"f < g\"\n",
    "\n",
    "def temp_f(x):\n",
    "    return x**1\n",
    "    \n",
    "def temp_g(x):\n",
    "    return x**2\n",
    "\n",
    "exponential_ordering(temp_f, temp_g, Q)"
   ]
  },
  {
   "cell_type": "code",
   "execution_count": 187,
   "metadata": {},
   "outputs": [
    {
     "data": {
      "text/plain": [
       "True"
      ]
     },
     "execution_count": 187,
     "metadata": {},
     "output_type": "execute_result"
    }
   ],
   "source": [
    "ordinally_equivalent(P, Pp)"
   ]
  },
  {
   "cell_type": "code",
   "execution_count": 188,
   "metadata": {},
   "outputs": [
    {
     "data": {
      "text/plain": [
       "True"
      ]
     },
     "execution_count": 188,
     "metadata": {},
     "output_type": "execute_result"
    }
   ],
   "source": [
    "ordinally_equivalent(Q, Qp)"
   ]
  },
  {
   "cell_type": "code",
   "execution_count": 189,
   "metadata": {},
   "outputs": [
    {
     "data": {
      "text/latex": [
       "$\\displaystyle \\text{True}$"
      ],
      "text/plain": [
       "True"
      ]
     },
     "execution_count": 189,
     "metadata": {},
     "output_type": "execute_result"
    }
   ],
   "source": [
    "Implies(\n",
    "    ordinally_equivalent(P, Pp) and ordinally_equivalent(Q, Qp),\n",
    "    ordinally_equivalent(\n",
    "        ProductSet(P, Q),\n",
    "        ProductSet(Pp, Qp)\n",
    "    )\n",
    ")"
   ]
  },
  {
   "cell_type": "code",
   "execution_count": 190,
   "metadata": {},
   "outputs": [
    {
     "data": {
      "text/latex": [
       "$\\displaystyle \\mathbb{N}$"
      ],
      "text/plain": [
       "ℕ"
      ]
     },
     "execution_count": 190,
     "metadata": {},
     "output_type": "execute_result"
    }
   ],
   "source": [
    "Naturals"
   ]
  },
  {
   "cell_type": "code",
   "execution_count": 191,
   "metadata": {},
   "outputs": [
    {
     "data": {
      "text/latex": [
       "$\\displaystyle \\mathbb{Z} \\setminus \\mathbb{N}_0$"
      ],
      "text/plain": [
       "ℤ \\ ℕ₀"
      ]
     },
     "execution_count": 191,
     "metadata": {},
     "output_type": "execute_result"
    }
   ],
   "source": [
    "N_minus = Complement(Integers, Naturals0); N_minus"
   ]
  },
  {
   "cell_type": "code",
   "execution_count": 192,
   "metadata": {},
   "outputs": [
    {
     "data": {
      "text/latex": [
       "$\\displaystyle \\left\\{5, 6, 7\\right\\}$"
      ],
      "text/plain": [
       "{5, 6, 7}"
      ]
     },
     "execution_count": 192,
     "metadata": {},
     "output_type": "execute_result"
    }
   ],
   "source": [
    "def well_ordered(P):\n",
    "    \"\"\" Definition of a well-ordered set. \"\"\"\n",
    "    powerset = PowerSet(P)\n",
    "    has_first = []\n",
    "    for p in powerset:\n",
    "        if len(p) == 1:\n",
    "            has_first.append(True)\n",
    "        else:\n",
    "            for item in p:\n",
    "                items = Complement(p, FiniteSet(item))\n",
    "                for other in items:\n",
    "                    if item < other or other < item:\n",
    "                        has_first.append(True)\n",
    "    return has_first\n",
    "\n",
    "Q"
   ]
  },
  {
   "cell_type": "code",
   "execution_count": 193,
   "metadata": {},
   "outputs": [
    {
     "data": {
      "text/plain": [
       "[True,\n",
       " True,\n",
       " True,\n",
       " True,\n",
       " True,\n",
       " True,\n",
       " True,\n",
       " True,\n",
       " True,\n",
       " True,\n",
       " True,\n",
       " True,\n",
       " True,\n",
       " True,\n",
       " True]"
      ]
     },
     "execution_count": 193,
     "metadata": {},
     "output_type": "execute_result"
    }
   ],
   "source": [
    "well_ordered(Q)"
   ]
  },
  {
   "cell_type": "code",
   "execution_count": 194,
   "metadata": {},
   "outputs": [
    {
     "data": {
      "text/latex": [
       "$\\displaystyle OrdinalOmega\\left(\\right)$"
      ],
      "text/plain": [
       "w"
      ]
     },
     "execution_count": 194,
     "metadata": {},
     "output_type": "execute_result"
    }
   ],
   "source": [
    "from sympy.sets import Ordinal, OmegaPower\n",
    "from sympy.sets.ordinals import omega, ord0\n",
    "\n",
    "w = omega\n",
    "w"
   ]
  },
  {
   "cell_type": "code",
   "execution_count": 195,
   "metadata": {},
   "outputs": [
    {
     "data": {
      "text/latex": [
       "$\\displaystyle \\text{True}$"
      ],
      "text/plain": [
       "True"
      ]
     },
     "execution_count": 195,
     "metadata": {},
     "output_type": "execute_result"
    }
   ],
   "source": [
    "Eq(w + w, w * 2)"
   ]
  },
  {
   "cell_type": "code",
   "execution_count": 196,
   "metadata": {},
   "outputs": [
    {
     "data": {
      "text/latex": [
       "$\\displaystyle \\text{True}$"
      ],
      "text/plain": [
       "True"
      ]
     },
     "execution_count": 196,
     "metadata": {},
     "output_type": "execute_result"
    }
   ],
   "source": [
    "Eq(2 * w, w)"
   ]
  },
  {
   "cell_type": "code",
   "execution_count": 197,
   "metadata": {},
   "outputs": [
    {
     "data": {
      "text/plain": [
       "False"
      ]
     },
     "execution_count": 197,
     "metadata": {},
     "output_type": "execute_result"
    }
   ],
   "source": [
    "2 * w == w * 2"
   ]
  },
  {
   "cell_type": "markdown",
   "metadata": {},
   "source": [
    "# 10. What Are Numbers?"
   ]
  },
  {
   "cell_type": "markdown",
   "metadata": {},
   "source": [
    "Alternative answers to this question are:\n",
    "\n",
    "- any sequence of marks (with successors) used for counting or labeling\n",
    "- natural numbers are finite sets with equinumerous sets regarded as equal\n",
    "- natural numbers are cardinal-equivalence classes of finite sets\n",
    "- natural numbers are ordinal-equivalence classes of finite ordered sets\n",
    "- natural numbers are finite sets of sets linearly ordered by membership relation"
   ]
  },
  {
   "cell_type": "markdown",
   "metadata": {},
   "source": [
    "This leads to the conclusion that there is no single definition of natural numbers; instead one defines the system of all natural numbers with a successor operation.\n",
    "\n",
    "*N* is any such system which satisfies the Peano postulates."
   ]
  },
  {
   "cell_type": "markdown",
   "metadata": {},
   "source": [
    "> The natural numbers start out from elementary operations of counting, listing, and comparing; they then develop into effective tools for calculation.\n",
    "The rules for calculation are formal and can be organized as the consequences of simple systems of postulates.\n",
    "The consequencesof these postulates include the remarkaby varied and rich properties studied in number theory . . ."
   ]
  },
  {
   "cell_type": "markdown",
   "metadata": {},
   "source": [
    "But number theory leads to other ideas:\n",
    "\n",
    "1. calculations with *N* do not allow all substractions or divisions so require **Z** & *Q*.\n",
    "2. calculations with congruences & integers modulo *m* (classes of numbers)\n",
    "3. the study of sets and functions"
   ]
  }
 ],
 "metadata": {
  "kernelspec": {
   "display_name": "Python 3.7.6 64-bit ('general')",
   "language": "python",
   "name": "python37664bitgeneralf111016462eb40168a5699d8a4cd4cec"
  },
  "language_info": {
   "codemirror_mode": {
    "name": "ipython",
    "version": 3
   },
   "file_extension": ".py",
   "mimetype": "text/x-python",
   "name": "python",
   "nbconvert_exporter": "python",
   "pygments_lexer": "ipython3",
   "version": "3.7.6"
  }
 },
 "nbformat": 4,
 "nbformat_minor": 4
}

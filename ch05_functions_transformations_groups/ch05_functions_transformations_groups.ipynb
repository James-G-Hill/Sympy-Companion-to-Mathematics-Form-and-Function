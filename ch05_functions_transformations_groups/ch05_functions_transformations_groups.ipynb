{
 "cells": [
  {
   "cell_type": "markdown",
   "metadata": {},
   "source": [
    "# Maths - Form & Function: Chapter 5 (Functions, Transformations, and Groups)"
   ]
  },
  {
   "cell_type": "markdown",
   "metadata": {},
   "source": [
    "## 1. Types of Functions"
   ]
  },
  {
   "cell_type": "markdown",
   "metadata": {},
   "source": [
    "Composite functions can be formed by substituting the elements of 1 function into a final form, as the quadratic equation (alt version) below is created from the micro functions in the 1st form."
   ]
  },
  {
   "cell_type": "code",
   "execution_count": 1,
   "metadata": {},
   "outputs": [
    {
     "name": "stdout",
     "output_type": "stream",
     "text": [
      "81\n",
      "81\n",
      "144\n",
      "144\n"
     ]
    }
   ],
   "source": [
    "# Proving equivalence of 2 formas of the quadratic equation:\n",
    "\n",
    "def quadratic_equation(x):\n",
    "    \"\"\" An example of the quadratic equation. \"\"\"\n",
    "    y = 2 + x\n",
    "    z = 3 * y\n",
    "    return z**2\n",
    "\n",
    "def alt_quadratic_equation(x):\n",
    "    \"\"\" An alternative form of the quadratic equation. \"\"\"\n",
    "    return 36 + 36 * x + 9 * x**2\n",
    "\n",
    "print(quadratic_equation(1))\n",
    "print(alt_quadratic_equation(1))\n",
    "print(quadratic_equation(2))\n",
    "print(alt_quadratic_equation(2))"
   ]
  },
  {
   "cell_type": "markdown",
   "metadata": {},
   "source": [
    "Some functions are not defined for all real numbers, for example, the below is not defined for x = 1 or x = 2:"
   ]
  },
  {
   "cell_type": "code",
   "execution_count": 2,
   "metadata": {},
   "outputs": [
    {
     "name": "stdout",
     "output_type": "stream",
     "text": [
      "Division by Zero!\n",
      "0.3333333333333333\n",
      "Division by Zero!\n",
      "0.9166666666666666\n"
     ]
    }
   ],
   "source": [
    "# The following function excludes x == 1 or x == 2:\n",
    "def rational_function(x):\n",
    "    \"\"\" An example of the rational function. \"\"\"\n",
    "    try:\n",
    "        numerator = (3 * pow(x, 2)) - 1\n",
    "        denominator = pow(x, 2) - (3 * x) + 2\n",
    "        return numerator / denominator\n",
    "    except ZeroDivisionError:\n",
    "        return \"Division by Zero!\"\n",
    "\n",
    "print(rational_function(1))\n",
    "print(rational_function(-1))\n",
    "print(rational_function(2))\n",
    "print(rational_function(-2))"
   ]
  },
  {
   "cell_type": "code",
   "execution_count": 3,
   "metadata": {},
   "outputs": [
    {
     "name": "stdout",
     "output_type": "stream",
     "text": [
      "1.0\n",
      "0.0\n",
      "No square root for negative numbers!\n"
     ]
    }
   ],
   "source": [
    "from math import sqrt\n",
    "\n",
    "# Another function over only a subset of Real numbers:\n",
    "def square_root_function(x):\n",
    "    \"\"\" Demonstrates square root only for positives. \"\"\"\n",
    "    try:\n",
    "        return sqrt(x)\n",
    "    except ValueError:\n",
    "        return \"No square root for negative numbers!\"\n",
    "    \n",
    "print(square_root_function(1))\n",
    "print(square_root_function(0))\n",
    "print(square_root_function(-1))"
   ]
  },
  {
   "cell_type": "markdown",
   "metadata": {},
   "source": [
    "Functions may be determined by several different operations, as in the below:"
   ]
  },
  {
   "cell_type": "code",
   "execution_count": 4,
   "metadata": {},
   "outputs": [
    {
     "name": "stdout",
     "output_type": "stream",
     "text": [
      "1\n",
      "0\n",
      "1\n"
     ]
    }
   ],
   "source": [
    "def multiple_operation_demonstration(x):\n",
    "    \"\"\" Simple demonstration of function with multiple operations. \"\"\"\n",
    "    if x >= 0:\n",
    "        return x\n",
    "    else:\n",
    "        return -x\n",
    "    \n",
    "print(multiple_operation_demonstration(1))\n",
    "print(multiple_operation_demonstration(0))\n",
    "print(multiple_operation_demonstration(-1))"
   ]
  },
  {
   "cell_type": "markdown",
   "metadata": {},
   "source": [
    "Following are some examples of physical formulas based on elementary laws:"
   ]
  },
  {
   "cell_type": "code",
   "execution_count": 5,
   "metadata": {},
   "outputs": [
    {
     "name": "stdout",
     "output_type": "stream",
     "text": [
      "5.0\n",
      "122.5875\n"
     ]
    }
   ],
   "source": [
    "def weight(density, volume):\n",
    "    \"\"\" Calculate weight from density & volume. \"\"\"\n",
    "    return density * volume\n",
    "\n",
    "print(weight(.5, 10))\n",
    "\n",
    "def distance(time, gravity = 9.807):\n",
    "    \"\"\" Calculates distance fallen in time. \"\"\"\n",
    "    return (gravity * time ** 2) / 2\n",
    "\n",
    "print(distance(5))"
   ]
  },
  {
   "cell_type": "markdown",
   "metadata": {},
   "source": [
    "## 2. Maps"
   ]
  },
  {
   "cell_type": "markdown",
   "metadata": {},
   "source": [
    "> ... \"maps\" - that is, functions, from one set *X* of objects, points, or numbers into some other set *Y*."
   ]
  },
  {
   "cell_type": "code",
   "execution_count": 6,
   "metadata": {},
   "outputs": [
    {
     "name": "stdout",
     "output_type": "stream",
     "text": [
      "(1, 5)\n"
     ]
    }
   ],
   "source": [
    "def transformation(x, y):\n",
    "    \"\"\" Demonstration of transformationn of 2 vectors. \"\"\"\n",
    "    a, c = x\n",
    "    b, d = y\n",
    "    x, y = tuple(map(sum, [(1, 0), (0, 1)]))\n",
    "    return (a * x + b * y, c * x + d * y)\n",
    "\n",
    "a, b, c, d = 0, 1, 2, 3\n",
    "print(transformation((a, c), (b, d)))"
   ]
  },
  {
   "cell_type": "code",
   "execution_count": 7,
   "metadata": {},
   "outputs": [
    {
     "name": "stdout",
     "output_type": "stream",
     "text": [
      "[[0 1]\n",
      " [2 3]]\n",
      "[[0 3]\n",
      " [1 2]]\n",
      "[[ 1  2]\n",
      " [ 3 12]]\n"
     ]
    }
   ],
   "source": [
    "import numpy as np\n",
    "\n",
    "matrix_a = np.array([[a, b], [c, d]])\n",
    "matrix_b = np.array([[a, d], [b, c]])\n",
    "\n",
    "print(matrix_a)\n",
    "print(matrix_b)\n",
    "print(matrix_a @ matrix_b)"
   ]
  },
  {
   "cell_type": "markdown",
   "metadata": {},
   "source": [
    "## 3. What is a Function?"
   ]
  },
  {
   "cell_type": "markdown",
   "metadata": {},
   "source": [
    "Intuitive (but imperfect) definitions of functions include:\n",
    "\n",
    "- *Formula* - with x as a value, the formula produces a number\n",
    "- *Rule* - rules applied to x produces corresponding value y\n",
    "- *Graph* - b is a point on a curve in geometric space matching a\n",
    "- *Dependence* - a determination of x fixes y, so y depends on x\n",
    "- *Table of Values* - each x in a table has a corresponding y value\n",
    "- *Syntax* - *f x* is just a symbolic representation of y\n",
    "\n",
    "Each of these definitions has problems."
   ]
  },
  {
   "cell_type": "markdown",
   "metadata": {},
   "source": [
    "## 4. Functions as Sets of Pairs"
   ]
  },
  {
   "cell_type": "code",
   "execution_count": 8,
   "metadata": {},
   "outputs": [
    {
     "name": "stdout",
     "output_type": "stream",
     "text": [
      "True\n",
      "True\n",
      "False\n",
      "False\n"
     ]
    }
   ],
   "source": [
    "def equality_of_sets(A, B):\n",
    "    \"\"\" Axiom for equality of sets. \"\"\"\n",
    "    X = A.union(B)\n",
    "    for x in X:\n",
    "        if not (x in A and x in B):\n",
    "            return False\n",
    "    return True\n",
    "\n",
    "def axiom_of_extensionality(A, B, C):\n",
    "    \"\"\" The axiom of extensionality for sets. \"\"\"\n",
    "    if equality_of_sets(A, B):\n",
    "        return A.issubset(C) and B.issubset(C)\n",
    "    else:\n",
    "        return False\n",
    "\n",
    "A = {0, 1, 2, 3}\n",
    "B = {3, 2, 1, 0}\n",
    "C = {0, 1, 2, 3, 4}\n",
    "print(equality_of_sets(A, B))\n",
    "print(axiom_of_extensionality(A, B, C))\n",
    "\n",
    "B = {1, 2, 3, 4}\n",
    "print(equality_of_sets(A, B))\n",
    "print(axiom_of_extensionality(A, B, C))"
   ]
  },
  {
   "cell_type": "markdown",
   "metadata": {},
   "source": [
    "> **Definition.** A *function f* on the set *X* to the set *Y* is a set *S ⊂ X × Y* of ordered pairs which to each *x ⊂ X* contains exactly one ordered pair <*x,y*> with first component *x*. The second component of this pair is the value of the function *f* at the argument *x*, written *f(x)*. We call *X* the *domain* and *Y* the *codomain* of the function *f*."
   ]
  },
  {
   "cell_type": "markdown",
   "metadata": {},
   "source": [
    "> ... two functions are equal if and only if they have the same domain, the same codomain, and the same values."
   ]
  },
  {
   "cell_type": "markdown",
   "metadata": {},
   "source": [
    "**injection**:\n",
    "> ... an injection maps the set *X* in one-to-one fashion onto some subset of *Y*, called the *image* of *f*."
   ]
  },
  {
   "cell_type": "markdown",
   "metadata": {},
   "source": [
    "**surjection**:\n",
    "> A function *f*: *X -> Y* is a *surjection* when to each *y* ∈ *Y* there is at least one element *x* ∈ *X* with *fx* = *y*."
   ]
  },
  {
   "cell_type": "markdown",
   "metadata": {},
   "source": [
    "**bijection**:\n",
    "> ... a function *f*: *X -> Y* is a *bijection* if and only if it is both an injection and a surjection: that is, if and only if there exists to each *y* ∈ *Y* exactly one *x* ∈ *X* with *fx* = *y*. Thus a bijection establishes a one-to-one correspondence between the elements of *X* and those of *Y*. A function *f* is a bijection if and only if it has a two sided inverse."
   ]
  },
  {
   "cell_type": "markdown",
   "metadata": {},
   "source": [
    "## 5. Transformation Groups"
   ]
  },
  {
   "cell_type": "markdown",
   "metadata": {},
   "source": [
    "> All told, the initial and quite intuitive observations of symmetry, of motion, and of transformations in geometry and of their composition leads to the formal set-theoretic notion of a transformation group. Its study involves algebra, geometry, and continuity."
   ]
  },
  {
   "cell_type": "markdown",
   "metadata": {},
   "source": [
    "## 6. Groups"
   ]
  },
  {
   "cell_type": "markdown",
   "metadata": {},
   "source": [
    "Categories of morphisms (functions preserving group structure):\n",
    "\n",
    "- morphism:\n",
    "    - homomorphism:\n",
    "        - monomorphism - function is an injection\n",
    "        - epimorphism - function is a surjection\n",
    "        - isomorphism - function is a bijection\n",
    "        - endomorphism - function of group to itself\n",
    "            - automorphism - endomorphism that is also bijection"
   ]
  },
  {
   "cell_type": "markdown",
   "metadata": {},
   "source": [
    "> **Theorem**. For any normal subgroup N of G there is a group H and an epimorphism $t: G \\rightarrow H$ with kernel exactly N. If $s: G \\rightarrow L$ is any group homomorphism with kernel containing N, there is a unique homomorphism $s': H \\rightarrow L$ with composite $s' \\cdot t = s$ . . ."
   ]
  },
  {
   "cell_type": "markdown",
   "metadata": {},
   "source": [
    "## 7. Galois Theory"
   ]
  },
  {
   "cell_type": "markdown",
   "metadata": {},
   "source": [
    "**Galois group:**\n",
    "- a transformation group\n",
    "    - of the splitting field *N*\n",
    "    - & of the polynomial *f*\n",
    "    - over the base field *F*"
   ]
  },
  {
   "cell_type": "code",
   "execution_count": 9,
   "metadata": {},
   "outputs": [
    {
     "name": "stdout",
     "output_type": "stream",
     "text": [
      "True\n",
      "True\n",
      "True\n"
     ]
    }
   ],
   "source": [
    "from cmath import isclose\n",
    "\n",
    "def easy_equation(x):\n",
    "    \"\"\" A simple equation with varying roots. \"\"\"\n",
    "    return isclose(pow(x, 3) - 5, 0, abs_tol = 1e-09)\n",
    "\n",
    "# Below are 3 roots of the equation; the real & 2 complex cube roots of unity\n",
    "print(easy_equation(np.cbrt(5)))\n",
    "print(easy_equation(complex(-.5, sqrt(3) / 2) * np.cbrt(5)))\n",
    "print(easy_equation(complex(-.5, (sqrt(3) / 2))**2 * np.cbrt(5)))"
   ]
  },
  {
   "cell_type": "code",
   "execution_count": 1,
   "metadata": {},
   "outputs": [
    {
     "data": {
      "image/png": "[encoded data removed]",
      "text/latex": [
       "$\\displaystyle \\left[ \\sqrt[3]{5}, \\  - \\frac{\\sqrt[3]{5}}{2} - \\frac{\\sqrt{3} \\sqrt[3]{5} i}{2}, \\  - \\frac{\\sqrt[3]{5}}{2} + \\frac{\\sqrt{3} \\sqrt[3]{5} i}{2}\\right]$"
      ],
      "text/plain": [
       "          3 ___     ___ 3 ___      3 ___     ___ 3 ___   \n",
       " 3 ___    \\/ 5    \\/ 3 *\\/ 5 *I    \\/ 5    \\/ 3 *\\/ 5 *I \n",
       "[\\/ 5 , - ----- - -------------, - ----- + -------------]\n",
       "            2           2            2           2       "
      ]
     },
     "execution_count": 1,
     "metadata": {},
     "output_type": "execute_result"
    }
   ],
   "source": [
    "from sympy import *\n",
    "init_printing(use_unicode = False, wrap_line = False)\n",
    "\n",
    "x = Symbol('x')\n",
    "solve(x**3 - 5, x)"
   ]
  },
  {
   "cell_type": "markdown",
   "metadata": {},
   "source": [
    "## 8. Construction of Groups"
   ]
  },
  {
   "cell_type": "markdown",
   "metadata": {},
   "source": [
    "A Sylow subgroup is a group that has an order which is a power of a prime and which divides the order of its supergroup by another relatively prime number.\n",
    "If there are 2 or more Sylow subgroups then they are conjugate; for example, reflections on an equilateral triangle are conjugate as rotation reflection reverse-rotation is equivalent to a reflection."
   ]
  },
  {
   "cell_type": "code",
   "execution_count": 2,
   "metadata": {},
   "outputs": [
    {
     "data": {
      "image/png": "[encoded data removed]",
      "text/latex": [
       "$\\displaystyle PermutationGroup\\left(\\left( 0\\; 4\\right)\\left( 1\\; 3\\right)\\left( 5\\right), \\left( 0\\; 1\\right)\\left( 2\\; 5\\right)\\left( 3\\; 4\\right)\\right)$"
      ],
      "text/plain": [
       "  PermutationGroup([ \n",
       "      (5)(0 4)(1 3), \n",
       "    (0 1)(2 5)(3 4)])"
      ]
     },
     "execution_count": 2,
     "metadata": {},
     "output_type": "execute_result"
    }
   ],
   "source": [
    "from sympy.combinatorics import Permutation\n",
    "from sympy.combinatorics.perm_groups import PermutationGroup\n",
    "from sympy.combinatorics.named_groups import *\n",
    "\n",
    "G = DihedralGroup(6)\n",
    "G.sylow_subgroup(2)"
   ]
  },
  {
   "cell_type": "markdown",
   "metadata": {},
   "source": [
    "The Direct Product is similar to the Cartesian product; but there is a termwise multiplication of the elements."
   ]
  },
  {
   "cell_type": "code",
   "execution_count": 3,
   "metadata": {},
   "outputs": [
    {
     "data": {
      "image/png": "[encoded data removed]",
      "text/latex": [
       "$\\displaystyle PermutationGroup\\left(\\left( 0\\; 1\\right)\\left( 3\\right), \\left( 2\\; 3\\right)\\right)$"
      ],
      "text/plain": [
       "PermutationGroup([\n",
       "      (3)(0 1),   \n",
       "       (2 3)])    "
      ]
     },
     "execution_count": 3,
     "metadata": {},
     "output_type": "execute_result"
    }
   ],
   "source": [
    "from sympy.combinatorics.group_constructs import DirectProduct\n",
    "\n",
    "DirectProduct(CyclicGroup(2), CyclicGroup(2))"
   ]
  },
  {
   "cell_type": "markdown",
   "metadata": {},
   "source": [
    "Below are the subgroups of the modular groups, and an example of 1 possible line produced by a product (just one possible produce from the 'free product') of the series."
   ]
  },
  {
   "cell_type": "code",
   "execution_count": 4,
   "metadata": {},
   "outputs": [
    {
     "data": {
      "text/plain": [
       "<Figure size 640x480 with 1 Axes>"
      ]
     },
     "metadata": {},
     "output_type": "display_data"
    }
   ],
   "source": [
    "import matplotlib.pyplot as plt\n",
    "\n",
    "def mod_subgroup_order_2(z):\n",
    "    \"\"\" The modular group subgroup of order 2. \"\"\"\n",
    "    return -1 / z\n",
    "\n",
    "def mod_subgroup_order_3(z):\n",
    "    \"\"\" The modular group subgroup of order 3. \"\"\"\n",
    "    return (z - 1) / z\n",
    "\n",
    "subgroup2 = [mod_subgroup_order_2(x) for x in range(1, 10)]\n",
    "subgroup3 = [mod_subgroup_order_3(x) for x in range(1, 10)]\n",
    "\n",
    "plt.plot(subgroup2)\n",
    "plt.plot(subgroup3)\n",
    "plt.plot([x[0] * x[1] for x in zip(subgroup2, subgroup3)])\n",
    "plt.show()"
   ]
  },
  {
   "cell_type": "markdown",
   "metadata": {},
   "source": [
    "## 9. Simple Groups"
   ]
  },
  {
   "cell_type": "markdown",
   "metadata": {},
   "source": [
    "A *simple* group has as normal subgroups:\n",
    "\n",
    "    - itself\n",
    "    - 1"
   ]
  },
  {
   "cell_type": "markdown",
   "metadata": {},
   "source": [
    "The entire list of possible finite simple groups has been identified."
   ]
  },
  {
   "cell_type": "markdown",
   "metadata": {},
   "source": [
    "## 10. Summary: Ideas of Image and Composition"
   ]
  },
  {
   "cell_type": "markdown",
   "metadata": {},
   "source": [
    "Group theory has several features which allow it to be so rich:\n",
    "\n",
    "- Multiple origins (eg. geometric transformation)\n",
    "- Decisive uses (eg. Galois theory)\n",
    "- Additional applications (eg. Quantum Theory)\n",
    "- Exact representation in terms of the origins (abstract groups isomorphic to transformation groups)\n",
    "- Multiple models (many finite groups)"
   ]
  }
 ],
 "metadata": {
  "kernelspec": {
   "display_name": "Python 3",
   "language": "python",
   "name": "python3"
  },
  "language_info": {
   "codemirror_mode": {
    "name": "ipython",
    "version": 3
   },
   "file_extension": ".py",
   "mimetype": "text/x-python",
   "name": "python",
   "nbconvert_exporter": "python",
   "pygments_lexer": "ipython3",
   "version": "3.7.3"
  }
 },
 "nbformat": 4,
 "nbformat_minor": 4
}

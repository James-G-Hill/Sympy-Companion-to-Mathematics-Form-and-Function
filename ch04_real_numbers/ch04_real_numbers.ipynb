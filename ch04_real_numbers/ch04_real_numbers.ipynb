{
 "cells": [
  {
   "cell_type": "markdown",
   "metadata": {},
   "source": [
    "# Maths - Form & Function: Chapter 4 (Real Numbers)"
   ]
  },
  {
   "cell_type": "markdown",
   "metadata": {},
   "source": [
    "## 1. Measures of Magnitude"
   ]
  },
  {
   "cell_type": "markdown",
   "metadata": {},
   "source": [
    "> It is a familiar but remarkable fact that one single scale of numbers will be applicable to each of many types of quantitative comparisons: To distance, to weight, to length, to width, to temperature, to time, to height, and so on. Once a unit is chosen, each of these magnitudes exemplifies one and the same scale: That of real numbers, considered as a scale laid out as the points of a line with chosen origin and unit point; and so emphasizing the interpretation of the scale by distances . . ."
   ]
  },
  {
   "cell_type": "markdown",
   "metadata": {},
   "source": [
    "## 2. Magnitudes as a Geometric Measure"
   ]
  },
  {
   "cell_type": "markdown",
   "metadata": {},
   "source": [
    "> Many comparisons or measurements of various magnitudes can be reduced to the single scale provided by the real numbers. And in those cases where a single real number does not suffice to measure a magnitude, it is often fitting to use several such numbers - as when the size of a plane figure is given by its width and its height, or of a solid figure by width, height, and depth."
   ]
  },
  {
   "cell_type": "code",
   "execution_count": 1,
   "metadata": {},
   "outputs": [
    {
     "name": "stdout",
     "output_type": "stream",
     "text": [
      "Full angle      : 6.283185307179586\n",
      "Straight angle  : 3.141592653589793\n",
      "Right angle     : 1.5707963267948966\n",
      "Right angle / 2 : 0.7853981633974483\n",
      "Right angle / 3 : 0.39269908169872414\n",
      "Right angle / 4 : 0.19634954084936207\n"
     ]
    }
   ],
   "source": [
    "import math\n",
    "\n",
    "def divisionsOfRightAngle(divisor):\n",
    "    \"\"\" Divide the right angle by the divisor. \"\"\"\n",
    "    if divisor > 0:\n",
    "        return math.pi / 2**divisor\n",
    "\n",
    "print(\"Full angle      : \" + str(2 * math.pi))\n",
    "print(\"Straight angle  : \" + str(math.pi))\n",
    "print(\"Right angle     : \" + str(math.pi / 2))\n",
    "print(\"Right angle / 2 : \" + str(divisionsOfRightAngle(2)))\n",
    "print(\"Right angle / 3 : \" + str(divisionsOfRightAngle(3)))\n",
    "print(\"Right angle / 4 : \" + str(divisionsOfRightAngle(4)))"
   ]
  },
  {
   "cell_type": "code",
   "execution_count": 2,
   "metadata": {},
   "outputs": [
    {
     "name": "stdout",
     "output_type": "stream",
     "text": [
      "t = 4.0 + 2π0\n",
      "t = 1.7168146928204138 + 2π1\n",
      "t = 3.4336293856408275 + 2π2\n"
     ]
    }
   ],
   "source": [
    "def realNumberAsAngleModulo(t):\n",
    "    \"\"\" Shows real numbers as modulo of full angle. \"\"\"\n",
    "    fullAngle = (2 * math.pi)\n",
    "    t0 = t % fullAngle\n",
    "    k = t // fullAngle\n",
    "    return \"t = \" + str(t0) + \" + 2π\" + str(int(k))\n",
    "\n",
    "print(realNumberAsAngleModulo(4))\n",
    "print(realNumberAsAngleModulo(8))\n",
    "print(realNumberAsAngleModulo(16))"
   ]
  },
  {
   "cell_type": "markdown",
   "metadata": {},
   "source": [
    "## 3. Maniulations of Magnitudes"
   ]
  },
  {
   "cell_type": "markdown",
   "metadata": {},
   "source": [
    "> The \"practical\" operations of addition and multiplication on various types of magnitudes lead to the algebraic operations of sum and product for the real numbers on the linear scaled. The various rules for these manipulations of numbers were well known before they were codified by axioms."
   ]
  },
  {
   "cell_type": "markdown",
   "metadata": {},
   "source": [
    "The codification of rules for the manipulation of numbers:\n",
    "\n",
    "> The real numbers form an abelian group under addition, under addition and multiplication they form a commutative ring, moreover, one which is a field.\n",
    "\n",
    "- abelian group: the group operation does not depend on order of elements being written.\n",
    "- commutative ring: an abelian group under addition with associative and commutative binary operations of multiplication with a unit in which both distributative laws holds.\n",
    "- associative: brackets around different pairs of elements with >1 uses of the operator don't change the result\n",
    "- commutative: the order of elements around the operator don't change the results\n",
    "- field: a set on which addition, multiplication, subtraction & division are defined (eg. sets or rational & real numbers)"
   ]
  },
  {
   "cell_type": "code",
   "execution_count": 3,
   "metadata": {},
   "outputs": [
    {
     "name": "stdout",
     "output_type": "stream",
     "text": [
      "True\n",
      "True\n",
      "True\n"
     ]
    }
   ],
   "source": [
    "def distributativeLawsMultiplication(a, b, c):\n",
    "    \"\"\" Tests equality of the 2 distributative laws. \"\"\"\n",
    "    law1 = a * (b + c) == a * b + a * c\n",
    "    law2 = (b + c) * a == b * a + c * a\n",
    "    return law1 == law2\n",
    "\n",
    "print(distributativeLawsMultiplication(1, 2, 3))\n",
    "print(distributativeLawsMultiplication(2, 3, 4))\n",
    "print(distributativeLawsMultiplication(-2, 3, -4))"
   ]
  },
  {
   "cell_type": "markdown",
   "metadata": {},
   "source": [
    "- Group: a set with an operation\n",
    "    - Ring: a Group with 2nd associative operation & where distributative properties make the operations compatible\n",
    "        - Field: a Ring where the 2nd operation satisfies all group properties (except additive identity)"
   ]
  },
  {
   "cell_type": "markdown",
   "metadata": {},
   "source": [
    "## 4. Comparison of Magnitudes"
   ]
  },
  {
   "cell_type": "code",
   "execution_count": 4,
   "metadata": {},
   "outputs": [
    {
     "name": "stdout",
     "output_type": "stream",
     "text": [
      "True\n",
      "False\n"
     ]
    }
   ],
   "source": [
    "def orderedFieldProperties(a, b, c):\n",
    "    \"\"\" Checks that the properties of an ordered field are valid. \"\"\"\n",
    "    \n",
    "    def property1(a, b, c):\n",
    "        if a < b:\n",
    "            return a + c < b + c\n",
    "        else:\n",
    "            return False\n",
    "        \n",
    "    def property2(a, b, c):\n",
    "        if a < b and 0 < c:\n",
    "            return a * c < b * c\n",
    "        else:\n",
    "            return False\n",
    "        \n",
    "    return property1(a, b, c) and property2(a, b, c)\n",
    "\n",
    "print(orderedFieldProperties(1, 2, 3))\n",
    "print(orderedFieldProperties(1, 2, -3))"
   ]
  },
  {
   "cell_type": "code",
   "execution_count": 5,
   "metadata": {},
   "outputs": [
    {
     "name": "stdout",
     "output_type": "stream",
     "text": [
      "True\n",
      "True\n",
      "True\n",
      "True\n"
     ]
    }
   ],
   "source": [
    "def absValueMultiplication(a, b):\n",
    "    \"\"\" Defines the rules for multiplication of absolute values. \"\"\"\n",
    "    return abs(a * b) == abs(a) * abs(b)\n",
    "    \n",
    "print(absValueMultiplication(2, 3))\n",
    "print(absValueMultiplication(-2, 3))\n",
    "print(absValueMultiplication(2, -3))\n",
    "print(absValueMultiplication(-2, -3))"
   ]
  },
  {
   "cell_type": "code",
   "execution_count": 6,
   "metadata": {},
   "outputs": [
    {
     "name": "stdout",
     "output_type": "stream",
     "text": [
      "True\n",
      "True\n",
      "True\n",
      "True\n"
     ]
    }
   ],
   "source": [
    "def absValueAddition(a, b):\n",
    "    \"\"\" Defines the rules for addition of absolute values. \"\"\"\n",
    "    return abs(a + b) <= abs(a) + abs(b)\n",
    "\n",
    "print(absValueAddition(2, 3))\n",
    "print(absValueAddition(-2, 3))\n",
    "print(absValueAddition(2, -3))\n",
    "print(absValueAddition(-2, -3))"
   ]
  },
  {
   "cell_type": "code",
   "execution_count": 7,
   "metadata": {},
   "outputs": [
    {
     "name": "stdout",
     "output_type": "stream",
     "text": [
      "1\n",
      "5\n",
      "5\n",
      "1\n"
     ]
    }
   ],
   "source": [
    "def nearness(a, b):\n",
    "    \"\"\" Defines nearness through absolute values. \"\"\"\n",
    "    return abs(a - b)\n",
    "\n",
    "print(nearness(2, 3))\n",
    "print(nearness(-2, 3))\n",
    "print(nearness(2, -3))\n",
    "print(nearness(-2, -3))"
   ]
  },
  {
   "cell_type": "markdown",
   "metadata": {},
   "source": [
    "**Archimedean Law**  \n",
    "If a and b are positive, then there is a natural number n such that na > b\n",
    "\n",
    "> Each real number can be approximated - to any degree of accuracy = by a rational number. This amounts to saying that there is a rational between any two reals."
   ]
  },
  {
   "cell_type": "markdown",
   "metadata": {},
   "source": [
    "**Theorem**  \n",
    "If 0 < b < c, there is a rational m/n with: b < m/n < c"
   ]
  },
  {
   "cell_type": "code",
   "execution_count": 8,
   "metadata": {},
   "outputs": [
    {
     "name": "stdout",
     "output_type": "stream",
     "text": [
      "True\n"
     ]
    }
   ],
   "source": [
    "def rationalBetweenRealsProof(b, c, m, n):\n",
    "    if not isinstance(m, int) or not isinstance(n, int):\n",
    "        raise TypeError()\n",
    "    else:\n",
    "        diff = c - b\n",
    "        if diff > 0:\n",
    "            if n * diff > 1 and c > b + 1 / n:\n",
    "                if m * 1 > n * b and b < (m/n):\n",
    "                    return m - 1 <= n * b and m / n <= b + (1/n) and m / n < c\n",
    "                \n",
    "\n",
    "print(rationalBetweenRealsProof(.25, .75, 2, 4))"
   ]
  },
  {
   "cell_type": "markdown",
   "metadata": {},
   "source": [
    "**Definition**  \n",
    "The sequence $a_n$ of real numbers has the real number $b$ as a limit if and only if to each real $\\epsilon > 0$ there exists a natural number $k$ with the property: if $n > k$, then $|a_n - b| < \\epsilon$"
   ]
  },
  {
   "cell_type": "code",
   "execution_count": 9,
   "metadata": {},
   "outputs": [
    {
     "name": "stdout",
     "output_type": "stream",
     "text": [
      "True\n"
     ]
    }
   ],
   "source": [
    "from functools import reduce\n",
    "from math import factorial\n",
    "\n",
    "def binomialTheorem(x, m):\n",
    "    \"\"\" Tests calculation of the binomial theorem. \"\"\"\n",
    "    if isinstance(m, int) and m > 0:\n",
    "        limit = m\n",
    "        result = 1\n",
    "        for i in range(1, limit):\n",
    "            lst = [m - x for x in range(0, i)]\n",
    "            numerator = reduce((lambda x, y: x * y), lst)\n",
    "            denominator = factorial(i)\n",
    "            result += (numerator / denominator) * (x ** i)\n",
    "        result += x**m\n",
    "    return ((1 + x) ** m) == result\n",
    "            \n",
    "print(binomialTheorem(1, 5))"
   ]
  },
  {
   "cell_type": "code",
   "execution_count": 10,
   "metadata": {},
   "outputs": [
    {
     "name": "stdout",
     "output_type": "stream",
     "text": [
      "0.0\n",
      "0.0004000000000000001\n",
      "0.00041100000000000007\n",
      "0.0004112150000000001\n",
      "0.0004112186000000001\n",
      "0.00041121865500000007\n",
      "0.0004112186557900001\n",
      "100.0\n"
     ]
    }
   ],
   "source": [
    "# The following is for demonstration purposes\n",
    "# For true infinite series 't' would be an infinitesimal\n",
    "def limitedExpansionOf2PowerSeries(a, b, t):\n",
    "    \"\"\" Prints outputs of multiplied power series up to the length of a. \"\"\"\n",
    "    limit = len(a)\n",
    "    result = 0\n",
    "    for k in range(0, limit):\n",
    "        subResult = 0\n",
    "        for l in range(0, k):\n",
    "            subResult += a[l] * b[k-l]\n",
    "        result += subResult * (t ** k)\n",
    "        print(result)\n",
    "        \n",
    "a = [.2, .3, .4, .5, .6, .7, .8]\n",
    "b = [.15, .2, .25, .3, .35, .4, .45]\n",
    "\n",
    "t = .01\n",
    "limitedExpansionOf2PowerSeries(a, b, t)\n",
    "print(t ** -1)"
   ]
  },
  {
   "cell_type": "markdown",
   "metadata": {},
   "source": [
    "## 5. Axioms for the Reals"
   ]
  },
  {
   "cell_type": "markdown",
   "metadata": {},
   "source": [
    "There are multiple forms of the completeness axiom, demonstrating that the field of **R** is complete & has no gaps:\n",
    "\n",
    "- Completeness Axiom\n",
    "- Dedekind Cut Axiom\n",
    "- Caunch Condition\n",
    "- Weierstrass Condition\n",
    "\n",
    "The Completeness Axiom is defined as:\n",
    "\n",
    "> Every non-empty set of reals with an upper bound has a least upper bound"
   ]
  },
  {
   "cell_type": "markdown",
   "metadata": {},
   "source": [
    "## 6. Arithmetic Construction of the Reals"
   ]
  },
  {
   "cell_type": "markdown",
   "metadata": {},
   "source": [
    "There are different possible constructions of the reals through the use of arithmetic & sets"
   ]
  },
  {
   "cell_type": "markdown",
   "metadata": {},
   "source": [
    "### Dedekind Cut\n",
    "\n",
    "This method defines a real number as a lower set divided by a cut in the field of rational numbers **Q**.\n",
    "A real number is then defined as the lower set."
   ]
  },
  {
   "cell_type": "markdown",
   "metadata": {},
   "source": [
    "### Cauchy Sequences\n",
    "\n",
    "This method defines equivalence classes of Cauchy sequences that converge to the same limit as being real numbers."
   ]
  },
  {
   "cell_type": "markdown",
   "metadata": {},
   "source": [
    "### Alternative Methods\n",
    "\n",
    "There are other methods such as \"non-standard\" reals that contain both standard reals & actual infinitesimals.\n",
    "Plus also fields of real numbers which are explicity \"constructible\"."
   ]
  },
  {
   "cell_type": "markdown",
   "metadata": {},
   "source": [
    "## 7. Vector Geometry"
   ]
  },
  {
   "cell_type": "code",
   "execution_count": 11,
   "metadata": {},
   "outputs": [
    {
     "name": "stdout",
     "output_type": "stream",
     "text": [
      "True\n",
      "True\n"
     ]
    }
   ],
   "source": [
    "def formal_properties_reals_vectors(r, s, v, w):\n",
    "    \"\"\" Checks the formal properties of reals & vectors.\n",
    "    Params:\n",
    "    r, s : real number scalars\n",
    "    v, w : vector lengths\n",
    "    \n",
    "    Returns:\n",
    "    A truth value\n",
    "    \"\"\"\n",
    "    a = r * (v + w) == r * v + r * w\n",
    "    b = 1 * v == v\n",
    "    c = (r + s) * v == r * v + s * v\n",
    "    d = (r * s) * v == r * (s * v)\n",
    "    return all([a, b, c, d])\n",
    "\n",
    "print(formal_properties_reals_vectors(1, 2, 3, 4))\n",
    "print(formal_properties_reals_vectors(-1, -2, -3, -4))"
   ]
  },
  {
   "cell_type": "markdown",
   "metadata": {},
   "source": [
    "> A first theorem of vector geometry (= linear algebra) states that any two (finite) bases for a given vector space must have the same number of elements. This number *n* is the *dimension* of the space."
   ]
  },
  {
   "cell_type": "markdown",
   "metadata": {},
   "source": [
    "## 8. Analytic Geometry"
   ]
  },
  {
   "cell_type": "markdown",
   "metadata": {},
   "source": [
    "> Geometry and coordinates arise first in dimensions 2 and 3. The need for higher dimensional geometry is motivated by phenomena which need specification of more than three coordinates: Events in space-time need four (position and time); in dynamics, the inital conditions for a particle need six, three for position and three for velocity."
   ]
  },
  {
   "cell_type": "markdown",
   "metadata": {},
   "source": [
    "> Much of mathematical physics deals with phenomena in three dimensions and so often requires a formulation in triads of equations, one for each coordinate in **R**$^3$. When **R**$^3$ is regarded as a vector space, many of these equations can be written as single vector equations. This accounts for the popularity of vector analysis in Physics."
   ]
  },
  {
   "cell_type": "markdown",
   "metadata": {},
   "source": [
    "## 9. Trigonometry"
   ]
  },
  {
   "cell_type": "markdown",
   "metadata": {},
   "source": [
    "> Trigonometry is essentially a procedure for turning angular measures into linear measures"
   ]
  },
  {
   "cell_type": "code",
   "execution_count": 12,
   "metadata": {},
   "outputs": [
    {
     "name": "stdout",
     "output_type": "stream",
     "text": [
      "True\n",
      "True\n",
      "True\n",
      "True\n"
     ]
    }
   ],
   "source": [
    "import math\n",
    "\n",
    "def cos_sin_squared_identity(theta):\n",
    "    \"\"\" Defines the identity of cos & sin as coordinates. \"\"\"\n",
    "    theta = math.radians(theta)\n",
    "    identity = math.cos(theta)**2 + math.sin(theta)**2\n",
    "    return identity == 1\n",
    "\n",
    "print(cos_sin_squared_identity(45))\n",
    "print(cos_sin_squared_identity(90))\n",
    "print(cos_sin_squared_identity(180))\n",
    "print(cos_sin_squared_identity(360))"
   ]
  },
  {
   "cell_type": "code",
   "execution_count": 13,
   "metadata": {},
   "outputs": [
    {
     "name": "stdout",
     "output_type": "stream",
     "text": [
      "x = 0.9063077870366499\n",
      "y = 0.42261826174069944\n"
     ]
    }
   ],
   "source": [
    "# cos gives an x coordinate, sin gives a y coordinate\n",
    "theta = 25\n",
    "print(\"x = \" + str(math.cos(math.radians(theta))))\n",
    "print(\"y = \" + str(math.sin(math.radians(theta))))"
   ]
  },
  {
   "cell_type": "code",
   "execution_count": 14,
   "metadata": {},
   "outputs": [
    {
     "data": {
      "text/plain": [
       "<Figure size 640x480 with 1 Axes>"
      ]
     },
     "metadata": {},
     "output_type": "display_data"
    }
   ],
   "source": [
    "# Plot cos & sin\n",
    "import matplotlib.pyplot as plt\n",
    "import numpy as np\n",
    "\n",
    "x = list(np.arange(0, 2 * math.pi, .01))\n",
    "cos_line = list(map(math.cos, x))\n",
    "sin_line = list(map(math.sin, x))\n",
    "\n",
    "plt.plot(x, sin_line)\n",
    "plt.plot(x, cos_line)\n",
    "plt.show()"
   ]
  },
  {
   "cell_type": "markdown",
   "metadata": {},
   "source": [
    "> . . . there are really two legally different functions: The Sine of a *number*, here with capital S, and the sine of an angle, with lower case s. This pedantic (but real!) difference is usually ignored."
   ]
  },
  {
   "cell_type": "code",
   "execution_count": 15,
   "metadata": {},
   "outputs": [
    {
     "name": "stdout",
     "output_type": "stream",
     "text": [
      "True\n",
      "True\n"
     ]
    }
   ],
   "source": [
    "def check_sin(theta):\n",
    "    \"\"\" Checks sin with / without wrapping function. \"\"\"\n",
    "    wrapped = math.sin(theta + (2*math.pi))\n",
    "    unwrapped = math.sin(theta)\n",
    "    is_close = math.isclose(wrapped, unwrapped)\n",
    "    return is_close\n",
    "\n",
    "print(check_sin(45))\n",
    "print(check_sin(90))"
   ]
  },
  {
   "cell_type": "code",
   "execution_count": 16,
   "metadata": {},
   "outputs": [
    {
     "name": "stdout",
     "output_type": "stream",
     "text": [
      "True\n",
      "True\n"
     ]
    }
   ],
   "source": [
    "def check_cos(theta):\n",
    "    \"\"\" Checks sin with / without wrapping function. \"\"\"\n",
    "    wrapped = math.cos(theta + (2*math.pi))\n",
    "    unwrapped = math.cos(theta)\n",
    "    is_close = math.isclose(wrapped, unwrapped)\n",
    "    return is_close\n",
    "\n",
    "print(check_cos(45))\n",
    "print(check_cos(90))"
   ]
  },
  {
   "cell_type": "code",
   "execution_count": 17,
   "metadata": {},
   "outputs": [
    {
     "data": {
      "image/png": "[encoded data removed]",
      "text/plain": [
       "<Figure size 432x288 with 1 Axes>"
      ]
     },
     "metadata": {
      "needs_background": "light"
     },
     "output_type": "display_data"
    }
   ],
   "source": [
    "def trigonometric_coords(x, y, theta):\n",
    "    \"\"\" Returns the coordinates for trigonometry. \"\"\"\n",
    "    theta = math.radians(theta)\n",
    "    x_prime = x * math.cos(theta) - y * math.sin(theta)\n",
    "    y_prime = x * math.sin(theta) + y * math.cos(theta)\n",
    "    return x_prime, y_prime\n",
    "\n",
    "coords_1 = trigonometric_coords(1, 0, 45)\n",
    "coords_2 = trigonometric_coords(1, 0, 90)\n",
    "coords_3 = trigonometric_coords(1, 0, 180)\n",
    "coords_4 = trigonometric_coords(1, 0, 270)\n",
    "\n",
    "circle = [trigonometric_coords(1, 0, y) for y in list(range(0, 360))]\n",
    "circle_x = [x for x, _ in circle]\n",
    "circle_y = [y for _, y in circle]\n",
    "\n",
    "plt.plot(*coords_1, 'bo')\n",
    "plt.plot(*coords_2, 'ro')\n",
    "plt.plot(*coords_3, 'go')\n",
    "plt.plot(*coords_4, 'yo')\n",
    "plt.plot(circle_x, circle_y, 'black')\n",
    "plt.gca().set_aspect('equal', adjustable = 'box')\n",
    "plt.show()"
   ]
  },
  {
   "cell_type": "code",
   "execution_count": 18,
   "metadata": {},
   "outputs": [
    {
     "data": {
      "text/plain": [
       "True"
      ]
     },
     "execution_count": 18,
     "metadata": {},
     "output_type": "execute_result"
    }
   ],
   "source": [
    "def trigonometric_addition_cos(phi, theta):\n",
    "    \"\"\" Checks trigonometric addition for cos. \"\"\"\n",
    "    lhs = math.cos(phi + theta)\n",
    "    rhs = math.cos(phi) * math.cos(theta) - math.sin(phi) * math.sin(theta)\n",
    "    return math.isclose(lhs, rhs)\n",
    "\n",
    "trigonometric_addition_cos(45, 90)"
   ]
  },
  {
   "cell_type": "code",
   "execution_count": 19,
   "metadata": {},
   "outputs": [
    {
     "data": {
      "text/plain": [
       "True"
      ]
     },
     "execution_count": 19,
     "metadata": {},
     "output_type": "execute_result"
    }
   ],
   "source": [
    "def trigonometric_addition_sin(phi, theta):\n",
    "    \"\"\" Checks trigonometric addition for sin. \"\"\"\n",
    "    lhs = math.sin(phi + theta)\n",
    "    rhs = math.cos(phi) * math.sin(theta) + math.sin(phi) * math.cos(theta)\n",
    "    return math.isclose(lhs, rhs)\n",
    "\n",
    "trigonometric_addition_sin(45, 90)"
   ]
  },
  {
   "cell_type": "code",
   "execution_count": 20,
   "metadata": {},
   "outputs": [
    {
     "name": "stdout",
     "output_type": "stream",
     "text": [
      "Inner product is 3\n"
     ]
    }
   ],
   "source": [
    "def inner_product(x, y):\n",
    "    \"\"\" Returns the inner product of 2 vectors. \"\"\"\n",
    "    x1, y1 = x\n",
    "    x2, y2 = y\n",
    "    return (x1 * x2) + (y1 * y2)\n",
    "\n",
    "a = (1, 2)\n",
    "b = (1, 1)\n",
    "print(\"Inner product is \" + str(inner_product(a, b)))"
   ]
  },
  {
   "cell_type": "code",
   "execution_count": 21,
   "metadata": {},
   "outputs": [
    {
     "data": {
      "image/png": "[encoded data removed]",
      "text/plain": [
       "<Figure size 432x288 with 1 Axes>"
      ]
     },
     "metadata": {
      "needs_background": "light"
     },
     "output_type": "display_data"
    }
   ],
   "source": [
    "a1, a2 = a\n",
    "b1, b2 = b\n",
    "\n",
    "plt.plot((0, a1), (0, a2))\n",
    "plt.plot((0, b1), (0, b2))\n",
    "plt.gca().set_aspect('equal', adjustable = 'box')\n",
    "plt.show()"
   ]
  },
  {
   "cell_type": "markdown",
   "metadata": {},
   "source": [
    "## 10. Complex Numbers"
   ]
  },
  {
   "cell_type": "markdown",
   "metadata": {},
   "source": [
    "The complex numbers **C** arise in order to solve plausible polynomial equations such as $x^2 + 1 = 0$ and $x^2 + x + 1 = 0$.\n",
    "In this case, we see that $x^2$ must be equal to -1, but $x$ must be equal to 0."
   ]
  },
  {
   "cell_type": "code",
   "execution_count": 22,
   "metadata": {},
   "outputs": [
    {
     "name": "stdout",
     "output_type": "stream",
     "text": [
      "(4, 6)\n",
      "(4, 6)\n",
      "(1, 3)\n",
      "(0, 2)\n"
     ]
    }
   ],
   "source": [
    "i = (0, 1)\n",
    "i_sqrd = (-1, 0)\n",
    "\n",
    "def complex_addition(x, y):\n",
    "    \"\"\" This is complex addition without the imaginary number. \"\"\"\n",
    "    a, b = x\n",
    "    c, d = y\n",
    "    return (a + c, b + d)\n",
    "\n",
    "print(complex_addition((1, 2), (3, 4)))\n",
    "print(complex_addition((3, 4), (1, 2)))\n",
    "print(complex_addition((1, 2), i))\n",
    "print(complex_addition((1, 2), i_sqrd))"
   ]
  },
  {
   "cell_type": "code",
   "execution_count": 23,
   "metadata": {},
   "outputs": [
    {
     "name": "stdout",
     "output_type": "stream",
     "text": [
      "(-5, 10)\n",
      "(-5, 10)\n",
      "(-2, 1)\n",
      "(-1, -2)\n"
     ]
    }
   ],
   "source": [
    "def complex_multiplication(x, y):\n",
    "    \"\"\" This is complex multiplication without the imaginary number. \"\"\"\n",
    "    a, b = x\n",
    "    c, d = y\n",
    "    return (a * c - b * d, a * d + b * c)\n",
    "\n",
    "print(complex_multiplication((1, 2), (3, 4)))\n",
    "print(complex_multiplication((3, 4), (1, 2)))\n",
    "print(complex_multiplication((1, 2), i))\n",
    "print(complex_multiplication((1, 2), i_sqrd))"
   ]
  },
  {
   "cell_type": "code",
   "execution_count": 24,
   "metadata": {},
   "outputs": [
    {
     "data": {
      "image/png": "[encoded data removed]",
      "text/plain": [
       "<Figure size 432x288 with 1 Axes>"
      ]
     },
     "metadata": {
      "needs_background": "light"
     },
     "output_type": "display_data"
    }
   ],
   "source": [
    "# All of the folling use the Real numbers defined as Complex numbers for x\n",
    "\n",
    "rng = list(range(0, 10))\n",
    "\n",
    "complex_add_i = [complex_addition((x, 0), i) for x in rng]\n",
    "complex_add_i_x = [x for x, _ in complex_add_i]\n",
    "complex_add_i_y = [y for _, y in complex_add_i]\n",
    "\n",
    "complex_add_i_sqrd = [complex_addition((x, 0), i_sqrd) for x in rng]\n",
    "complex_add_i_sqrd_x = [x for x, _ in complex_add_i_sqrd]\n",
    "complex_add_i_sqrd_y = [y for _, y in complex_add_i_sqrd]\n",
    "\n",
    "complex_mul_i = [complex_multiplication((x, 0), i) for x in rng]\n",
    "complex_mul_i_x = [x for x, _ in complex_mul_i]\n",
    "complex_mul_i_y = [y for _, y in complex_mul_i]\n",
    "\n",
    "complex_mul_i_sqrd = [complex_multiplication((x, 0), i_sqrd) for x in rng]\n",
    "complex_mul_i_sqrd_x = [x for x, _ in complex_mul_i_sqrd]\n",
    "complex_mul_i_sqrd_y = [y for _, y in complex_mul_i_sqrd]\n",
    "\n",
    "plt.plot(complex_add_i_x, complex_add_i_y, 'black')\n",
    "plt.plot(complex_mul_i_x, complex_mul_i_y, 'red')\n",
    "plt.plot(complex_add_i_sqrd_x, complex_add_i_sqrd_y, 'green')\n",
    "plt.plot(complex_mul_i_sqrd_x, complex_mul_i_sqrd_y, 'blue')\n",
    "plt.plot(*i, \"yo\")\n",
    "plt.plot(*i_sqrd, \"co\")\n",
    "plt.show()"
   ]
  },
  {
   "cell_type": "code",
   "execution_count": 25,
   "metadata": {},
   "outputs": [
    {
     "name": "stdout",
     "output_type": "stream",
     "text": [
      "True\n",
      "True\n"
     ]
    }
   ],
   "source": [
    "print(complex_multiplication((3, 0), (3, 0)) == (9, 0))\n",
    "print(complex_multiplication(i, i) == i_sqrd)"
   ]
  },
  {
   "cell_type": "code",
   "execution_count": 26,
   "metadata": {},
   "outputs": [
    {
     "name": "stdout",
     "output_type": "stream",
     "text": [
      "4\n",
      "4.0\n",
      "True\n"
     ]
    }
   ],
   "source": [
    "# Complex Number as a vector in Euclidean space\n",
    "x, y = 2, 2\n",
    "z = x + y\n",
    "print(z)\n",
    "\n",
    "# Complex Number described with polar coordinates\n",
    "r = math.sqrt(x**2 + y**2)\n",
    "theta = math.radians(45)\n",
    "z_calculated = r * (math.cos(theta) +  math.sin(theta))\n",
    "print(z_calculated)\n",
    "\n",
    "print(math.isclose(z, abs(z_calculated)))"
   ]
  },
  {
   "cell_type": "code",
   "execution_count": 27,
   "metadata": {},
   "outputs": [
    {
     "name": "stdout",
     "output_type": "stream",
     "text": [
      "z = 5.464101615137754\n",
      "w = 4.098076211353316\n",
      "Multiplication of z & w as complex numbers: 16.392304845413264\n"
     ]
    }
   ],
   "source": [
    "def complex_number_polar(r, theta):\n",
    "    \"\"\" Calcultates complex number from vector length & angle. \"\"\"\n",
    "    theta = math.radians(theta)\n",
    "    return r * (math.cos(theta) + math.sin(theta))\n",
    "\n",
    "z = complex_number_polar(4, 30)\n",
    "w = complex_number_polar(3, 30)\n",
    "\n",
    "def multiplication_of_complex_numbers_polar(r, theta, s, phi):\n",
    "    \"\"\" Multiplies 2 complex numbers in polar form. \"\"\"\n",
    "    summed_angle = math.radians(theta + phi)\n",
    "    arg = (math.cos(summed_angle) + math.sin(summed_angle))\n",
    "    return r * s * arg\n",
    "\n",
    "print(\"z = \" + str(z))\n",
    "print(\"w = \" + str(w))\n",
    "zw = multiplication_of_complex_numbers_polar(4, 30, 3, 30)\n",
    "print(\"Multiplication of z & w as complex numbers: \" + str(zw))"
   ]
  },
  {
   "cell_type": "code",
   "execution_count": 28,
   "metadata": {},
   "outputs": [
    {
     "name": "stdout",
     "output_type": "stream",
     "text": [
      "0.3660254037844386\n",
      "Argument for cubed root: 2.0943951023931953\n",
      "True\n",
      "Argument for alternative cubed root: 4.1887902047863905\n",
      "True\n"
     ]
    }
   ],
   "source": [
    "# w in x**2 + x + 1 = 0 mapped to the below = isomorphic to C\n",
    "w = -.5 + (math.sqrt(3) / 2)\n",
    "print(w)\n",
    "\n",
    "# Argument for a cubed root must be either 0 or:\n",
    "cubed_root_arg = 2 * math.pi / 3\n",
    "print(\"Argument for cubed root: \" + str(cubed_root_arg))\n",
    "\n",
    "# w can also be:\n",
    "alt_w = math.cos(cubed_root_arg) + math.sin(cubed_root_arg)\n",
    "print(math.isclose(w, alt_w))\n",
    "\n",
    "# An alternative w' could be either of the following:\n",
    "alt_cubed_root = arg = 4 * math.pi / 3\n",
    "print(\"Argument for alternative cubed root: \" + str(alt_cubed_root))\n",
    "w_prime_1 = math.cos(alt_cubed_root) + math.sin(alt_cubed_root)\n",
    "w_prime_2 = math.cos(cubed_root_arg) - math.sin(cubed_root_arg)\n",
    "print(math.isclose(w_prime_1, w_prime_2))\n",
    "\n",
    "# w to w' equivalent to replacing i by -i (complex conjugation)"
   ]
  },
  {
   "cell_type": "markdown",
   "metadata": {},
   "source": [
    "## 11. Stereographic Projection and Infinity "
   ]
  },
  {
   "cell_type": "markdown",
   "metadata": {},
   "source": [
    "> Division by zero does not work; if attempted, it leads inevitably to paradoxes. Nevertheless, it is suggestive to think that the reciprocal $w = 1 / z$ of a complex number $z$ should approach infinity as $z$ approaches zero. This does not mean that there is a *number* $\\infty$ in the field **C** of complex numbers, but it does mean that there is a geometric model which adds a \"point\" at \"infinity\" to the complex plane."
   ]
  },
  {
   "cell_type": "code",
   "execution_count": 393,
   "metadata": {},
   "outputs": [
    {
     "name": "stdout",
     "output_type": "stream",
     "text": [
      "(0.7071067811865476+0.7071067811865475j)\n",
      "(0.7071067811865476-0.7071067811865475j)\n",
      "True\n"
     ]
    }
   ],
   "source": [
    "import cmath\n",
    "\n",
    "def riemann_sphere_z(r, phi):\n",
    "    \"\"\" Calculates z for the Riemann Sphere. \"\"\"\n",
    "    return r * cmath.e ** (1j * math.radians(phi))\n",
    "\n",
    "\n",
    "def riemann_sphere_w(r, phi):\n",
    "    \"\"\" Calculates w for the Riemann Sphere. \"\"\"\n",
    "    return (1 / r) * cmath.e ** (-1j * math.radians(phi))\n",
    "\n",
    "\n",
    "def reciprocal_transformation(z):\n",
    "    \"\"\" Returns w from reciprocal transformation. \"\"\"\n",
    "    if z == 0:\n",
    "        w = cmath.inf\n",
    "    elif z == cmath.inf:\n",
    "        w = 0\n",
    "    else:\n",
    "        w = 1 / z\n",
    "    return w\n",
    "\n",
    "\n",
    "# Test at 45 degrees\n",
    "z, w = riemann_sphere_z(1, 45), riemann_sphere_w(1, 45)\n",
    "print(z)\n",
    "print(w)\n",
    "print(cmath.isclose(reciprocal_transformation(z), w))"
   ]
  },
  {
   "cell_type": "code",
   "execution_count": 392,
   "metadata": {},
   "outputs": [
    {
     "name": "stdout",
     "output_type": "stream",
     "text": [
      "inf\n",
      "(0.4-0.2j)\n",
      "(2+1j)\n",
      "0\n"
     ]
    }
   ],
   "source": [
    "# Calculations of the reciprocal transformation\n",
    "print(reciprocal_transformation(0+0j))\n",
    "print(reciprocal_transformation(2+1j))\n",
    "print(reciprocal_transformation(0.4-0.2j))\n",
    "print(reciprocal_transformation(cmath.inf))"
   ]
  },
  {
   "cell_type": "markdown",
   "metadata": {},
   "source": [
    "## 12. Are Imaginary Numbers Real?"
   ]
  },
  {
   "cell_type": "markdown",
   "metadata": {},
   "source": [
    "> If Mathematics is the science of number, space, time, and motion, and if number covers just whole, rational and real numbers, then there is no place in this science for these imaginary numbers. Therefore, the gradual general acceptance (after 1800) of the complex numbers as reasonable and useful does mark a departure from the \"number, space, time, and motion\" concept of Mathematics."
   ]
  },
  {
   "cell_type": "markdown",
   "metadata": {},
   "source": [
    "## 13. Abstract Algebra Revealed"
   ]
  },
  {
   "cell_type": "markdown",
   "metadata": {},
   "source": [
    "> Algebra replaces numbers by symbols; it is then possible that these symbols do not stand for numbers or \"quantities\". Hence it develops that the actual subject matter of algebra is not the manipulations of numbers under addition and multiplication, but the manipulation of *any* objects satisfying the rules (the axioms for a ring or for a field) for such manipulation."
   ]
  },
  {
   "cell_type": "markdown",
   "metadata": {},
   "source": [
    "## 14. The Quaternions - and Beyond"
   ]
  },
  {
   "cell_type": "markdown",
   "metadata": {},
   "source": [
    "> The real numbers provide an algebraic formulation of one-dimensional geometry in algebraic terms, by means of a field. The complex numbers provide a corresponding field for geometry in dimension 2. Why not more such fields for geometry in higher dimensions? The answer is that there cannot be such fields . . . But there is something more - in four dimensions; that is, in **R**$^4$."
   ]
  },
  {
   "cell_type": "markdown",
   "metadata": {},
   "source": [
    "> The striking fact is that the multiplication of the quaternions is *not* commutative. There is no alternative multiplication table which would make it commutative; that is, there is no way to define a multiplication on the vector space **R**$^4$ extending the multiplication on **R** so that this multiplication, with vector addition, makes **R**$^4$ a field; i.e. a system with commutative multiplication."
   ]
  },
  {
   "cell_type": "markdown",
   "metadata": {},
   "source": [
    "## 15. Summary"
   ]
  },
  {
   "cell_type": "markdown",
   "metadata": {},
   "source": [
    "> Originally, it was the manipulation of magnitudes which led to the algebraic operations of addition and multiplication - but the same operations, with corresponding properties, hold for many systems which are not \"magnitudes\", hence the development of algebra as abstract. This abstraction is a natural sequel to the recognition of the real existence of imaginary numbers."
   ]
  }
 ],
 "metadata": {
  "kernelspec": {
   "display_name": "Python 3",
   "language": "python",
   "name": "python3"
  },
  "language_info": {
   "codemirror_mode": {
    "name": "ipython",
    "version": 3
   },
   "file_extension": ".py",
   "mimetype": "text/x-python",
   "name": "python",
   "nbconvert_exporter": "python",
   "pygments_lexer": "ipython3",
   "version": "3.7.3"
  }
 },
 "nbformat": 4,
 "nbformat_minor": 4
}

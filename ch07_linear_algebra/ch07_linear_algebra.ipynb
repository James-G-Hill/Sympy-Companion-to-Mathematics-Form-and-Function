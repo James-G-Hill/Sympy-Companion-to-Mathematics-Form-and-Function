{
 "cells": [
  {
   "cell_type": "markdown",
   "metadata": {},
   "source": [
    "# Maths - Form & Function: Chapter 7 (Linear Algebra)"
   ]
  },
  {
   "cell_type": "markdown",
   "metadata": {},
   "source": [
    "***"
   ]
  },
  {
   "cell_type": "markdown",
   "metadata": {},
   "source": [
    "## 1. Sources of Linearity"
   ]
  },
  {
   "cell_type": "markdown",
   "metadata": {},
   "source": [
    "> To say that an effect is \"linear\" means that the effect respects proportions and that the effect of a sum is the sum of the separate effects."
   ]
  },
  {
   "cell_type": "code",
   "execution_count": 1,
   "metadata": {},
   "outputs": [
    {
     "name": "stdout",
     "output_type": "stream",
     "text": [
      "True\n"
     ]
    }
   ],
   "source": [
    "import math\n",
    "import numpy as np\n",
    "\n",
    "# Show that axioms are satisfied for vectors / scalars under\n",
    "# addition and multiplication\n",
    "\n",
    "F = range(0, 100) # a field of scalars\n",
    "V = [np.array([x, x * 2]) for x in range(0, 100)] # a set of vectors\n",
    "a, b = F[50], F[51]\n",
    "v, w = V[25], V[66]\n",
    "\n",
    "print(\n",
    "    all(\n",
    "        [\n",
    "            np.array_equal(a * (v + w), a * v + a * w),\n",
    "            np.array_equal(1 * v, v),\n",
    "            np.array_equal((a + b) * v , a * v + b * v),\n",
    "            np.array_equal((a * b) * v, a * (b * v))\n",
    "        ]\n",
    "    )\n",
    ")      "
   ]
  },
  {
   "cell_type": "code",
   "execution_count": 2,
   "metadata": {},
   "outputs": [
    {
     "name": "stdout",
     "output_type": "stream",
     "text": [
      "[24502500 49005000]\n"
     ]
    }
   ],
   "source": [
    "def linear_combination(F, V):\n",
    "    lc = sum([x * y for x in F for y in V])\n",
    "    return lc\n",
    "\n",
    "print(linear_combination(F, V))"
   ]
  },
  {
   "cell_type": "code",
   "execution_count": 3,
   "metadata": {},
   "outputs": [
    {
     "name": "stdout",
     "output_type": "stream",
     "text": [
      "True\n",
      "True\n"
     ]
    }
   ],
   "source": [
    "T = sum # A transformation that preserves linear combinations\n",
    "\n",
    "# 2 simple identities proving the transformations\n",
    "print(np.array_equal(T(v + w), T(v) + T(w)))\n",
    "print(np.array_equal(T(a * v), a * T(v)))"
   ]
  },
  {
   "cell_type": "markdown",
   "metadata": {},
   "source": [
    "***"
   ]
  },
  {
   "cell_type": "markdown",
   "metadata": {},
   "source": [
    "## 2. Transformations versus Matrices"
   ]
  },
  {
   "cell_type": "markdown",
   "metadata": {},
   "source": [
    "There are 2 styles of doing linear algebra:\n",
    "\n",
    "- Geometrically, or invariantly, with linear combinations of vectors\n",
    "- Explicitly, with coordinates (which depends on a choice of basis)"
   ]
  },
  {
   "cell_type": "code",
   "execution_count": 4,
   "metadata": {},
   "outputs": [],
   "source": [
    "def linear_endomorphism(u, a, j):\n",
    "    \"\"\" Images from a linear endomorphism.\n",
    "    u - vectors\n",
    "    a - coefficients\n",
    "    j - index of the basis\n",
    "    \"\"\"\n",
    "    a = a[j]\n",
    "    return sum([x * y for x in u for y in a])\n",
    "\n",
    "def coordinates_vectors(a, i, j, x):\n",
    "    \"\"\" Gives the coordinates of a transformation.\n",
    "    a - coefficients\n",
    "    i - index of the basis\n",
    "    x - previous coordinates\n",
    "    \"\"\"\n",
    "    a = a[i]\n",
    "    return sum([l * m for l in a for m in x])"
   ]
  },
  {
   "cell_type": "markdown",
   "metadata": {},
   "source": [
    "> In the 20th century, matrix multiplication had trimphant (and unexpected) applications in quantum mechanics. However, the ideas underlying matrix theory first developed from the study of elasticity or at least from the use of many-variable calculus to get linear approximations."
   ]
  },
  {
   "cell_type": "code",
   "execution_count": 5,
   "metadata": {},
   "outputs": [
    {
     "data": {
      "image/png": "[encoded data removed]",
      "text/plain": [
       "<Figure size 432x288 with 1 Axes>"
      ]
     },
     "metadata": {
      "needs_background": "light"
     },
     "output_type": "display_data"
    }
   ],
   "source": [
    "import matplotlib.pyplot as plt\n",
    "\n",
    "C = np.array([2, 4])\n",
    "\n",
    "def plot_create(plot):\n",
    "    fig, ax = plot.subplots()\n",
    "    ax.grid(True)\n",
    "    ax.axhline(y=0, color='k')\n",
    "    ax.axvline(x=0, color='k')\n",
    "    ax.set_aspect('equal')\n",
    "    plot.xlim(-6, 6)\n",
    "    plot.ylim(-6, 6)\n",
    "    return fig, ax, plot\n",
    "\n",
    "fig, ax, plt = plot_create(plt)\n",
    "plt.quiver(C[0], C[1], angles = \"xy\", scale_units = \"xy\", scale = 1, color = \"r\")\n",
    "plt.show()"
   ]
  },
  {
   "cell_type": "code",
   "execution_count": 6,
   "metadata": {},
   "outputs": [
    {
     "data": {
      "image/png": "[encoded data removed]",
      "text/plain": [
       "<Figure size 432x288 with 1 Axes>"
      ]
     },
     "metadata": {
      "needs_background": "light"
     },
     "output_type": "display_data"
    }
   ],
   "source": [
    "# Change the x & y axis\n",
    "T = np.array([[0, 1], [1, 0]])\n",
    "C2 = np.dot(T, C)\n",
    "\n",
    "fig, ax, plt = plot_create(plt)\n",
    "plt.quiver(C2[0], C2[1], angles = \"xy\", scale_units = \"xy\", scale = 1, color = \"r\")\n",
    "plt.show()"
   ]
  },
  {
   "cell_type": "code",
   "execution_count": 7,
   "metadata": {},
   "outputs": [
    {
     "data": {
      "image/png": "[encoded data removed]",
      "text/plain": [
       "<Figure size 432x288 with 1 Axes>"
      ]
     },
     "metadata": {
      "needs_background": "light"
     },
     "output_type": "display_data"
    }
   ],
   "source": [
    "# Stretch y dimension\n",
    "T = np.array([[1, 0], [0, 1.5]])\n",
    "C2 = np.dot(T, C)\n",
    "\n",
    "fig, ax, plt = plot_create(plt)\n",
    "plt.quiver(C2[0], C2[1], angles = \"xy\", scale_units = \"xy\", scale = 1, color = \"r\")\n",
    "plt.show()"
   ]
  },
  {
   "cell_type": "code",
   "execution_count": 8,
   "metadata": {},
   "outputs": [
    {
     "data": {
      "image/png": "[encoded data removed]",
      "text/plain": [
       "<Figure size 432x288 with 1 Axes>"
      ]
     },
     "metadata": {
      "needs_background": "light"
     },
     "output_type": "display_data"
    }
   ],
   "source": [
    "# Reflect on x & y\n",
    "T2 = np.array([[-1, 0], [0, 1]])\n",
    "C2 = np.dot(T2, C)\n",
    "T3 = np.array([[1, 0], [0, -1]])\n",
    "C3 = np.dot(T3, C)\n",
    "\n",
    "fig, ax, plt = plot_create(plt)\n",
    "plt.quiver(C2[0], C2[1], angles = \"xy\", scale_units = \"xy\", scale = 1, color = \"r\")\n",
    "plt.quiver(C3[0], C3[1], angles = \"xy\", scale_units = \"xy\", scale = 1, color = \"b\")\n",
    "plt.show()"
   ]
  },
  {
   "cell_type": "code",
   "execution_count": 9,
   "metadata": {},
   "outputs": [
    {
     "data": {
      "image/png": "[encoded data removed]",
      "text/plain": [
       "<Figure size 432x288 with 1 Axes>"
      ]
     },
     "metadata": {
      "needs_background": "light"
     },
     "output_type": "display_data"
    }
   ],
   "source": [
    "# Stretch y dimension\n",
    "fig, ax, plt = plot_create(plt)\n",
    "C2 = np.array([2, 2])\n",
    "C3 = C2 * 2\n",
    "plt.quiver(C3[0], C3[1], angles = \"xy\", scale_units = \"xy\", scale = 1, color = \"k\")\n",
    "plt.quiver(C2[0], C2[1], angles = \"xy\", scale_units = \"xy\", scale = 1, color = \"r\")\n",
    "plt.show()"
   ]
  },
  {
   "cell_type": "markdown",
   "metadata": {},
   "source": [
    "***"
   ]
  },
  {
   "cell_type": "markdown",
   "metadata": {},
   "source": [
    "## 3. Eigenvalues"
   ]
  },
  {
   "cell_type": "markdown",
   "metadata": {},
   "source": [
    "> Two matrices $A$ and $B$ which represent the same endomorphism of $V$ relative to (possibly) different bases are said to be *similar* ... square matrices $A$ and $B$ are similar if and only if there is a non-singular matrix $P$ with $B = PAP^{-1}$"
   ]
  },
  {
   "cell_type": "markdown",
   "metadata": {},
   "source": [
    "> $\\lambda$ is an *eigenvalue* of an endomorphism $T$ if and only if $Tv = v\\lambda$ for some non-zero vector$v$; equivalently, in matrix language, $\\lambda$ is an eignenvalue of a matrix $A$ if and only if $AX = X\\lambda$ for some $X \\neq 0$."
   ]
  },
  {
   "cell_type": "markdown",
   "metadata": {},
   "source": [
    "> An *eigenvector* $X$ for $A$ is then any vector (zero or not) with $AX = X\\lambda$ for a scalar $\\lambda$"
   ]
  },
  {
   "cell_type": "markdown",
   "metadata": {},
   "source": [
    "**Theorem 1.** An n X n square matrix A is similar to a diagonal matrix if and only if A has n linearly independent eigenvectors."
   ]
  },
  {
   "cell_type": "code",
   "execution_count": 10,
   "metadata": {},
   "outputs": [
    {
     "name": "stdout",
     "output_type": "stream",
     "text": [
      "Eigenvalues:\n",
      "(2.5+1.9364916731037083j)\n",
      "(2.5-1.9364916731037083j)\n",
      "\n",
      "Eigenvectors:\n",
      "[-0.1118034 +0.4330127j  0.89442719+0.j       ]\n"
     ]
    }
   ],
   "source": [
    "from numpy import linalg as la\n",
    "\n",
    "A = np.array([[2, -1], [4, 3]])\n",
    "eigenvalues, eigenvectors = la.eig(A)\n",
    "\n",
    "a, b = eigenvalues\n",
    "print(\"Eigenvalues:\")\n",
    "print(a)\n",
    "print(b)\n",
    "print()\n",
    "\n",
    "x = eigenvectors[:, 0]\n",
    "print(\"Eigenvectors:\")\n",
    "print(x)"
   ]
  },
  {
   "cell_type": "code",
   "execution_count": 11,
   "metadata": {},
   "outputs": [
    {
     "name": "stdout",
     "output_type": "stream",
     "text": [
      "[-1.11803399+0.8660254j   2.23606798+1.73205081j]\n"
     ]
    }
   ],
   "source": [
    "A_by_x = np.dot(A, x)\n",
    "print(A_by_x)"
   ]
  },
  {
   "cell_type": "code",
   "execution_count": 12,
   "metadata": {},
   "outputs": [
    {
     "name": "stdout",
     "output_type": "stream",
     "text": [
      "[-1.11803399+0.8660254j   2.23606798+1.73205081j]\n"
     ]
    }
   ],
   "source": [
    "x_by_a = x * a\n",
    "print(x_by_a)"
   ]
  },
  {
   "cell_type": "code",
   "execution_count": 13,
   "metadata": {},
   "outputs": [
    {
     "name": "stdout",
     "output_type": "stream",
     "text": [
      "True\n"
     ]
    }
   ],
   "source": [
    "print(np.allclose(A_by_x, x_by_a))"
   ]
  },
  {
   "cell_type": "code",
   "execution_count": 14,
   "metadata": {},
   "outputs": [
    {
     "name": "stdout",
     "output_type": "stream",
     "text": [
      "10\n",
      "True\n"
     ]
    }
   ],
   "source": [
    "determinant = A[0, 0] * A[1, 1]  - A[0, 1] * A[1, 0]\n",
    "print(determinant)\n",
    "print(math.isclose(determinant, la.det(A)))"
   ]
  },
  {
   "cell_type": "code",
   "execution_count": 15,
   "metadata": {},
   "outputs": [
    {
     "name": "stdout",
     "output_type": "stream",
     "text": [
      "True\n"
     ]
    }
   ],
   "source": [
    "trace = A[0, 0] + A[1, 1]\n",
    "print(math.isclose(trace, np.trace(A)))"
   ]
  },
  {
   "cell_type": "markdown",
   "metadata": {},
   "source": [
    "**Theorem 2.** The eigenvalues of A are the roots of its characteristic polynomial"
   ]
  },
  {
   "cell_type": "code",
   "execution_count": 16,
   "metadata": {},
   "outputs": [
    {
     "data": {
      "text/latex": [
       "$\\displaystyle \\lambda^{2} - 5 \\lambda + 10$"
      ],
      "text/plain": [
       "lambda**2 - 5*lambda + 10"
      ]
     },
     "execution_count": 16,
     "metadata": {},
     "output_type": "execute_result"
    }
   ],
   "source": [
    "import sympy\n",
    "\n",
    "A_sym = sympy.Matrix(A)\n",
    "A_sym.charpoly().as_expr()"
   ]
  },
  {
   "cell_type": "markdown",
   "metadata": {},
   "source": [
    "***"
   ]
  },
  {
   "cell_type": "markdown",
   "metadata": {},
   "source": [
    "## 4. Dual Spaces"
   ]
  },
  {
   "cell_type": "markdown",
   "metadata": {},
   "source": [
    "> Vector spaces come naturally in pairs, acting on each other. Thus the matrix product of a row by a column is a scalar; by this product, the \"row vectors\" may be regarded as linear functions of the \"column vectors\", and vice-versa."
   ]
  },
  {
   "cell_type": "markdown",
   "metadata": {},
   "source": [
    "> If $X = V$ is itself a vector space over $F$, it is natural to consider those functions $f: V \\rightarrow F$ which are linear. Under the pointwise operations they \n",
    "constitute a vector space (a subspace of $F^V$) called the *dual space* of $V$."
   ]
  },
  {
   "cell_type": "markdown",
   "metadata": {},
   "source": [
    "$$\n",
    "V^* = hom(V,F) = \\{f \\;| \\;f : V \\rightarrow F\\;linear\\}\n",
    "$$"
   ]
  },
  {
   "cell_type": "markdown",
   "metadata": {},
   "source": [
    "Due to the *dual basis* being a *dual space* version of the *basis*, we can conclude that:"
   ]
  },
  {
   "cell_type": "markdown",
   "metadata": {},
   "source": [
    "<center>\n",
    "dim $V$ finite implies dim $V^*$ = dim $V$\n",
    "</center>"
   ]
  },
  {
   "cell_type": "markdown",
   "metadata": {},
   "source": [
    "**Theorem.** Let $W$ and $V$ be finite dimensional vector spaces over $F$. If $b: W \\times V \\rightarrow F$ is bilinear, and if for all $w_0$ and $v_0$  \n",
    "\n",
    "$$\n",
    "b(w_0,-) = 0 \\;implies \\; w_0 = 0, \\; b(-,v_0) = 0 \\; implies \\; v_0 = 0\n",
    "$$\n",
    "\n",
    "then $b$ determines isomorphism $W \\cong V^*$ and $V \\cong W^*$)"
   ]
  },
  {
   "cell_type": "markdown",
   "metadata": {},
   "source": [
    "***"
   ]
  },
  {
   "cell_type": "markdown",
   "metadata": {},
   "source": [
    "## 5. Inner Product Spaces"
   ]
  },
  {
   "cell_type": "markdown",
   "metadata": {},
   "source": [
    "> For many geometric purposes, linear vector spaces are not enough. For example, a linear transformation does carry straight lines to straight lines, but it can distort angles, change circles into ellipses, and generally alter distances."
   ]
  },
  {
   "cell_type": "markdown",
   "metadata": {},
   "source": [
    "> An *inner product space E* is thus defined to be a vector space $E$ over the field $R$ of reals with an inner product - a real valued function $u \\cdot v$ of two vectors $u$ and $v$ - which is bilinear, symmetric, and positive definitive."
   ]
  },
  {
   "cell_type": "markdown",
   "metadata": {},
   "source": [
    "> The inner product is automatically a dual pairing of the space with itself. Hence each finite dimensional space with an inner product is isomorphic to its dual space - because each vector $v$ is also a linear function \"inner product with $v$\". Hence for *such* spaces one can drop the distinction between a space and its dual."
   ]
  },
  {
   "cell_type": "markdown",
   "metadata": {},
   "source": [
    "***\n"
   ]
  },
  {
   "cell_type": "markdown",
   "metadata": {},
   "source": [
    "## 6. Orthogonal Matrices"
   ]
  },
  {
   "cell_type": "markdown",
   "metadata": {},
   "source": [
    "> In a space with an inner product one has all the concepts of Euclidean geometry: One cand define spheres and rigid motions."
   ]
  },
  {
   "cell_type": "code",
   "execution_count": 17,
   "metadata": {},
   "outputs": [
    {
     "data": {
      "text/plain": [
       "array([[2, 0, 6],\n",
       "       [0, 1, 0],\n",
       "       [0, 0, 3]])"
      ]
     },
     "execution_count": 17,
     "metadata": {},
     "output_type": "execute_result"
    }
   ],
   "source": [
    "X = np.array(\n",
    "    [[2,\n",
    "      1,\n",
    "      3]]\n",
    ") # column vector\n",
    "\n",
    "A = np.array( # an orthogonal square matrix\n",
    "    [[1, 0, 2],\n",
    "     [0, 1, 0],\n",
    "     [0, 0, 1]]\n",
    ")\n",
    "\n",
    "A * X"
   ]
  },
  {
   "cell_type": "code",
   "execution_count": 18,
   "metadata": {},
   "outputs": [
    {
     "data": {
      "text/plain": [
       "array([[1, 0, 0],\n",
       "       [0, 1, 0],\n",
       "       [2, 0, 1]])"
      ]
     },
     "execution_count": 18,
     "metadata": {},
     "output_type": "execute_result"
    }
   ],
   "source": [
    "A.T # transpose reverses around the diagonal"
   ]
  },
  {
   "cell_type": "code",
   "execution_count": 19,
   "metadata": {},
   "outputs": [
    {
     "data": {
      "text/plain": [
       "array([[1, 0, 0],\n",
       "       [0, 1, 0],\n",
       "       [0, 0, 1]])"
      ]
     },
     "execution_count": 19,
     "metadata": {},
     "output_type": "execute_result"
    }
   ],
   "source": [
    "A * A.T # array multiplied by transpose is equal to identity"
   ]
  },
  {
   "cell_type": "code",
   "execution_count": 20,
   "metadata": {},
   "outputs": [
    {
     "data": {
      "text/plain": [
       "array([[1, 0, 0],\n",
       "       [0, 1, 0],\n",
       "       [0, 0, 1]])"
      ]
     },
     "execution_count": 20,
     "metadata": {},
     "output_type": "execute_result"
    }
   ],
   "source": [
    "A.T * A"
   ]
  },
  {
   "cell_type": "code",
   "execution_count": 21,
   "metadata": {},
   "outputs": [
    {
     "name": "stdout",
     "output_type": "stream",
     "text": [
      "True\n",
      "True\n"
     ]
    }
   ],
   "source": [
    "print(np.array_equal(A * A.T, np.identity(3)))\n",
    "print(np.array_equal(A.T * A, np.identity(3)))"
   ]
  },
  {
   "cell_type": "code",
   "execution_count": 22,
   "metadata": {},
   "outputs": [
    {
     "name": "stdout",
     "output_type": "stream",
     "text": [
      "-4.0\n",
      "-2.0\n",
      "0.0\n",
      "2.0\n",
      "4.0\n"
     ]
    }
   ],
   "source": [
    "# Calculating the determinant for various values in row 2, col 2\n",
    "\n",
    "B = np.array(\n",
    "    [[2, 3],\n",
    "     [2, 3]]\n",
    ")\n",
    "\n",
    "for x in range(1, 6):\n",
    "    B[1, 1] = x\n",
    "    print(np.linalg.det(B))"
   ]
  },
  {
   "cell_type": "code",
   "execution_count": 23,
   "metadata": {},
   "outputs": [
    {
     "data": {
      "text/plain": [
       "1.0"
      ]
     },
     "execution_count": 23,
     "metadata": {},
     "output_type": "execute_result"
    }
   ],
   "source": [
    "# Determinant of an orthogonal matrix\n",
    "\n",
    "C = np.array(\n",
    "    [[1, 3],\n",
    "     [0, 1]]\n",
    ")\n",
    "\n",
    "np.linalg.det(C)"
   ]
  },
  {
   "cell_type": "code",
   "execution_count": 24,
   "metadata": {},
   "outputs": [
    {
     "name": "stdout",
     "output_type": "stream",
     "text": [
      "x = -5.000000000000001\n",
      "y = -4.000000000000001\n",
      "z = 20.000000000000007\n"
     ]
    }
   ],
   "source": [
    "X = np.array(\n",
    "    [[1, 3],\n",
    "     [2, 1]]\n",
    ")\n",
    "\n",
    "Y = np.array(\n",
    "    [[1, 2],\n",
    "     [3, 2]]\n",
    ")\n",
    "\n",
    "Z = np.inner(X, Y)\n",
    "\n",
    "# The determinant of a product is the product of the determinants:\n",
    "print(\"x = \" + str(np.linalg.det(X)))\n",
    "print(\"y = \" + str(np.linalg.det(Y)))\n",
    "print(\"z = \" + str(np.linalg.det(Z)))"
   ]
  },
  {
   "cell_type": "code",
   "execution_count": 25,
   "metadata": {},
   "outputs": [
    {
     "name": "stdout",
     "output_type": "stream",
     "text": [
      "Original:\n",
      "[[1 4]\n",
      " [0 2]]\n",
      "\n",
      "45 degrees:\n",
      "[[3.53553391 2.12132034]\n",
      " [1.41421356 1.41421356]]\n",
      "\n",
      "90 degrees:\n",
      "[[ 4.0000000e+00 -1.0000000e+00]\n",
      " [ 2.0000000e+00  1.2246468e-16]]\n",
      "\n",
      "180 degrees:\n",
      "[[-1.0000000e+00 -4.0000000e+00]\n",
      " [ 2.4492936e-16 -2.0000000e+00]]\n",
      "\n",
      "360 degrees:\n",
      "[[-4.0000000e+00  1.0000000e+00]\n",
      " [-2.0000000e+00 -3.6739404e-16]]\n"
     ]
    }
   ],
   "source": [
    "from math import cos, sin, radians\n",
    "\n",
    "def A_theta(M, theta):\n",
    "    theta = radians(theta)\n",
    "    c, s = cos(theta), sin(theta)\n",
    "    return np.dot(M, np.array(\n",
    "        [[c, -s],\n",
    "         [s, c]]\n",
    "    ))\n",
    "\n",
    "X = np.array(\n",
    "    [[1, 4],\n",
    "     [0, 2]]\n",
    ")\n",
    "\n",
    "\n",
    "print(\"Original:\")\n",
    "print(X)\n",
    "print(\"\\n45 degrees:\")\n",
    "x1 = A_theta(X, 45)\n",
    "print(x1)\n",
    "print(\"\\n90 degrees:\")\n",
    "x2 = A_theta(X, 90)\n",
    "print(x2)\n",
    "print(\"\\n180 degrees:\")\n",
    "x3 = A_theta(X, 180)\n",
    "print(x3)\n",
    "print(\"\\n360 degrees:\")\n",
    "x4 = A_theta(X, 270)\n",
    "print(x4)"
   ]
  },
  {
   "cell_type": "code",
   "execution_count": 26,
   "metadata": {},
   "outputs": [
    {
     "data": {
      "image/png": "[encoded data removed]",
      "text/plain": [
       "<Figure size 432x288 with 1 Axes>"
      ]
     },
     "metadata": {
      "needs_background": "light"
     },
     "output_type": "display_data"
    }
   ],
   "source": [
    "fig, ax, plt = plot_create(plt)\n",
    "plt.plot(X[:, 0] , X[:, 1])\n",
    "plt.plot(x1[:, 0] , x1[:, 1])\n",
    "plt.plot(x2[:, 0] , x2[:, 1])\n",
    "plt.plot(x3[:, 0] , x3[:, 1])\n",
    "plt.plot(x4[:, 0] , x4[:, 1])\n",
    "plt.show()"
   ]
  },
  {
   "cell_type": "markdown",
   "metadata": {},
   "source": [
    "> The eigenvalues of an orthogonal matrix $A$ (and hence of an orthogonal transformation) are always complex numbers of absolute value 1."
   ]
  },
  {
   "cell_type": "markdown",
   "metadata": {},
   "source": [
    "> An orthogonal transformation may also be described as a rigid motion which leaves the origin (the vector 0) fixed. Just as in the plane, the most general rigid motiion of an *n*-dimensional inner produce space is an orthogonal transformation followed by a translation."
   ]
  },
  {
   "cell_type": "markdown",
   "metadata": {},
   "source": [
    "> To summarize, we see that the geometric ideas of space, transformation, and rigid motion extend naturally beyond two and three dimensions (and, for analysis, into infinite dimensions) and have an effective algebraic formalization by vector spaces, linear orthogonal transformations, and their representations by matrices."
   ]
  },
  {
   "cell_type": "markdown",
   "metadata": {},
   "source": [
    "***"
   ]
  },
  {
   "cell_type": "markdown",
   "metadata": {},
   "source": [
    "## 7. Adjoints"
   ]
  },
  {
   "cell_type": "markdown",
   "metadata": {},
   "source": [
    "The code below proves the following is true:\n",
    "\n",
    "$$\n",
    "(T^*v) \\cdot u = v \\cdot Tu\n",
    "$$"
   ]
  },
  {
   "cell_type": "code",
   "execution_count": 27,
   "metadata": {},
   "outputs": [
    {
     "data": {
      "text/plain": [
       "True"
      ]
     },
     "execution_count": 27,
     "metadata": {},
     "output_type": "execute_result"
    }
   ],
   "source": [
    "# Two vectors from vector space E\n",
    "v = np.array([1, 2, 3])\n",
    "u = np.array([3, 4, 3])\n",
    "\n",
    "# A linear transformation as square matrix\n",
    "T = np.array(\n",
    "    [[1, 2, 3],\n",
    "     [1, 2, 3],\n",
    "     [1, 2, 3]]\n",
    ")\n",
    "\n",
    "# Proof of the equality\n",
    "T.T.dot(v).dot(u)  == v.dot(T.dot(u))"
   ]
  },
  {
   "cell_type": "code",
   "execution_count": 28,
   "metadata": {},
   "outputs": [
    {
     "data": {
      "text/plain": [
       "array([[1, 1, 1],\n",
       "       [2, 2, 2],\n",
       "       [3, 3, 3]])"
      ]
     },
     "execution_count": 28,
     "metadata": {},
     "output_type": "execute_result"
    }
   ],
   "source": [
    "# The adjoint of T\n",
    "T.T"
   ]
  },
  {
   "cell_type": "code",
   "execution_count": 29,
   "metadata": {},
   "outputs": [
    {
     "data": {
      "text/plain": [
       "True"
      ]
     },
     "execution_count": 29,
     "metadata": {},
     "output_type": "execute_result"
    }
   ],
   "source": [
    "i = 0\n",
    "j = 1\n",
    "\n",
    "# Shows that the rule applies to individual dimensions of the matrix & vectors\n",
    "T[j].dot(u) == sum(u[:] * T[:, j])"
   ]
  },
  {
   "cell_type": "markdown",
   "metadata": {},
   "source": [
    "> In short, adjoint transformations have transposed matrices (relative to orthonormal bases). This is the intrinsic meaning of a transposed matrix."
   ]
  },
  {
   "cell_type": "markdown",
   "metadata": {},
   "source": [
    "> A linear endomorphism $T: E \\rightarrow E$ is *self-adjoint* when $T^* = T$; that is, when its matrix $A$ relative to any normal orthogonal basis is symmetric (equal to its transpose)."
   ]
  },
  {
   "cell_type": "code",
   "execution_count": 30,
   "metadata": {},
   "outputs": [
    {
     "data": {
      "text/plain": [
       "True"
      ]
     },
     "execution_count": 30,
     "metadata": {},
     "output_type": "execute_result"
    }
   ],
   "source": [
    "# T self-adjoint is symmetrical\n",
    "T = np.array(\n",
    "    [[1, 2, 3],\n",
    "     [2, 3, 4],\n",
    "     [3, 4, 5]]\n",
    ")\n",
    "\n",
    "np.array_equal(T, T.T)"
   ]
  },
  {
   "cell_type": "markdown",
   "metadata": {},
   "source": [
    "**Theorem.** All the eigenvalues of a self-adjoint $T: E \\rightarrow E$ are real."
   ]
  },
  {
   "cell_type": "markdown",
   "metadata": {},
   "source": [
    "## 8. The Principal Axis Theorem"
   ]
  },
  {
   "cell_type": "markdown",
   "metadata": {},
   "source": [
    "> **Theorem 1.** In an inner product space, each self-adjoint $T: E \\rightarrow E$ has a diagonal matrix relative to a suitable orthonormal basis of $E$."
   ]
  },
  {
   "cell_type": "markdown",
   "metadata": {},
   "source": [
    "The *principal axis theorem* can be stated in 2 ways:\n",
    "\n",
    "- matrix of a self adjoint transformation:\n",
    "    - \"For every real symmetric marix $A$ there is an orthogonal matrix $P$ with $P^{-1}AP$ diagonal\n",
    "- quadratic:\n",
    "    - \"For every real symmetric matrix $A$ there is an orthogonal matrix $P$ with $P^TAP$ diagonal"
   ]
  },
  {
   "cell_type": "markdown",
   "metadata": {},
   "source": [
    "A version of this theorem for infinite dimensions is called the *spectral theorem*; for complex numbers there is a similar theorem that works over *hermitian* matrices - those matrices equal to their conjugate transpose."
   ]
  },
  {
   "cell_type": "markdown",
   "metadata": {},
   "source": [
    "## 9. Bilinearity and Tensor Product"
   ]
  },
  {
   "cell_type": "markdown",
   "metadata": {},
   "source": [
    "> **Theorem 1.** Given two vector spaces $U$ and $V$ over a field $F$ there is a third vector space $U \\otimes V$ and a bilinear function\n",
    "\n",
    "$$\n",
    "\\otimes : U \\times V \\to U \\otimes V\n",
    "$$\n",
    "\n",
    "> with the following property: Whenever $B$ is a bilinear function (1) on $U$ and $V$ to any third space $W$ over $F$, there is a unique linear transformation $T: U \\otimes V \\to W$ such that\n",
    "\n",
    "$$\n",
    "B(u,v) = T(u \\otimes v)\n",
    "$$\n",
    "\n",
    "> holds for all vectors $u \\in U$ and $v \\in V$."
   ]
  },
  {
   "cell_type": "markdown",
   "metadata": {},
   "source": [
    "The dimension for the tensor product (of finite dimensional spaces) is:\n",
    "\n",
    "$$\n",
    "dim(U \\otimes V) = (dim  U)(dim  V)\n",
    "$$"
   ]
  },
  {
   "cell_type": "markdown",
   "metadata": {},
   "source": [
    "The tensor product allows for changing the field of scalars; for example, a real vector space whne multiplied by complex numbers will result in a complex field."
   ]
  },
  {
   "cell_type": "markdown",
   "metadata": {},
   "source": [
    "---"
   ]
  },
  {
   "cell_type": "markdown",
   "metadata": {},
   "source": [
    "## 10. Collapse by Quotients"
   ]
  },
  {
   "cell_type": "markdown",
   "metadata": {},
   "source": [
    "> If one wishes to ignore a particular vector $u_0$ and its multiples, one may map $V$ into a newly constructed space in which exactly the subspace consisting of these multiples is mapped to zero. For example, in cartesian 3-space the vertical projection onto the $x - y$ plane collapses exactly all the multiples of the unit $z$-vector."
   ]
  },
  {
   "cell_type": "markdown",
   "metadata": {},
   "source": [
    "This process works with any subspace $S$ of $V$ giving us:\n",
    "\n",
    "- $V/S$ = the *quotient space*\n",
    "- linear transformation $P:V \\rightarrow V/S$ with $P(S) = 0$\n",
    "\n",
    "& the following universal property:"
   ]
  },
  {
   "cell_type": "markdown",
   "metadata": {},
   "source": [
    "> Any linear transformation $T: V \\rightarrow W$ into a third vector space $W$ for which $T(S) = 0$ can be written as a composite $T = T' P$ for a unique linear transformation $T': V/S \\rightarrow W$ ..."
   ]
  },
  {
   "cell_type": "markdown",
   "metadata": {},
   "source": [
    "> [we may] ... collapse any given collection of vectors $s_1, ..., s_k$ of a space $V$ - simply take the subspace $S$ to be the set of all linear combinations $a_1s_1 + ... + a_ks_k$ of these vectors; that is, the subspace *spanned* by the $s_i$; clearly any transformation $T$ which maps all $s_i$ to zero must map to zero all of the subspace."
   ]
  },
  {
   "cell_type": "markdown",
   "metadata": {},
   "source": [
    "---"
   ]
  },
  {
   "cell_type": "markdown",
   "metadata": {},
   "source": [
    "## 11. Exterior Algebra and Differential Forms"
   ]
  },
  {
   "cell_type": "markdown",
   "metadata": {},
   "source": [
    "> Starting with $V$, the successive tensor products yield a string of vector spaces\n",
    "\n",
    "$$\n",
    "F, V, V \\otimes V, V \\otimes V \\otimes V, ...\n",
    "$$\n",
    "\n",
    "> Their elements are called (covariant) *tensors*; those in the *n*-fold tensor product *T_n* being tensors of *rank n* while (for completeness) the scalars in *F* count as tensors of rank 0."
   ]
  },
  {
   "cell_type": "markdown",
   "metadata": {},
   "source": [
    "> All these tensors, with these algebraic operations, form the so-called *tensor algebra T(V)* ... Technically, it is called a *graded* algebra; i.e., both a *graded* vector space and a *graded* ring (with grading by ranks) ..."
   ]
  },
  {
   "cell_type": "markdown",
   "metadata": {},
   "source": [
    "> For the graded algebra of differentials we need a product with $u \\otimes v = -v \\otimes u$ and $u \\otimes u = 0$. These identities do not hold i the tensor algebra $T(V)$. Hence we simply take the appropriate quotient of $T(V)$. This can be done by collapsing in $T(V)$ all the elements $t \\otimes t$ (for any tensor $t$ of positive rank) and all the multiples (left and right) of any such $t \\otimes t$ by another tensor. The resulting quotient algebra $E(V)$ is called the *exterior algebra* of $V$."
   ]
  },
  {
   "cell_type": "markdown",
   "metadata": {},
   "source": [
    "> For $u_1 = dx, u_2 = dy$, and $u_3 = dz$ and so $V = \\mathbb{R}^3$ this exterior algebra then does provide a formal setting for the calculations with differential forms in three variables (and similarly for higher dimensions!)."
   ]
  },
  {
   "cell_type": "markdown",
   "metadata": {},
   "source": [
    "---"
   ]
  },
  {
   "cell_type": "markdown",
   "metadata": {},
   "source": [
    "## 12. Similarity and Sums"
   ]
  },
  {
   "cell_type": "markdown",
   "metadata": {},
   "source": [
    "The central question of linear algebra:\n",
    "\n",
    "When do two square matrices represent the same linear endomorphism $T: V \\rightarrow V$, relative to possibly different bases?\n",
    "\n",
    "Or, given such a $T$, can one find a simplest matrix representation\n",
    "\n",
    "For Euclidean vector space & self-adjoint G the principal axis theorem tells us it is the diagonal matrix with real eigenvalues on the diagonal."
   ]
  },
  {
   "cell_type": "markdown",
   "metadata": {},
   "source": [
    "> A *module* over a ring *R* is an abelian group under addition with an operation $(a,v) \\mapsto av$ of multiplication for each element $v \\in M$ and each scalar *a* in *R* such that"
   ]
  },
  {
   "cell_type": "markdown",
   "metadata": {},
   "source": [
    "$$\n",
    "a(v + w) = av + aw, 1v = v.\n",
    "$$\n",
    "$$\n",
    "(a + b)v = av + bv, (ab)v = a(bv).\n",
    "$$"
   ]
  },
  {
   "cell_type": "markdown",
   "metadata": {},
   "source": [
    "> [these] ... module axioms are identical with those for a vector space over a field - except that now the scalars *a* in the ring *R* need not have multiplicative inverses, and the multiplication of two scalars need not be commutative."
   ]
  },
  {
   "cell_type": "markdown",
   "metadata": {},
   "source": [
    "> Given two modules *M* and *N* over the same ring *R* one can form their *direct sum* $M \\oplus N$, consisting of all ordered pairs of elements *(v, w)* with $v \\in M, w \\in N$, with the operations"
   ]
  },
  {
   "cell_type": "markdown",
   "metadata": {},
   "source": [
    "$$\n",
    "a_1(v_1, w_1) + a_2(v_2, w_2) = (a_1 v_1 + a_2 v_2, a_1 w_1 + a_2 w_2)\n",
    "$$"
   ]
  },
  {
   "cell_type": "markdown",
   "metadata": {},
   "source": [
    "> **Theorem.** If a module *M* over a principal ideal domain *D* is spanned by a finite number of its elements, then there is a number *r* and non-zero element $d_1, ..., d_k$ of *D*, each a multiple of the next, such that *M* is the direct sum\n",
    "\n",
    "$$\n",
    "M \\cong D \\oplus ... \\oplus D \\oplus D/(d_1) \\oplus ... \\oplus D/(d_k).\n",
    "$$\n",
    "\n",
    "> The integer *r* and the ideals (d_i) are uniquely determined by *M*."
   ]
  },
  {
   "cell_type": "markdown",
   "metadata": {},
   "source": [
    "> **Corollary.** For any linear endomorphism $T: V \\mapsto V$ of a finite dimensional vector space $V$ over a field $F$ there is a basis of $V$ in which the matrix of $T$ ... consists of companion matrices $C_1$ of polynomials $d_i \\in F[x]$ down the diagonal. Moreover, each $d_i$ is a multiple of $d_{i+1}, i = 1, ..., k -1$."
   ]
  },
  {
   "cell_type": "markdown",
   "metadata": {},
   "source": [
    "> **Corollary.** Any finitely generated abelian group *A* can be represented as a direct sum\n",
    "\n",
    "$$\n",
    "A = \\mathbb{Z} \\oplus ... \\oplus \\mathbb{Z} \\oplus \\mathbb{Z}/(m_1) \\oplus ... \\oplus \\mathbb{Z}/(m_k)\n",
    "$$\n",
    "\n",
    "> of a number *r* of infinite cyclic groups $Z$, plus cyclic groups of orders $m_1, m_2, ..., m_k$ where each $m_i$ is a multiple of $m_{i+1}, i = 1, ..., k -1$. The numbers *r* and $m_1, ..., m_k$ are invariants of $A$."
   ]
  },
  {
   "cell_type": "markdown",
   "metadata": {},
   "source": [
    "---"
   ]
  },
  {
   "cell_type": "markdown",
   "metadata": {},
   "source": [
    "## 13. Summary"
   ]
  },
  {
   "cell_type": "markdown",
   "metadata": {},
   "source": [
    "> In the presence of an inner product, the similarity problem for ... symmetric matrices can be solved by the use of eigenvectors and eigenvalues. In the general case, one of the canonical forms for matrices under similarity requires that vector spaces over a field be generalized to consider modules over a suitable ring.\n",
    "\n",
    "> Further developments of linear algebra, not summarized here, involve the same pattern - an interaction between geometry and analysis, leading to successive formal generalizations helpful in formulating and understanding aspects of linearity and its manifold uses, for linear approximations and analytic operations."
   ]
  }
 ],
 "metadata": {
  "kernelspec": {
   "display_name": "Python 3",
   "language": "python",
   "name": "python3"
  },
  "language_info": {
   "codemirror_mode": {
    "name": "ipython",
    "version": 3
   },
   "file_extension": ".py",
   "mimetype": "text/x-python",
   "name": "python",
   "nbconvert_exporter": "python",
   "pygments_lexer": "ipython3",
   "version": "3.7.6"
  }
 },
 "nbformat": 4,
 "nbformat_minor": 4
}

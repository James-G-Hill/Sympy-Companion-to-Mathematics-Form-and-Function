{
 "cells": [
  {
   "cell_type": "markdown",
   "metadata": {},
   "source": [
    "# XII: The Mathematical Network"
   ]
  },
  {
   "cell_type": "markdown",
   "metadata": {},
   "source": [
    "> ... the development of Mathematics provides a tightly connected network of formal rules, concepts, and systems. Nodes of this network are closely bound to procedures useful in human activities and to questions arising in science. The transition from activities to the formal Mathematical systems is guided by a variety of general insights and ideas. Within the formal network, new developments are stimulated and guided by conjectures, problems, abstractions, and the constant desire to understand more."
   ]
  },
  {
   "cell_type": "markdown",
   "metadata": {},
   "source": [
    "---"
   ]
  },
  {
   "cell_type": "markdown",
   "metadata": {},
   "source": [
    "## 1. The Formal"
   ]
  },
  {
   "cell_type": "markdown",
   "metadata": {},
   "source": [
    "> Axioms typify the formal, not just in geometry and arithmetic, but everywhere where they appear in Mathematics."
   ]
  },
  {
   "cell_type": "markdown",
   "metadata": {},
   "source": [
    "> The ultimate in formality would be the meticulous deduction of all Mathematical theorems from definitions in terms of sets and the Zermelo-Fraenkel axioms. This extreme is never done, but its potential presence serves to define the possible extent of formality."
   ]
  },
  {
   "cell_type": "markdown",
   "metadata": {},
   "source": [
    "> Some subjects in applied Mathematics do not contain any theorems or proofs of theorems; these subjects thus seem to escape an analysis of Mathematics as formal or formalizable. Thus the boundary lines between formal Mathematics and its applications are vague and movable."
   ]
  },
  {
   "cell_type": "markdown",
   "metadata": {},
   "source": [
    "The formal develops in many stages:\n",
    "\n",
    "- Rules of calculation (arithmetic, trigonometric identities).\n",
    "- Formulas for differentiation in the calculus\n",
    "- Rules for estimateion and approximation\n",
    "- Axiom systems for arithmetic and geometry\n",
    "- Rules for logical inference\n",
    "- Axioms for abstract algebraic and topological objects\n",
    "- Axioms for sets and topoi\n",
    "- The relentlessly full formalization of Mathematis"
   ]
  },
  {
   "cell_type": "markdown",
   "metadata": {},
   "source": [
    "> ... the formal is essential to Mathematics. Mathematics is not a scientific study of the facts but a developing analysis of the forms which underly the facts. It is not a science of time and space, but a formulation of the ideas needed to understand time, space, and motion. This understanding depends on ideas. The underlying ideas can be made precise and communicable only by being made formal ..."
   ]
  },
  {
   "cell_type": "markdown",
   "metadata": {},
   "source": [
    "---"
   ]
  },
  {
   "cell_type": "markdown",
   "metadata": {},
   "source": [
    "## 2. Ideas"
   ]
  },
  {
   "cell_type": "markdown",
   "metadata": {},
   "source": [
    "> Most of the formalizations in Mathematics are based on some underlying idea - an intuitive notion which gives guidance and purpose. It is not easy to give a precise description of the nature of an idea; indeed a deeper idea may be almost impossible to communicate and so may be recognized only after it has been embodied in some formulization. A number of the more general ideas of Mathematics are stimulated more or less directly by human activities."
   ]
  },
  {
   "cell_type": "markdown",
   "metadata": {},
   "source": [
    "> Our view that Mathematics is and must be formal is supplemented by the observation that each formalism rests on some underlying or leading idea. The reverse can also happen, as when geometric ideas are formulated so vaguely that they do not constitute a proof of the intended results."
   ]
  },
  {
   "cell_type": "markdown",
   "metadata": {},
   "source": [
    "---"
   ]
  },
  {
   "cell_type": "markdown",
   "metadata": {},
   "source": [
    "## 3. The Network"
   ]
  },
  {
   "cell_type": "markdown",
   "metadata": {},
   "source": [
    "> We cannot realistically constrain Mathematics to be a single formal system; instead we view Mathematics as an elaborate tightly connected network of formal systems, axiom systems, rules, and connections. The network is tied to many sources in human activities and scientific questions."
   ]
  },
  {
   "cell_type": "markdown",
   "metadata": {},
   "source": [
    "> The most basic subjects ... are tied closely to connections reaching outside of Mathematics. The primary ties are those to various human activities: Counting, measuring, moving, observing, changing, and others ... In some cases, these ties can also be regarded as connections not to activities, but to phenomena: Multitude (that which can be counted), extent (that which can be measured), motion (which can be observed), change (which again can be observed)."
   ]
  },
  {
   "cell_type": "markdown",
   "metadata": {},
   "source": [
    "> The subjects of Mathematics are also tied or connected to other parts of human knowledge, and most especially to various sciences ... The number of such connections between Mathematics and science is very great - and often these connections go to subjects which are in the \"middle\" of the network of Mathematics, and not just to the basic subjects at the edge of the network."
   ]
  },
  {
   "cell_type": "markdown",
   "metadata": {},
   "source": [
    "> ... subjects of Mathematics are *extracted* from the environment; that is, from activities, phenomena, or science - and that they are then later applied to that - or other - environments."
   ]
  },
  {
   "cell_type": "markdown",
   "metadata": {},
   "source": [
    "> Mathematics is not \"about\" human activity, phenomena, or science. It is about the extractions and formalization of ideas - and their manifold consequences."
   ]
  },
  {
   "cell_type": "markdown",
   "metadata": {},
   "source": [
    "---"
   ]
  },
  {
   "cell_type": "markdown",
   "metadata": {},
   "source": [
    "## 4. Subjects, Specialities, and Subdivisions"
   ]
  },
  {
   "cell_type": "markdown",
   "metadata": {},
   "source": [
    "5 traditional subject subdivisions:\n",
    "\n",
    "- Number Theory = described by subject matter\n",
    "- Algebra = described by its methods\n",
    "- Geometry = the science of space\n",
    "- Calculus = the science of variable quantities\n",
    "- Applied Mathematics = the study of particle & continuum dynamics (at first) "
   ]
  },
  {
   "cell_type": "markdown",
   "metadata": {},
   "source": [
    "---"
   ]
  },
  {
   "cell_type": "markdown",
   "metadata": {},
   "source": [
    "## 5. Problems"
   ]
  },
  {
   "cell_type": "markdown",
   "metadata": {},
   "source": [
    "> The development of Mathematics, as reflected in the multiplication of its subfields, is driven by various forces: Ideas arising from human activities, questions posed by science, and problems presented within Mathematics. Many research mathematicians think that the main guide to Mathematical research is the desire to solve specific Mathematical problems - not so much the smaller puzzle-type problems, but the major and famous Mathematical problems."
   ]
  },
  {
   "cell_type": "markdown",
   "metadata": {},
   "source": [
    "> ... problems, like theorems, are sometimes fruitful and sometimes not. Solving a supposedly famous problem is not necessarily a famous conribution to Mathematics. However, the emphasis on problems is an effective counterweight to the emphasis on structure and axiomatics in our description of Mathematics. They are an essential component in the dynamic."
   ]
  },
  {
   "cell_type": "markdown",
   "metadata": {},
   "source": [
    "---"
   ]
  },
  {
   "cell_type": "markdown",
   "metadata": {},
   "source": [
    "## 6. Understanding Mathematics"
   ]
  },
  {
   "cell_type": "markdown",
   "metadata": {},
   "source": [
    "- Analogies\n",
    "- Study of examples (a crucial specil case may be the key to a general theory)\n",
    "- Analysis of proofs\n",
    "- Shift of attention\n",
    "- Invariant formulation"
   ]
  },
  {
   "cell_type": "markdown",
   "metadata": {},
   "source": [
    "---"
   ]
  },
  {
   "cell_type": "markdown",
   "metadata": {},
   "source": [
    "## 7. Generalization and Abstraction"
   ]
  },
  {
   "cell_type": "markdown",
   "metadata": {},
   "source": [
    "> Generalization and abstraction, though closely related, are best distinguished. A \"generalization\" is intended to subsume all the prior instances under some common view which includes the major properties of all those instances. An \"abstraction\" is intended to pick out certain central aspects of the prior instances, and to free them from aspects extraneous to the purpose at hand. Thus abstraction is likely to lead to the description and analysis of new and more austere or more \"abstract\" mathematical concepts."
   ]
  },
  {
   "cell_type": "markdown",
   "metadata": {},
   "source": [
    "**Generalization.**\n",
    "\n",
    "- Generelization from cases\n",
    "- Generalization by analogous steps\n",
    "- Generalization by modification"
   ]
  },
  {
   "cell_type": "markdown",
   "metadata": {},
   "source": [
    "**Abstraction.**\n",
    "\n",
    "- Abstraction by deletion\n",
    "- Abstraction by analogy\n",
    "- Abstraction by shift of attention"
   ]
  },
  {
   "cell_type": "markdown",
   "metadata": {},
   "source": [
    "---"
   ]
  },
  {
   "cell_type": "markdown",
   "metadata": {},
   "source": [
    "## 8. Novelty"
   ]
  },
  {
   "cell_type": "markdown",
   "metadata": {},
   "source": [
    "> We have seen that problems, generalizations, abstraction and just plain curiosity are some of the forces driving the development of the Mathematicl network. But this network is also tied to a variety of human and scientific activities; thus questions so arising can be important sources of novel Mathematics. Historically, projective geometry was started in part by considerations of practical perspective, while Fourier's study of heat led to his series, so widely useful."
   ]
  },
  {
   "cell_type": "markdown",
   "metadata": {},
   "source": [
    "> It can turn out that an apparently attractive new idea is not really fruitful or releeant, or it can turn out that a proposed new abstract concept or formalization is just too umbersome or too peripheral to be productive. On the other hand, some new formal concepts can be of central subsequent importance. What really matters is the role of the concepts in the network of Mathematical form."
   ]
  },
  {
   "cell_type": "markdown",
   "metadata": {},
   "source": [
    "---"
   ]
  },
  {
   "cell_type": "markdown",
   "metadata": {},
   "source": [
    "## 9. Is Mathematics True?"
   ]
  },
  {
   "cell_type": "markdown",
   "metadata": {},
   "source": [
    "Rather than ask 'is Mathematics true?' we should instead ask:\n",
    "\n",
    "- Is this piece of Mathematics correct?\n",
    "- Is this piece of Mathematics responsive?\n",
    "- Is this piece of Mathematics illuminating?\n",
    "- Is this piece of Mathematics promising?\n",
    "- Is this piece of Mathematics relevant?"
   ]
  },
  {
   "cell_type": "markdown",
   "metadata": {},
   "source": [
    "> Mathematics is not literally a science because its results cannot be falsified by fact or experiment. Therefore the question \"Is Mathematics true?\" is out of place."
   ]
  },
  {
   "cell_type": "markdown",
   "metadata": {},
   "source": [
    "> *Question III.* How can one account for the unreasonable effectiveness of Mathematics in providing models for science and knowledge?\n",
    "\n",
    "1. Various phenomena have underlying similarities and regularities.\n",
    "2. Mankind has developed \"ideas\" about such phenomena giving a conceptual description of these similarities and regularities.\n",
    "3. Formal statements about these conceptual descriptions can be connected with each other.\n",
    "4. Proofs of these formal statements fit a variety of facts due to the similarities & regularities between phenomena."
   ]
  },
  {
   "cell_type": "markdown",
   "metadata": {},
   "source": [
    "> On our view, the rules, axioms, and definitions of Mathematics are indeed formal, but they were initially chosen in the light of various human activities and scientific phenomena, and then extensively developed to improve understanding. There is therefore reason to expect that the results might be applicable in return, at least to the original phenomena. But the resulting application is often to other and different phenomena!"
   ]
  },
  {
   "cell_type": "markdown",
   "metadata": {},
   "source": [
    "> The world has many underlying regularities which, once extracted, can be analysed and understood by Mathematical form. Because it is formal, the same Mathematical notions can apply to widely different phenomena."
   ]
  },
  {
   "cell_type": "markdown",
   "metadata": {},
   "source": [
    "> Mathematics has been described here as a formal development of ideas suggested by phenomena. Some portions of this description apply to other sciences, notably to Theoretical Physics. These, too, make considerable use of models and forms - and hence of Mathematics. There however, one develops only the forms that seem to be useful in fitting a specific type of phenomena. If it turns out that they don't fit, they are discarded. In Mathematics, one pursues the forms whichever they may lead."
   ]
  },
  {
   "cell_type": "markdown",
   "metadata": {},
   "source": [
    "Note:\n",
    "\n",
    "Human minds have been able to recognise obvious similarities between phenomena & logiclly build upon those similarities; over time this has developed a Mathematical language that can then be applied to other fields (physics, then chemistry, then biology, linguistics, etc.)  Deeper similarities however may be out of reach of human calculation. Geometry then mechanics were the lowest lying fruit which can be formlised through careful observation of the natural world.\n",
    "\n",
    "Computers however allow a calulation intense process of uncovering such phenomena. Artificial intelligence is the application of machinery to the uncovering of regularities between phenomena. Currently however the similarities are rarely transferable between different highly varying types of phenomena."
   ]
  },
  {
   "cell_type": "markdown",
   "metadata": {},
   "source": [
    "---"
   ]
  },
  {
   "cell_type": "markdown",
   "metadata": {},
   "source": [
    "## 10. Platonism"
   ]
  },
  {
   "cell_type": "markdown",
   "metadata": {},
   "source": [
    "There are 4 types of Platonism in Mathematics:\n",
    "\n",
    "- methodological (mythological) Platonism - treating math objecst as if they exist\n",
    "- ontological Platonism - math objects exist\n",
    "- epistemological Platonism - knowledge of math objects based upon acquaintance\n",
    "- realists - math objects exist independently of us"
   ]
  },
  {
   "cell_type": "markdown",
   "metadata": {},
   "source": [
    "> ... save for mythology, all the variants of Platonism shatter on the actual practise of Mathematics."
   ]
  },
  {
   "cell_type": "markdown",
   "metadata": {},
   "source": [
    "---"
   ]
  },
  {
   "cell_type": "markdown",
   "metadata": {},
   "source": [
    "## 11. Preferred Directions for Research"
   ]
  },
  {
   "cell_type": "markdown",
   "metadata": {},
   "source": [
    "Directions of Mathematical research:\n",
    "\n",
    "- extracting ideas & problems from the environment\n",
    "- formulating ideas\n",
    "- solving externally posed problems\n",
    "- establishing new connections between Mathematical concepts\n",
    "- rigorous formulation of concepts\n",
    "- further development of concepts\n",
    "- solving internal Mathematical problems\n",
    "- formulating new conjectures and problems\n",
    "- understanding aspects of all of the above"
   ]
  },
  {
   "cell_type": "markdown",
   "metadata": {},
   "source": [
    "---"
   ]
  },
  {
   "cell_type": "markdown",
   "metadata": {},
   "source": [
    "## 12. Summary"
   ]
  },
  {
   "cell_type": "markdown",
   "metadata": {},
   "source": [
    "**Origin**\n",
    "\n",
    "The origin of Mathematics is in practises which develop in various human activities, leading to procedures, to ideas, and then to formal rules."
   ]
  },
  {
   "cell_type": "markdown",
   "metadata": {},
   "source": [
    "**Organization**\n",
    "\n",
    "> ... once Mathematics is recognized for what it is, the study of ideas expressed by form, it acquires a wide variety of branches and subfields, some characterized by the objects exhibited. Since the same form can have many exemplars, there can be many close connections between different subfields."
   ]
  },
  {
   "cell_type": "markdown",
   "metadata": {},
   "source": [
    "**Formalization**\n",
    "\n",
    "> How are the forms in Mathematics derived? Some are suggested by the facts, but they become forms only when extracted from the facts, next considered vaguely as ideas and then finally pinned down by meticulous definitions or axioms. Other Mathematical forms are abstracted from more elaborate pieces of Mathematics, in order to better to understand those pieces."
   ]
  },
  {
   "cell_type": "markdown",
   "metadata": {},
   "source": [
    "**Dynamics**\n",
    "\n",
    "> ... the desire to understand is the most important dynamic for the advance of Mathematics."
   ]
  },
  {
   "cell_type": "markdown",
   "metadata": {},
   "source": [
    "**Foundations**\n",
    "\n",
    "> Mathematics has access to absolute rigor - because it is about form and not about fact. However, there is no single and absolute foundation for Mathematics. Any such fixed foundation would preclude novelty which might result from the discovery of new form. A form is any development which proceeds by rule rather than by appeal to fact as to meaning."
   ]
  },
  {
   "cell_type": "markdown",
   "metadata": {},
   "source": [
    "> our study has revealed Mathematics as an array of forms, codifying ideas extracted from human activities and scientific problems and deployed in a network of formal rules, formal definitions, formal axiom systems, explicit theorems with their careful proof and the manifold interconnections of these forms."
   ]
  },
  {
   "cell_type": "markdown",
   "metadata": {},
   "source": [
    "> ... Mathematics aims to understand, to manipulate, to deelop, and to apply those aspects of the universe which are formal. This view, as expounded in this book, might be called *formal functionalism*."
   ]
  }
 ],
 "metadata": {
  "kernelspec": {
   "display_name": "Python 3.7.6 64-bit ('general': venv)",
   "language": "python",
   "name": "python37664bitgeneralvenvc2d9acb89c424f2c84cf1f305e4c11aa"
  },
  "language_info": {
   "codemirror_mode": {
    "name": "ipython",
    "version": 3
   },
   "file_extension": ".py",
   "mimetype": "text/x-python",
   "name": "python",
   "nbconvert_exporter": "python",
   "pygments_lexer": "ipython3",
   "version": "3.7.6"
  }
 },
 "nbformat": 4,
 "nbformat_minor": 4
}
